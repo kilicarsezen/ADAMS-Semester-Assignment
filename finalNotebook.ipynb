{
 "cells": [
  {
   "cell_type": "markdown",
   "metadata": {
    "colab_type": "text",
    "id": "DFLJTte-DH3e"
   },
   "source": [
    "**Table of Contents**\n",
    "\n",
    "\n",
    "          1.   Introduction and Solution Approach\n",
    "          2.   Explanatory Data Analysis\n",
    "          3.   Traning Models with only Tabular Data\n",
    "                3.1. Logistic Regression\n",
    "                3.2. Linear Regression\n",
    "                3.3. Neural Network\n",
    "          4.   Textual Data Analysis and Cleaning\n",
    "          5.   Training Models with only Textual Data\n",
    "          6.   Traning Model with mixed input \n",
    "          7.   Conclusion\n",
    "\n",
    "\n",
    "\n",
    "\n",
    "\n",
    "\n",
    "\n",
    "\n",
    "\n"
   ]
  },
  {
   "cell_type": "markdown",
   "metadata": {
    "colab_type": "text",
    "id": "BMuIgzjNGNSq"
   },
   "source": [
    "**INTRODUCTION AND SOLUTION APPROACH**\n",
    "\n",
    "In this notebook, a mixed input neural network model is introduced to predict the number of claps that a given medium post can get. There are several points that make the modelling of this problem challenging. First of all, in addition to the textual data(namely medium posts), there are bunch of other attributes belonging to the corresponding medium post. These two different variable sets should be included in the prediction model. Secondly, the provided training and test sets have different attribute set, which means that the one data set has to be converted to the other one. Thirdly, the target variable has too many zeros that it is not possible to approximate it to normal distribution by using a conversion technique. \n",
    "\n",
    "In order to overcome the first problem, keras functional API was used to combine different type of input sets. For the second point, more data is needed to be scrapped from medium.com. Therefore only the attributes in training set which also exist in the test set are used in the modelling. The third problem is solved by using a two step prediction approach. In the first step, a binary classification is performed to predict if the target variable is zero or higher than zero. In the second step, if the predcited target variable in the first step is not zero, then a regression model is used to predict the value of it. \n",
    "\n",
    "This notebook is organized as follows: In the first section, EDA, outlier handling and one hot encoding are carried out. As a next step, prediction models which use only tabular data as input are built. Thehese prediction models are used as a benchmark. The second section starts with the text data cleaning and tokenizing. Afterwards, an LSTM network is used to predict the target by using only the text data. In the third section, a deep learning model which uses both tabular and textual data to predict the target variable. \n"
   ]
  },
  {
   "cell_type": "code",
   "execution_count": 1,
   "metadata": {
    "colab": {
     "base_uri": "https://localhost:8080/",
     "height": 284
    },
    "colab_type": "code",
    "id": "3OX_OJsN8ow7",
    "outputId": "74416499-bdd4-44e8-87bc-fe80a2e74722"
   },
   "outputs": [
    {
     "name": "stderr",
     "output_type": "stream",
     "text": [
      "/usr/local/lib/python3.6/dist-packages/statsmodels/tools/_testing.py:19: FutureWarning: pandas.util.testing is deprecated. Use the functions in the public API at pandas.testing instead.\n",
      "  import pandas.util.testing as tm\n"
     ]
    },
    {
     "name": "stdout",
     "output_type": "stream",
     "text": [
      "Requirement already satisfied: nltk in /usr/local/lib/python3.6/dist-packages (3.2.5)\n",
      "Requirement already satisfied: six in /usr/local/lib/python3.6/dist-packages (from nltk) (1.15.0)\n",
      "[nltk_data] Downloading package averaged_perceptron_tagger to\n",
      "[nltk_data]     /root/nltk_data...\n",
      "[nltk_data]   Package averaged_perceptron_tagger is already up-to-\n",
      "[nltk_data]       date!\n",
      "[nltk_data] Downloading package punkt to /root/nltk_data...\n",
      "[nltk_data]   Package punkt is already up-to-date!\n",
      "[nltk_data] Downloading package stopwords to /root/nltk_data...\n",
      "[nltk_data]   Package stopwords is already up-to-date!\n",
      "[nltk_data] Downloading package wordnet to /root/nltk_data...\n",
      "[nltk_data]   Package wordnet is already up-to-date!\n",
      "Requirement already satisfied: afinn in /usr/local/lib/python3.6/dist-packages (0.1)\n"
     ]
    }
   ],
   "source": [
    "import pandas as pd\n",
    "import matplotlib.pyplot as plt\n",
    "import seaborn as sns\n",
    "import numpy as np\n",
    "from sklearn.model_selection import train_test_split\n",
    "#Text data cleaning\n",
    "!pip install nltk\n",
    "import nltk\n",
    "nltk.download('averaged_perceptron_tagger')\n",
    "nltk.download('punkt')\n",
    "nltk.download('stopwords')\n",
    "nltk.download('wordnet')\n",
    "from nltk.tokenize import word_tokenize\n",
    "from nltk.corpus import stopwords\n",
    "from nltk.stem import WordNetLemmatizer\n",
    "from nltk.corpus import wordnet\n",
    "from nltk.tokenize import RegexpTokenizer\n",
    "import re\n",
    "from bs4 import BeautifulSoup\n",
    "\n",
    "#Lexicon Sentiment Analysis\n",
    "!pip install afinn\n",
    "from afinn import Afinn\n",
    "\n",
    "#Embeddings\n",
    "from gensim.models import Word2Vec    \n",
    "\n",
    "#Tokenizing text and squential model api\n",
    "from nltk.tokenize.treebank import TreebankWordDetokenizer\n",
    "from keras.preprocessing.text import Tokenizer\n",
    "from keras.preprocessing.sequence import pad_sequences\n",
    "from keras.models import Sequential\n",
    "from keras.layers import Dense, Embedding,GRU, Dropout\n",
    "from keras.layers.embeddings import Embedding\n",
    "from keras.initializers import Constant"
   ]
  },
  {
   "cell_type": "code",
   "execution_count": 2,
   "metadata": {
    "colab": {
     "base_uri": "https://localhost:8080/",
     "height": 35
    },
    "colab_type": "code",
    "id": "kEK8CyeUVKaQ",
    "outputId": "e2b90b93-fb59-42d6-f9a2-26649345ca10"
   },
   "outputs": [
    {
     "name": "stdout",
     "output_type": "stream",
     "text": [
      "Drive already mounted at /content/drive; to attempt to forcibly remount, call drive.mount(\"/content/drive\", force_remount=True).\n"
     ]
    }
   ],
   "source": [
    "# Create a global variable to idicate whether the notebook is run in Colab\n",
    "import sys\n",
    "IN_COLAB = 'google.colab' in sys.modules\n",
    "\n",
    "\n",
    "# Configure variables pointing to directories and stored files \n",
    "if IN_COLAB:\n",
    "    # Mount Google-Drive\n",
    "    from google.colab import drive\n",
    "    drive.mount('/content/drive')\n",
    "    DATA_DIR = '/content/drive/My Drive/Colab_Data_Files/' # adjust to Google drive folder with the data if applicable\n",
    "else:\n",
    "    DATA_DIR = '../../data/' # adjust to the directory where data is stored on your machine (if running the notebook locally)\n",
    "\n",
    "Train = 'Train.csv'\n",
    "Test = 'Test.csv'"
   ]
  },
  {
   "cell_type": "code",
   "execution_count": 3,
   "metadata": {
    "colab": {},
    "colab_type": "code",
    "id": "NirBR5ru9CfV"
   },
   "outputs": [],
   "source": [
    "#Read datasets from google drive\n",
    "train_1=pd.read_csv(DATA_DIR + Train, sep=',',encoding='utf-8')\n",
    "test_1=pd.read_csv(DATA_DIR + Test, sep=',',encoding='utf-8')"
   ]
  },
  {
   "cell_type": "code",
   "execution_count": null,
   "metadata": {
    "colab": {},
    "colab_type": "code",
    "id": "MAS6BFR5EeUA"
   },
   "outputs": [],
   "source": [
    "train_1.head()"
   ]
  },
  {
   "cell_type": "markdown",
   "metadata": {
    "colab_type": "text",
    "id": "R9rACXLZ7v7Z"
   },
   "source": [
    "Some rows of the training data belong to the same medium post. I will drop the duplicates based on URL. I store the resulting table in train_orj because I want to keep original data same in order to avoid reading the training set from drive. "
   ]
  },
  {
   "cell_type": "code",
   "execution_count": 5,
   "metadata": {
    "colab": {
     "base_uri": "https://localhost:8080/",
     "height": 35
    },
    "colab_type": "code",
    "id": "ZPr_7dxZz8hA",
    "outputId": "013d32be-fbfa-4b05-f4bb-0ce15ffc8c5f"
   },
   "outputs": [
    {
     "data": {
      "text/plain": [
       "(72337, 50)"
      ]
     },
     "execution_count": 5,
     "metadata": {
      "tags": []
     },
     "output_type": "execute_result"
    }
   ],
   "source": [
    "#removal of duplicate observations\n",
    "train_2=train_1.drop_duplicates(subset=['url'])\n",
    "train_2=train_2.reset_index(drop=True) \n",
    "train_2.shape"
   ]
  },
  {
   "cell_type": "markdown",
   "metadata": {
    "colab_type": "text",
    "id": "2utSWRuXWWD6"
   },
   "source": [
    "**TABULAR DATA EXPLANATORY ANALYSIS**\n",
    "\n",
    "In this section, I am analyzing the columns which don't contain textual data. The main challange is deciding which training columns to choose so that the resulting attribute set can be obtained from test set as well. \n",
    "I first get a general view of training and test set. The common attributes are author, responsesCreatedCount (responses), title(header), text, wordCount(length), and some of the publication details. "
   ]
  },
  {
   "cell_type": "code",
   "execution_count": 6,
   "metadata": {
    "colab": {
     "base_uri": "https://localhost:8080/",
     "height": 1000
    },
    "colab_type": "code",
    "id": "1j8KJD1JbMg-",
    "outputId": "2da0e82e-17b2-4ffb-f4ef-d0afebc82991"
   },
   "outputs": [
    {
     "name": "stdout",
     "output_type": "stream",
     "text": [
      "audioVersionDurationSec            0\n",
      "codeBlock                      65973\n",
      "codeBlockCount                     0\n",
      "collectionId                   38546\n",
      "createdDate                        0\n",
      "createdDatetime                    0\n",
      "firstPublishedDate                 0\n",
      "firstPublishedDatetime             0\n",
      "imageCount                         0\n",
      "isSubscriptionLocked               0\n",
      "language                           0\n",
      "latestPublishedDate                0\n",
      "latestPublishedDatetime            0\n",
      "linksCount                         0\n",
      "postId                             0\n",
      "readingTime                        0\n",
      "recommends                         0\n",
      "responsesCreatedCount              0\n",
      "socialRecommendsCount              0\n",
      "subTitle                        2318\n",
      "tagsCount                          0\n",
      "text                               0\n",
      "title                              1\n",
      "totalClapCount                     0\n",
      "uniqueSlug                         0\n",
      "updatedDate                        0\n",
      "updatedDatetime                    0\n",
      "url                                0\n",
      "vote                               0\n",
      "wordCount                          0\n",
      "publicationdescription         38707\n",
      "publicationdomain              59665\n",
      "publicationfacebookPageName    47961\n",
      "publicationfollowerCount       72337\n",
      "publicationname                38707\n",
      "publicationpublicEmail         47502\n",
      "publicationslug                38707\n",
      "publicationtags                40678\n",
      "publicationtwitterUsername     43335\n",
      "tag_name                           0\n",
      "slug                               0\n",
      "name                               0\n",
      "postCount                          0\n",
      "author                             0\n",
      "bio                            16062\n",
      "userId                             0\n",
      "userName                           0\n",
      "usersFollowedByCount               0\n",
      "usersFollowedCount                 0\n",
      "scrappedDate                       0\n",
      "dtype: int64\n"
     ]
    },
    {
     "data": {
      "text/html": [
       "<div>\n",
       "<style scoped>\n",
       "    .dataframe tbody tr th:only-of-type {\n",
       "        vertical-align: middle;\n",
       "    }\n",
       "\n",
       "    .dataframe tbody tr th {\n",
       "        vertical-align: top;\n",
       "    }\n",
       "\n",
       "    .dataframe thead th {\n",
       "        text-align: right;\n",
       "    }\n",
       "</style>\n",
       "<table border=\"1\" class=\"dataframe\">\n",
       "  <thead>\n",
       "    <tr style=\"text-align: right;\">\n",
       "      <th></th>\n",
       "      <th>audioVersionDurationSec</th>\n",
       "      <th>codeBlock</th>\n",
       "      <th>codeBlockCount</th>\n",
       "      <th>collectionId</th>\n",
       "      <th>createdDate</th>\n",
       "      <th>createdDatetime</th>\n",
       "      <th>firstPublishedDate</th>\n",
       "      <th>firstPublishedDatetime</th>\n",
       "      <th>imageCount</th>\n",
       "      <th>isSubscriptionLocked</th>\n",
       "      <th>language</th>\n",
       "      <th>latestPublishedDate</th>\n",
       "      <th>latestPublishedDatetime</th>\n",
       "      <th>linksCount</th>\n",
       "      <th>postId</th>\n",
       "      <th>readingTime</th>\n",
       "      <th>recommends</th>\n",
       "      <th>responsesCreatedCount</th>\n",
       "      <th>socialRecommendsCount</th>\n",
       "      <th>subTitle</th>\n",
       "      <th>tagsCount</th>\n",
       "      <th>text</th>\n",
       "      <th>title</th>\n",
       "      <th>totalClapCount</th>\n",
       "      <th>uniqueSlug</th>\n",
       "      <th>updatedDate</th>\n",
       "      <th>updatedDatetime</th>\n",
       "      <th>url</th>\n",
       "      <th>vote</th>\n",
       "      <th>wordCount</th>\n",
       "      <th>publicationdescription</th>\n",
       "      <th>publicationdomain</th>\n",
       "      <th>publicationfacebookPageName</th>\n",
       "      <th>publicationfollowerCount</th>\n",
       "      <th>publicationname</th>\n",
       "      <th>publicationpublicEmail</th>\n",
       "      <th>publicationslug</th>\n",
       "      <th>publicationtags</th>\n",
       "      <th>publicationtwitterUsername</th>\n",
       "      <th>tag_name</th>\n",
       "      <th>slug</th>\n",
       "      <th>name</th>\n",
       "      <th>postCount</th>\n",
       "      <th>author</th>\n",
       "      <th>bio</th>\n",
       "      <th>userId</th>\n",
       "      <th>userName</th>\n",
       "      <th>usersFollowedByCount</th>\n",
       "      <th>usersFollowedCount</th>\n",
       "      <th>scrappedDate</th>\n",
       "    </tr>\n",
       "  </thead>\n",
       "  <tbody>\n",
       "    <tr>\n",
       "      <th>count</th>\n",
       "      <td>72337.000000</td>\n",
       "      <td>6364</td>\n",
       "      <td>72337.000000</td>\n",
       "      <td>33791</td>\n",
       "      <td>72337</td>\n",
       "      <td>72337</td>\n",
       "      <td>72337</td>\n",
       "      <td>72337</td>\n",
       "      <td>72337.000000</td>\n",
       "      <td>72337</td>\n",
       "      <td>72337</td>\n",
       "      <td>72337</td>\n",
       "      <td>72337</td>\n",
       "      <td>72337.000000</td>\n",
       "      <td>72337</td>\n",
       "      <td>72337.000000</td>\n",
       "      <td>72337.000000</td>\n",
       "      <td>72337.000000</td>\n",
       "      <td>72337.000000</td>\n",
       "      <td>70019</td>\n",
       "      <td>72337.000000</td>\n",
       "      <td>72337</td>\n",
       "      <td>72336</td>\n",
       "      <td>72337.000000</td>\n",
       "      <td>72337</td>\n",
       "      <td>72337</td>\n",
       "      <td>72337</td>\n",
       "      <td>72337</td>\n",
       "      <td>72337</td>\n",
       "      <td>72337.000000</td>\n",
       "      <td>33630</td>\n",
       "      <td>12672</td>\n",
       "      <td>24376</td>\n",
       "      <td>0.0</td>\n",
       "      <td>33630</td>\n",
       "      <td>24835</td>\n",
       "      <td>33630</td>\n",
       "      <td>31659</td>\n",
       "      <td>29002</td>\n",
       "      <td>72337</td>\n",
       "      <td>72337</td>\n",
       "      <td>72337</td>\n",
       "      <td>72337.000000</td>\n",
       "      <td>72337</td>\n",
       "      <td>56275</td>\n",
       "      <td>72337</td>\n",
       "      <td>72337</td>\n",
       "      <td>72337.000000</td>\n",
       "      <td>72337.000000</td>\n",
       "      <td>72337.0</td>\n",
       "    </tr>\n",
       "    <tr>\n",
       "      <th>unique</th>\n",
       "      <td>NaN</td>\n",
       "      <td>6230</td>\n",
       "      <td>NaN</td>\n",
       "      <td>6527</td>\n",
       "      <td>741</td>\n",
       "      <td>72209</td>\n",
       "      <td>610</td>\n",
       "      <td>71406</td>\n",
       "      <td>NaN</td>\n",
       "      <td>2</td>\n",
       "      <td>52</td>\n",
       "      <td>577</td>\n",
       "      <td>72158</td>\n",
       "      <td>NaN</td>\n",
       "      <td>72337</td>\n",
       "      <td>NaN</td>\n",
       "      <td>NaN</td>\n",
       "      <td>NaN</td>\n",
       "      <td>NaN</td>\n",
       "      <td>65673</td>\n",
       "      <td>NaN</td>\n",
       "      <td>72024</td>\n",
       "      <td>70275</td>\n",
       "      <td>NaN</td>\n",
       "      <td>72337</td>\n",
       "      <td>431</td>\n",
       "      <td>71827</td>\n",
       "      <td>72337</td>\n",
       "      <td>2</td>\n",
       "      <td>NaN</td>\n",
       "      <td>6506</td>\n",
       "      <td>1062</td>\n",
       "      <td>3836</td>\n",
       "      <td>NaN</td>\n",
       "      <td>6507</td>\n",
       "      <td>5035</td>\n",
       "      <td>6512</td>\n",
       "      <td>5697</td>\n",
       "      <td>4861</td>\n",
       "      <td>3874</td>\n",
       "      <td>3874</td>\n",
       "      <td>3874</td>\n",
       "      <td>NaN</td>\n",
       "      <td>31021</td>\n",
       "      <td>22352</td>\n",
       "      <td>31317</td>\n",
       "      <td>31317</td>\n",
       "      <td>NaN</td>\n",
       "      <td>NaN</td>\n",
       "      <td>NaN</td>\n",
       "    </tr>\n",
       "    <tr>\n",
       "      <th>top</th>\n",
       "      <td>NaN</td>\n",
       "      <td>Recommend &amp; share..\\n</td>\n",
       "      <td>NaN</td>\n",
       "      <td>7f60cf5620c9</td>\n",
       "      <td>2018-08-27</td>\n",
       "      <td>2018-02-27 22:18:17</td>\n",
       "      <td>2018-08-27</td>\n",
       "      <td>2018-01-01 00:00:00</td>\n",
       "      <td>NaN</td>\n",
       "      <td>False</td>\n",
       "      <td>en</td>\n",
       "      <td>2018-06-05</td>\n",
       "      <td>2018-05-25 18:01:01</td>\n",
       "      <td>NaN</td>\n",
       "      <td>1d18bb78f35b</td>\n",
       "      <td>NaN</td>\n",
       "      <td>NaN</td>\n",
       "      <td>NaN</td>\n",
       "      <td>NaN</td>\n",
       "      <td>Introduction</td>\n",
       "      <td>NaN</td>\n",
       "      <td>Learn Colors for Children with Little Monsters...</td>\n",
       "      <td>10 new things to read in AI</td>\n",
       "      <td>NaN</td>\n",
       "      <td>paper-review-of-zfnet-the-winner-of-ilsvlc-201...</td>\n",
       "      <td>2018-06-20</td>\n",
       "      <td>2018-05-14 09:47:03</td>\n",
       "      <td>https://medium.com/s/story/ten-from-the-weeken...</td>\n",
       "      <td>False</td>\n",
       "      <td>NaN</td>\n",
       "      <td>Sharing concepts, ideas, and codes.</td>\n",
       "      <td>towardsdatascience.com</td>\n",
       "      <td>towardsdatascience</td>\n",
       "      <td>NaN</td>\n",
       "      <td>Towards Data Science</td>\n",
       "      <td>stories@amipublications.com</td>\n",
       "      <td>towards-data-science</td>\n",
       "      <td>DATA SCIENCE,MACHINE LEARNING,ARTIFICIAL INTEL...</td>\n",
       "      <td>TDataScience</td>\n",
       "      <td>Machine Learning</td>\n",
       "      <td>machine-learning</td>\n",
       "      <td>Machine Learning</td>\n",
       "      <td>NaN</td>\n",
       "      <td>Synced</td>\n",
       "      <td>AI Technology &amp; Industry Review - www.syncedre...</td>\n",
       "      <td>960feca52112</td>\n",
       "      <td>Synced</td>\n",
       "      <td>NaN</td>\n",
       "      <td>NaN</td>\n",
       "      <td>NaN</td>\n",
       "    </tr>\n",
       "    <tr>\n",
       "      <th>freq</th>\n",
       "      <td>NaN</td>\n",
       "      <td>47</td>\n",
       "      <td>NaN</td>\n",
       "      <td>3836</td>\n",
       "      <td>294</td>\n",
       "      <td>2</td>\n",
       "      <td>328</td>\n",
       "      <td>7</td>\n",
       "      <td>NaN</td>\n",
       "      <td>70276</td>\n",
       "      <td>66380</td>\n",
       "      <td>432</td>\n",
       "      <td>4</td>\n",
       "      <td>NaN</td>\n",
       "      <td>1</td>\n",
       "      <td>NaN</td>\n",
       "      <td>NaN</td>\n",
       "      <td>NaN</td>\n",
       "      <td>NaN</td>\n",
       "      <td>341</td>\n",
       "      <td>NaN</td>\n",
       "      <td>20</td>\n",
       "      <td>62</td>\n",
       "      <td>NaN</td>\n",
       "      <td>1</td>\n",
       "      <td>1099</td>\n",
       "      <td>40</td>\n",
       "      <td>1</td>\n",
       "      <td>72235</td>\n",
       "      <td>NaN</td>\n",
       "      <td>3836</td>\n",
       "      <td>3836</td>\n",
       "      <td>3836</td>\n",
       "      <td>NaN</td>\n",
       "      <td>3836</td>\n",
       "      <td>1386</td>\n",
       "      <td>3836</td>\n",
       "      <td>3836</td>\n",
       "      <td>3836</td>\n",
       "      <td>17096</td>\n",
       "      <td>17096</td>\n",
       "      <td>17096</td>\n",
       "      <td>NaN</td>\n",
       "      <td>378</td>\n",
       "      <td>378</td>\n",
       "      <td>378</td>\n",
       "      <td>378</td>\n",
       "      <td>NaN</td>\n",
       "      <td>NaN</td>\n",
       "      <td>NaN</td>\n",
       "    </tr>\n",
       "    <tr>\n",
       "      <th>mean</th>\n",
       "      <td>0.495072</td>\n",
       "      <td>NaN</td>\n",
       "      <td>1.197492</td>\n",
       "      <td>NaN</td>\n",
       "      <td>NaN</td>\n",
       "      <td>NaN</td>\n",
       "      <td>NaN</td>\n",
       "      <td>NaN</td>\n",
       "      <td>3.608637</td>\n",
       "      <td>NaN</td>\n",
       "      <td>NaN</td>\n",
       "      <td>NaN</td>\n",
       "      <td>NaN</td>\n",
       "      <td>6.509684</td>\n",
       "      <td>NaN</td>\n",
       "      <td>3.949488</td>\n",
       "      <td>23.565146</td>\n",
       "      <td>0.847035</td>\n",
       "      <td>0.064462</td>\n",
       "      <td>NaN</td>\n",
       "      <td>4.293294</td>\n",
       "      <td>NaN</td>\n",
       "      <td>NaN</td>\n",
       "      <td>162.633811</td>\n",
       "      <td>NaN</td>\n",
       "      <td>NaN</td>\n",
       "      <td>NaN</td>\n",
       "      <td>NaN</td>\n",
       "      <td>NaN</td>\n",
       "      <td>901.511744</td>\n",
       "      <td>NaN</td>\n",
       "      <td>NaN</td>\n",
       "      <td>NaN</td>\n",
       "      <td>NaN</td>\n",
       "      <td>NaN</td>\n",
       "      <td>NaN</td>\n",
       "      <td>NaN</td>\n",
       "      <td>NaN</td>\n",
       "      <td>NaN</td>\n",
       "      <td>NaN</td>\n",
       "      <td>NaN</td>\n",
       "      <td>NaN</td>\n",
       "      <td>57969.335057</td>\n",
       "      <td>NaN</td>\n",
       "      <td>NaN</td>\n",
       "      <td>NaN</td>\n",
       "      <td>NaN</td>\n",
       "      <td>1652.917760</td>\n",
       "      <td>282.447738</td>\n",
       "      <td>20181104.0</td>\n",
       "    </tr>\n",
       "    <tr>\n",
       "      <th>std</th>\n",
       "      <td>22.198322</td>\n",
       "      <td>NaN</td>\n",
       "      <td>6.851056</td>\n",
       "      <td>NaN</td>\n",
       "      <td>NaN</td>\n",
       "      <td>NaN</td>\n",
       "      <td>NaN</td>\n",
       "      <td>NaN</td>\n",
       "      <td>5.415534</td>\n",
       "      <td>NaN</td>\n",
       "      <td>NaN</td>\n",
       "      <td>NaN</td>\n",
       "      <td>NaN</td>\n",
       "      <td>11.480716</td>\n",
       "      <td>NaN</td>\n",
       "      <td>3.497320</td>\n",
       "      <td>265.821608</td>\n",
       "      <td>14.319444</td>\n",
       "      <td>0.281705</td>\n",
       "      <td>NaN</td>\n",
       "      <td>1.192822</td>\n",
       "      <td>NaN</td>\n",
       "      <td>NaN</td>\n",
       "      <td>1813.480195</td>\n",
       "      <td>NaN</td>\n",
       "      <td>NaN</td>\n",
       "      <td>NaN</td>\n",
       "      <td>NaN</td>\n",
       "      <td>NaN</td>\n",
       "      <td>863.265572</td>\n",
       "      <td>NaN</td>\n",
       "      <td>NaN</td>\n",
       "      <td>NaN</td>\n",
       "      <td>NaN</td>\n",
       "      <td>NaN</td>\n",
       "      <td>NaN</td>\n",
       "      <td>NaN</td>\n",
       "      <td>NaN</td>\n",
       "      <td>NaN</td>\n",
       "      <td>NaN</td>\n",
       "      <td>NaN</td>\n",
       "      <td>NaN</td>\n",
       "      <td>61017.861531</td>\n",
       "      <td>NaN</td>\n",
       "      <td>NaN</td>\n",
       "      <td>NaN</td>\n",
       "      <td>NaN</td>\n",
       "      <td>12490.304716</td>\n",
       "      <td>1514.427745</td>\n",
       "      <td>0.0</td>\n",
       "    </tr>\n",
       "    <tr>\n",
       "      <th>min</th>\n",
       "      <td>0.000000</td>\n",
       "      <td>NaN</td>\n",
       "      <td>0.000000</td>\n",
       "      <td>NaN</td>\n",
       "      <td>NaN</td>\n",
       "      <td>NaN</td>\n",
       "      <td>NaN</td>\n",
       "      <td>NaN</td>\n",
       "      <td>0.000000</td>\n",
       "      <td>NaN</td>\n",
       "      <td>NaN</td>\n",
       "      <td>NaN</td>\n",
       "      <td>NaN</td>\n",
       "      <td>0.000000</td>\n",
       "      <td>NaN</td>\n",
       "      <td>0.003774</td>\n",
       "      <td>0.000000</td>\n",
       "      <td>0.000000</td>\n",
       "      <td>0.000000</td>\n",
       "      <td>NaN</td>\n",
       "      <td>1.000000</td>\n",
       "      <td>NaN</td>\n",
       "      <td>NaN</td>\n",
       "      <td>0.000000</td>\n",
       "      <td>NaN</td>\n",
       "      <td>NaN</td>\n",
       "      <td>NaN</td>\n",
       "      <td>NaN</td>\n",
       "      <td>NaN</td>\n",
       "      <td>0.000000</td>\n",
       "      <td>NaN</td>\n",
       "      <td>NaN</td>\n",
       "      <td>NaN</td>\n",
       "      <td>NaN</td>\n",
       "      <td>NaN</td>\n",
       "      <td>NaN</td>\n",
       "      <td>NaN</td>\n",
       "      <td>NaN</td>\n",
       "      <td>NaN</td>\n",
       "      <td>NaN</td>\n",
       "      <td>NaN</td>\n",
       "      <td>NaN</td>\n",
       "      <td>0.000000</td>\n",
       "      <td>NaN</td>\n",
       "      <td>NaN</td>\n",
       "      <td>NaN</td>\n",
       "      <td>NaN</td>\n",
       "      <td>0.000000</td>\n",
       "      <td>0.000000</td>\n",
       "      <td>20181104.0</td>\n",
       "    </tr>\n",
       "    <tr>\n",
       "      <th>25%</th>\n",
       "      <td>0.000000</td>\n",
       "      <td>NaN</td>\n",
       "      <td>0.000000</td>\n",
       "      <td>NaN</td>\n",
       "      <td>NaN</td>\n",
       "      <td>NaN</td>\n",
       "      <td>NaN</td>\n",
       "      <td>NaN</td>\n",
       "      <td>1.000000</td>\n",
       "      <td>NaN</td>\n",
       "      <td>NaN</td>\n",
       "      <td>NaN</td>\n",
       "      <td>NaN</td>\n",
       "      <td>1.000000</td>\n",
       "      <td>NaN</td>\n",
       "      <td>1.886792</td>\n",
       "      <td>0.000000</td>\n",
       "      <td>0.000000</td>\n",
       "      <td>0.000000</td>\n",
       "      <td>NaN</td>\n",
       "      <td>4.000000</td>\n",
       "      <td>NaN</td>\n",
       "      <td>NaN</td>\n",
       "      <td>0.000000</td>\n",
       "      <td>NaN</td>\n",
       "      <td>NaN</td>\n",
       "      <td>NaN</td>\n",
       "      <td>NaN</td>\n",
       "      <td>NaN</td>\n",
       "      <td>402.000000</td>\n",
       "      <td>NaN</td>\n",
       "      <td>NaN</td>\n",
       "      <td>NaN</td>\n",
       "      <td>NaN</td>\n",
       "      <td>NaN</td>\n",
       "      <td>NaN</td>\n",
       "      <td>NaN</td>\n",
       "      <td>NaN</td>\n",
       "      <td>NaN</td>\n",
       "      <td>NaN</td>\n",
       "      <td>NaN</td>\n",
       "      <td>NaN</td>\n",
       "      <td>23410.000000</td>\n",
       "      <td>NaN</td>\n",
       "      <td>NaN</td>\n",
       "      <td>NaN</td>\n",
       "      <td>NaN</td>\n",
       "      <td>8.000000</td>\n",
       "      <td>3.000000</td>\n",
       "      <td>20181104.0</td>\n",
       "    </tr>\n",
       "    <tr>\n",
       "      <th>50%</th>\n",
       "      <td>0.000000</td>\n",
       "      <td>NaN</td>\n",
       "      <td>0.000000</td>\n",
       "      <td>NaN</td>\n",
       "      <td>NaN</td>\n",
       "      <td>NaN</td>\n",
       "      <td>NaN</td>\n",
       "      <td>NaN</td>\n",
       "      <td>2.000000</td>\n",
       "      <td>NaN</td>\n",
       "      <td>NaN</td>\n",
       "      <td>NaN</td>\n",
       "      <td>NaN</td>\n",
       "      <td>4.000000</td>\n",
       "      <td>NaN</td>\n",
       "      <td>3.145597</td>\n",
       "      <td>2.000000</td>\n",
       "      <td>0.000000</td>\n",
       "      <td>0.000000</td>\n",
       "      <td>NaN</td>\n",
       "      <td>5.000000</td>\n",
       "      <td>NaN</td>\n",
       "      <td>NaN</td>\n",
       "      <td>5.000000</td>\n",
       "      <td>NaN</td>\n",
       "      <td>NaN</td>\n",
       "      <td>NaN</td>\n",
       "      <td>NaN</td>\n",
       "      <td>NaN</td>\n",
       "      <td>703.000000</td>\n",
       "      <td>NaN</td>\n",
       "      <td>NaN</td>\n",
       "      <td>NaN</td>\n",
       "      <td>NaN</td>\n",
       "      <td>NaN</td>\n",
       "      <td>NaN</td>\n",
       "      <td>NaN</td>\n",
       "      <td>NaN</td>\n",
       "      <td>NaN</td>\n",
       "      <td>NaN</td>\n",
       "      <td>NaN</td>\n",
       "      <td>NaN</td>\n",
       "      <td>51320.000000</td>\n",
       "      <td>NaN</td>\n",
       "      <td>NaN</td>\n",
       "      <td>NaN</td>\n",
       "      <td>NaN</td>\n",
       "      <td>52.000000</td>\n",
       "      <td>22.000000</td>\n",
       "      <td>20181104.0</td>\n",
       "    </tr>\n",
       "    <tr>\n",
       "      <th>75%</th>\n",
       "      <td>0.000000</td>\n",
       "      <td>NaN</td>\n",
       "      <td>0.000000</td>\n",
       "      <td>NaN</td>\n",
       "      <td>NaN</td>\n",
       "      <td>NaN</td>\n",
       "      <td>NaN</td>\n",
       "      <td>NaN</td>\n",
       "      <td>5.000000</td>\n",
       "      <td>NaN</td>\n",
       "      <td>NaN</td>\n",
       "      <td>NaN</td>\n",
       "      <td>NaN</td>\n",
       "      <td>8.000000</td>\n",
       "      <td>NaN</td>\n",
       "      <td>4.979245</td>\n",
       "      <td>7.000000</td>\n",
       "      <td>0.000000</td>\n",
       "      <td>0.000000</td>\n",
       "      <td>NaN</td>\n",
       "      <td>5.000000</td>\n",
       "      <td>NaN</td>\n",
       "      <td>NaN</td>\n",
       "      <td>61.000000</td>\n",
       "      <td>NaN</td>\n",
       "      <td>NaN</td>\n",
       "      <td>NaN</td>\n",
       "      <td>NaN</td>\n",
       "      <td>NaN</td>\n",
       "      <td>1138.000000</td>\n",
       "      <td>NaN</td>\n",
       "      <td>NaN</td>\n",
       "      <td>NaN</td>\n",
       "      <td>NaN</td>\n",
       "      <td>NaN</td>\n",
       "      <td>NaN</td>\n",
       "      <td>NaN</td>\n",
       "      <td>NaN</td>\n",
       "      <td>NaN</td>\n",
       "      <td>NaN</td>\n",
       "      <td>NaN</td>\n",
       "      <td>NaN</td>\n",
       "      <td>66154.000000</td>\n",
       "      <td>NaN</td>\n",
       "      <td>NaN</td>\n",
       "      <td>NaN</td>\n",
       "      <td>NaN</td>\n",
       "      <td>314.000000</td>\n",
       "      <td>124.000000</td>\n",
       "      <td>20181104.0</td>\n",
       "    </tr>\n",
       "    <tr>\n",
       "      <th>max</th>\n",
       "      <td>3266.000000</td>\n",
       "      <td>NaN</td>\n",
       "      <td>389.000000</td>\n",
       "      <td>NaN</td>\n",
       "      <td>NaN</td>\n",
       "      <td>NaN</td>\n",
       "      <td>NaN</td>\n",
       "      <td>NaN</td>\n",
       "      <td>263.000000</td>\n",
       "      <td>NaN</td>\n",
       "      <td>NaN</td>\n",
       "      <td>NaN</td>\n",
       "      <td>NaN</td>\n",
       "      <td>1180.000000</td>\n",
       "      <td>NaN</td>\n",
       "      <td>99.603774</td>\n",
       "      <td>42288.000000</td>\n",
       "      <td>3076.000000</td>\n",
       "      <td>3.000000</td>\n",
       "      <td>NaN</td>\n",
       "      <td>6.000000</td>\n",
       "      <td>NaN</td>\n",
       "      <td>NaN</td>\n",
       "      <td>291706.000000</td>\n",
       "      <td>NaN</td>\n",
       "      <td>NaN</td>\n",
       "      <td>NaN</td>\n",
       "      <td>NaN</td>\n",
       "      <td>NaN</td>\n",
       "      <td>24964.000000</td>\n",
       "      <td>NaN</td>\n",
       "      <td>NaN</td>\n",
       "      <td>NaN</td>\n",
       "      <td>NaN</td>\n",
       "      <td>NaN</td>\n",
       "      <td>NaN</td>\n",
       "      <td>NaN</td>\n",
       "      <td>NaN</td>\n",
       "      <td>NaN</td>\n",
       "      <td>NaN</td>\n",
       "      <td>NaN</td>\n",
       "      <td>NaN</td>\n",
       "      <td>331914.000000</td>\n",
       "      <td>NaN</td>\n",
       "      <td>NaN</td>\n",
       "      <td>NaN</td>\n",
       "      <td>NaN</td>\n",
       "      <td>333655.000000</td>\n",
       "      <td>85867.000000</td>\n",
       "      <td>20181104.0</td>\n",
       "    </tr>\n",
       "  </tbody>\n",
       "</table>\n",
       "</div>"
      ],
      "text/plain": [
       "        audioVersionDurationSec  ... scrappedDate\n",
       "count              72337.000000  ...      72337.0\n",
       "unique                      NaN  ...          NaN\n",
       "top                         NaN  ...          NaN\n",
       "freq                        NaN  ...          NaN\n",
       "mean                   0.495072  ...   20181104.0\n",
       "std                   22.198322  ...          0.0\n",
       "min                    0.000000  ...   20181104.0\n",
       "25%                    0.000000  ...   20181104.0\n",
       "50%                    0.000000  ...   20181104.0\n",
       "75%                    0.000000  ...   20181104.0\n",
       "max                 3266.000000  ...   20181104.0\n",
       "\n",
       "[11 rows x 50 columns]"
      ]
     },
     "execution_count": 6,
     "metadata": {
      "tags": []
     },
     "output_type": "execute_result"
    }
   ],
   "source": [
    "print(train_2.isna().sum())\n",
    "train_2.describe(include='all')"
   ]
  },
  {
   "cell_type": "code",
   "execution_count": 7,
   "metadata": {
    "colab": {
     "base_uri": "https://localhost:8080/",
     "height": 372
    },
    "colab_type": "code",
    "id": "bS3zbgd3bO0Y",
    "outputId": "2284264c-2ea0-4e31-deac-745d431dcbfe"
   },
   "outputs": [
    {
     "name": "stdout",
     "output_type": "stream",
     "text": [
      "<class 'pandas.core.frame.DataFrame'>\n",
      "RangeIndex: 514 entries, 0 to 513\n",
      "Data columns (total 8 columns):\n",
      " #   Column              Non-Null Count  Dtype \n",
      "---  ------              --------------  ----- \n",
      " 0   Unnamed: 0          514 non-null    int64 \n",
      " 1   index               514 non-null    int64 \n",
      " 2   Author              514 non-null    object\n",
      " 3   PublicationDetails  514 non-null    object\n",
      " 4   Responses           432 non-null    object\n",
      " 5   Header              506 non-null    object\n",
      " 6   Text                514 non-null    object\n",
      " 7   Length              514 non-null    int64 \n",
      "dtypes: int64(3), object(5)\n",
      "memory usage: 32.2+ KB\n"
     ]
    },
    {
     "data": {
      "text/html": [
       "<div>\n",
       "<style scoped>\n",
       "    .dataframe tbody tr th:only-of-type {\n",
       "        vertical-align: middle;\n",
       "    }\n",
       "\n",
       "    .dataframe tbody tr th {\n",
       "        vertical-align: top;\n",
       "    }\n",
       "\n",
       "    .dataframe thead th {\n",
       "        text-align: right;\n",
       "    }\n",
       "</style>\n",
       "<table border=\"1\" class=\"dataframe\">\n",
       "  <thead>\n",
       "    <tr style=\"text-align: right;\">\n",
       "      <th></th>\n",
       "      <th>Unnamed: 0</th>\n",
       "      <th>index</th>\n",
       "      <th>Author</th>\n",
       "      <th>PublicationDetails</th>\n",
       "      <th>Responses</th>\n",
       "      <th>Header</th>\n",
       "      <th>Text</th>\n",
       "      <th>Length</th>\n",
       "    </tr>\n",
       "  </thead>\n",
       "  <tbody>\n",
       "    <tr>\n",
       "      <th>0</th>\n",
       "      <td>0</td>\n",
       "      <td>0</td>\n",
       "      <td>Daniel Jeffries</td>\n",
       "      <td>Daniel Jeffries in HackerNoon.comJul 31, 2017</td>\n",
       "      <td>627 responses</td>\n",
       "      <td>Why Everyone Missed the Most Mind-Blowing Feat...</td>\n",
       "      <td>There’s one incredible feature of cryptocurren...</td>\n",
       "      <td>23401</td>\n",
       "    </tr>\n",
       "    <tr>\n",
       "      <th>1</th>\n",
       "      <td>1</td>\n",
       "      <td>1</td>\n",
       "      <td>Noam Levenson</td>\n",
       "      <td>Noam Levenson in HackerNoon.comDec 6, 2017</td>\n",
       "      <td>156 responses</td>\n",
       "      <td>NEO versus Ethereum: Why NEO might be 2018’s s...</td>\n",
       "      <td>&lt;img class=\"progressiveMedia-noscript js-progr...</td>\n",
       "      <td>23972</td>\n",
       "    </tr>\n",
       "  </tbody>\n",
       "</table>\n",
       "</div>"
      ],
      "text/plain": [
       "   Unnamed: 0  index  ...                                               Text Length\n",
       "0           0      0  ...  There’s one incredible feature of cryptocurren...  23401\n",
       "1           1      1  ...  <img class=\"progressiveMedia-noscript js-progr...  23972\n",
       "\n",
       "[2 rows x 8 columns]"
      ]
     },
     "execution_count": 7,
     "metadata": {
      "tags": []
     },
     "output_type": "execute_result"
    }
   ],
   "source": [
    "test_1.info()\n",
    "test_1.head(2)"
   ]
  },
  {
   "cell_type": "markdown",
   "metadata": {
    "colab_type": "text",
    "id": "K_J9n4AM-0av"
   },
   "source": [
    "I keep the common columns and columns which don't exist in test set but can be obtained from the test set.  Language, image count and reading time can be derived by using the text column in the test set. I also keep the textual data in this training set but it will not be part of the model in this section"
   ]
  },
  {
   "cell_type": "code",
   "execution_count": 8,
   "metadata": {
    "colab": {
     "base_uri": "https://localhost:8080/",
     "height": 370
    },
    "colab_type": "code",
    "id": "6dHWzVSoWVXZ",
    "outputId": "8b66579d-8d31-45e9-94cf-89a0f0fb1d62"
   },
   "outputs": [
    {
     "data": {
      "text/html": [
       "<div>\n",
       "<style scoped>\n",
       "    .dataframe tbody tr th:only-of-type {\n",
       "        vertical-align: middle;\n",
       "    }\n",
       "\n",
       "    .dataframe tbody tr th {\n",
       "        vertical-align: top;\n",
       "    }\n",
       "\n",
       "    .dataframe thead th {\n",
       "        text-align: right;\n",
       "    }\n",
       "</style>\n",
       "<table border=\"1\" class=\"dataframe\">\n",
       "  <thead>\n",
       "    <tr style=\"text-align: right;\">\n",
       "      <th></th>\n",
       "      <th>responsesCreatedCount</th>\n",
       "      <th>imageCount</th>\n",
       "      <th>wordCount</th>\n",
       "      <th>readingTime</th>\n",
       "      <th>firstPublishedDate</th>\n",
       "      <th>language</th>\n",
       "      <th>publicationname</th>\n",
       "      <th>totalClapCount</th>\n",
       "      <th>text</th>\n",
       "      <th>title</th>\n",
       "    </tr>\n",
       "  </thead>\n",
       "  <tbody>\n",
       "    <tr>\n",
       "      <th>count</th>\n",
       "      <td>72337.000000</td>\n",
       "      <td>72337.000000</td>\n",
       "      <td>72337.000000</td>\n",
       "      <td>72337.000000</td>\n",
       "      <td>72337</td>\n",
       "      <td>72337</td>\n",
       "      <td>33630</td>\n",
       "      <td>72337.000000</td>\n",
       "      <td>72337</td>\n",
       "      <td>72336</td>\n",
       "    </tr>\n",
       "    <tr>\n",
       "      <th>unique</th>\n",
       "      <td>NaN</td>\n",
       "      <td>NaN</td>\n",
       "      <td>NaN</td>\n",
       "      <td>NaN</td>\n",
       "      <td>610</td>\n",
       "      <td>52</td>\n",
       "      <td>6507</td>\n",
       "      <td>NaN</td>\n",
       "      <td>72024</td>\n",
       "      <td>70275</td>\n",
       "    </tr>\n",
       "    <tr>\n",
       "      <th>top</th>\n",
       "      <td>NaN</td>\n",
       "      <td>NaN</td>\n",
       "      <td>NaN</td>\n",
       "      <td>NaN</td>\n",
       "      <td>2018-08-27</td>\n",
       "      <td>en</td>\n",
       "      <td>Towards Data Science</td>\n",
       "      <td>NaN</td>\n",
       "      <td>Learn Colors for Children with Little Monsters...</td>\n",
       "      <td>10 new things to read in AI</td>\n",
       "    </tr>\n",
       "    <tr>\n",
       "      <th>freq</th>\n",
       "      <td>NaN</td>\n",
       "      <td>NaN</td>\n",
       "      <td>NaN</td>\n",
       "      <td>NaN</td>\n",
       "      <td>328</td>\n",
       "      <td>66380</td>\n",
       "      <td>3836</td>\n",
       "      <td>NaN</td>\n",
       "      <td>20</td>\n",
       "      <td>62</td>\n",
       "    </tr>\n",
       "    <tr>\n",
       "      <th>mean</th>\n",
       "      <td>0.847035</td>\n",
       "      <td>3.608637</td>\n",
       "      <td>901.511744</td>\n",
       "      <td>3.949488</td>\n",
       "      <td>NaN</td>\n",
       "      <td>NaN</td>\n",
       "      <td>NaN</td>\n",
       "      <td>162.633811</td>\n",
       "      <td>NaN</td>\n",
       "      <td>NaN</td>\n",
       "    </tr>\n",
       "    <tr>\n",
       "      <th>std</th>\n",
       "      <td>14.319444</td>\n",
       "      <td>5.415534</td>\n",
       "      <td>863.265572</td>\n",
       "      <td>3.497320</td>\n",
       "      <td>NaN</td>\n",
       "      <td>NaN</td>\n",
       "      <td>NaN</td>\n",
       "      <td>1813.480195</td>\n",
       "      <td>NaN</td>\n",
       "      <td>NaN</td>\n",
       "    </tr>\n",
       "    <tr>\n",
       "      <th>min</th>\n",
       "      <td>0.000000</td>\n",
       "      <td>0.000000</td>\n",
       "      <td>0.000000</td>\n",
       "      <td>0.003774</td>\n",
       "      <td>NaN</td>\n",
       "      <td>NaN</td>\n",
       "      <td>NaN</td>\n",
       "      <td>0.000000</td>\n",
       "      <td>NaN</td>\n",
       "      <td>NaN</td>\n",
       "    </tr>\n",
       "    <tr>\n",
       "      <th>25%</th>\n",
       "      <td>0.000000</td>\n",
       "      <td>1.000000</td>\n",
       "      <td>402.000000</td>\n",
       "      <td>1.886792</td>\n",
       "      <td>NaN</td>\n",
       "      <td>NaN</td>\n",
       "      <td>NaN</td>\n",
       "      <td>0.000000</td>\n",
       "      <td>NaN</td>\n",
       "      <td>NaN</td>\n",
       "    </tr>\n",
       "    <tr>\n",
       "      <th>50%</th>\n",
       "      <td>0.000000</td>\n",
       "      <td>2.000000</td>\n",
       "      <td>703.000000</td>\n",
       "      <td>3.145597</td>\n",
       "      <td>NaN</td>\n",
       "      <td>NaN</td>\n",
       "      <td>NaN</td>\n",
       "      <td>5.000000</td>\n",
       "      <td>NaN</td>\n",
       "      <td>NaN</td>\n",
       "    </tr>\n",
       "    <tr>\n",
       "      <th>75%</th>\n",
       "      <td>0.000000</td>\n",
       "      <td>5.000000</td>\n",
       "      <td>1138.000000</td>\n",
       "      <td>4.979245</td>\n",
       "      <td>NaN</td>\n",
       "      <td>NaN</td>\n",
       "      <td>NaN</td>\n",
       "      <td>61.000000</td>\n",
       "      <td>NaN</td>\n",
       "      <td>NaN</td>\n",
       "    </tr>\n",
       "    <tr>\n",
       "      <th>max</th>\n",
       "      <td>3076.000000</td>\n",
       "      <td>263.000000</td>\n",
       "      <td>24964.000000</td>\n",
       "      <td>99.603774</td>\n",
       "      <td>NaN</td>\n",
       "      <td>NaN</td>\n",
       "      <td>NaN</td>\n",
       "      <td>291706.000000</td>\n",
       "      <td>NaN</td>\n",
       "      <td>NaN</td>\n",
       "    </tr>\n",
       "  </tbody>\n",
       "</table>\n",
       "</div>"
      ],
      "text/plain": [
       "        responsesCreatedCount  ...                        title\n",
       "count            72337.000000  ...                        72336\n",
       "unique                    NaN  ...                        70275\n",
       "top                       NaN  ...  10 new things to read in AI\n",
       "freq                      NaN  ...                           62\n",
       "mean                 0.847035  ...                          NaN\n",
       "std                 14.319444  ...                          NaN\n",
       "min                  0.000000  ...                          NaN\n",
       "25%                  0.000000  ...                          NaN\n",
       "50%                  0.000000  ...                          NaN\n",
       "75%                  0.000000  ...                          NaN\n",
       "max               3076.000000  ...                          NaN\n",
       "\n",
       "[11 rows x 10 columns]"
      ]
     },
     "execution_count": 8,
     "metadata": {
      "tags": []
     },
     "output_type": "execute_result"
    }
   ],
   "source": [
    "#Decide which columns in trainset to keep\n",
    "keep_columns=['responsesCreatedCount','imageCount','wordCount','readingTime','firstPublishedDate','language','publicationname','totalClapCount','text','title'] \n",
    "train=train_2[keep_columns]\n",
    "train.describe(include='all')"
   ]
  },
  {
   "cell_type": "markdown",
   "metadata": {
    "colab_type": "text",
    "id": "bqPmncfV9Qd-"
   },
   "source": [
    "I noticed that there are articles which have the same title. I checked those posts and they just have the same title, the content is different. Therefore the duplicate cleaning is successfull.\n"
   ]
  },
  {
   "cell_type": "code",
   "execution_count": 9,
   "metadata": {
    "colab": {
     "base_uri": "https://localhost:8080/",
     "height": 230
    },
    "colab_type": "code",
    "id": "mKnYtnoVwaim",
    "outputId": "449607fc-6796-48dd-fad5-2ef7cfeff262"
   },
   "outputs": [
    {
     "data": {
      "text/plain": [
       "10 new things to read in AI                                62\n",
       "11 new things to read in AI                                49\n",
       "Artificial Intelligence                                    28\n",
       "12 new things to read in AI                                25\n",
       "13 new things to read in AI                                23\n",
       "                                                           ..\n",
       "Panorama de inversión en Startups                           1\n",
       "Data Science Vs Data Analytics : What’s the difference?     1\n",
       "Generative AI for Content Creation                          1\n",
       "Self-Driving Car Series                                     1\n",
       "REPOST: Best Journaling App — Reflecty                      1\n",
       "Name: title, Length: 70275, dtype: int64"
      ]
     },
     "execution_count": 9,
     "metadata": {
      "tags": []
     },
     "output_type": "execute_result"
    }
   ],
   "source": [
    "train['title'].value_counts()"
   ]
  },
  {
   "cell_type": "code",
   "execution_count": 10,
   "metadata": {
    "colab": {
     "base_uri": "https://localhost:8080/",
     "height": 319
    },
    "colab_type": "code",
    "id": "xEgkmgjLfj-l",
    "outputId": "9b8c08f5-d4d6-42f4-ee5a-e6e78c063eef"
   },
   "outputs": [
    {
     "name": "stdout",
     "output_type": "stream",
     "text": [
      "<class 'pandas.core.frame.DataFrame'>\n",
      "RangeIndex: 72337 entries, 0 to 72336\n",
      "Data columns (total 10 columns):\n",
      " #   Column                 Non-Null Count  Dtype  \n",
      "---  ------                 --------------  -----  \n",
      " 0   responsesCreatedCount  72337 non-null  int64  \n",
      " 1   imageCount             72337 non-null  int64  \n",
      " 2   wordCount              72337 non-null  int64  \n",
      " 3   readingTime            72337 non-null  float64\n",
      " 4   firstPublishedDate     72337 non-null  object \n",
      " 5   language               72337 non-null  object \n",
      " 6   publicationname        33630 non-null  object \n",
      " 7   totalClapCount         72337 non-null  int64  \n",
      " 8   text                   72337 non-null  object \n",
      " 9   title                  72336 non-null  object \n",
      "dtypes: float64(1), int64(4), object(5)\n",
      "memory usage: 5.5+ MB\n"
     ]
    }
   ],
   "source": [
    "train.info()"
   ]
  },
  {
   "cell_type": "markdown",
   "metadata": {
    "colab_type": "text",
    "id": "Itr1uA1vt9sh"
   },
   "source": [
    "Before moving on, I will convert test set into the same format with training set. "
   ]
  },
  {
   "cell_type": "markdown",
   "metadata": {
    "colab_type": "text",
    "id": "rwFukZb2W-V5"
   },
   "source": [
    "In the code section below, I search for the keyword img in the html content to detect the number of images."
   ]
  },
  {
   "cell_type": "code",
   "execution_count": 11,
   "metadata": {
    "colab": {},
    "colab_type": "code",
    "id": "7SsCQmBpt9JU"
   },
   "outputs": [],
   "source": [
    "image_test =[BeautifulSoup(i, 'html.parser').findAll(\"img\") for i in test_1['Text']]\n",
    "\n",
    "n_image_test=[]\n",
    "for elem in image_test:\n",
    "  n_image_test.append(len(elem))   \n",
    "\n",
    "test_1['imageCount']= n_image_test"
   ]
  },
  {
   "cell_type": "markdown",
   "metadata": {
    "colab_type": "text",
    "id": "LCAb7JcVXRyd"
   },
   "source": [
    "Responses column in the test set is in format \"10 responses\". I remove the \"responses\" string, fill na'as with average response in trainset and adjust the format of the numbers.  "
   ]
  },
  {
   "cell_type": "code",
   "execution_count": 12,
   "metadata": {
    "colab": {},
    "colab_type": "code",
    "id": "LX7qa1fPuOxX"
   },
   "outputs": [],
   "source": [
    "responses = test_1[\"Responses\"]"
   ]
  },
  {
   "cell_type": "code",
   "execution_count": 13,
   "metadata": {
    "colab": {},
    "colab_type": "code",
    "id": "ZjuHOKuouSmM"
   },
   "outputs": [],
   "source": [
    "responses_new = []\n",
    "for i in responses:\n",
    "  #print(i)\n",
    "  if type(i) == float:\n",
    "    i = str(i)\n",
    "    if i is not 'nan':\n",
    "      responses_new.append(i.split()[0])\n",
    "  else:\n",
    "    responses_new.append(i.split()[0])\n"
   ]
  },
  {
   "cell_type": "code",
   "execution_count": 14,
   "metadata": {
    "colab": {},
    "colab_type": "code",
    "id": "TtusbHxNuYqL"
   },
   "outputs": [],
   "source": [
    "test_1['responsesCreatedCount'] = responses_new\n",
    "test_1=test_1.drop('Responses',axis=1)"
   ]
  },
  {
   "cell_type": "code",
   "execution_count": 15,
   "metadata": {
    "colab": {},
    "colab_type": "code",
    "id": "aDk3LXcnLCQw"
   },
   "outputs": [],
   "source": [
    "test_1['responsesCreatedCount']=[1 if i =='nan' else i for i in test_1['responsesCreatedCount']]\n",
    "test_1['responsesCreatedCount']=[re.sub(\"[^\\d\\.]\", \"\", i) if isinstance(i,str) else i for i in test_1['responsesCreatedCount']]"
   ]
  },
  {
   "cell_type": "code",
   "execution_count": 16,
   "metadata": {
    "colab": {},
    "colab_type": "code",
    "id": "yVDrS0z_Qbly"
   },
   "outputs": [],
   "source": [
    "test_1['responsesCreatedCount']=test_1['responsesCreatedCount'].astype(int)"
   ]
  },
  {
   "cell_type": "code",
   "execution_count": 17,
   "metadata": {
    "colab": {
     "base_uri": "https://localhost:8080/",
     "height": 52
    },
    "colab_type": "code",
    "id": "aRxC1VxKy1yp",
    "outputId": "5aa30c24-25b9-4783-b4c1-e0020fe3f362"
   },
   "outputs": [
    {
     "name": "stdout",
     "output_type": "stream",
     "text": [
      "Requirement already satisfied: langdetect in /usr/local/lib/python3.6/dist-packages (1.0.8)\n",
      "Requirement already satisfied: six in /usr/local/lib/python3.6/dist-packages (from langdetect) (1.15.0)\n"
     ]
    }
   ],
   "source": [
    "pip install langdetect"
   ]
  },
  {
   "cell_type": "code",
   "execution_count": 18,
   "metadata": {
    "colab": {},
    "colab_type": "code",
    "id": "iJPd7RWruZi9"
   },
   "outputs": [],
   "source": [
    "from langdetect import detect"
   ]
  },
  {
   "cell_type": "code",
   "execution_count": 19,
   "metadata": {
    "colab": {},
    "colab_type": "code",
    "id": "xaoLlmOoue-J"
   },
   "outputs": [],
   "source": [
    "lang = detect(str(test_1['Text']))"
   ]
  },
  {
   "cell_type": "code",
   "execution_count": 20,
   "metadata": {
    "colab": {
     "base_uri": "https://localhost:8080/",
     "height": 156
    },
    "colab_type": "code",
    "id": "NjQdib2wugrp",
    "outputId": "5a9e3790-aa58-4373-956c-e69221c55085"
   },
   "outputs": [
    {
     "data": {
      "text/html": [
       "<div>\n",
       "<style scoped>\n",
       "    .dataframe tbody tr th:only-of-type {\n",
       "        vertical-align: middle;\n",
       "    }\n",
       "\n",
       "    .dataframe tbody tr th {\n",
       "        vertical-align: top;\n",
       "    }\n",
       "\n",
       "    .dataframe thead th {\n",
       "        text-align: right;\n",
       "    }\n",
       "</style>\n",
       "<table border=\"1\" class=\"dataframe\">\n",
       "  <thead>\n",
       "    <tr style=\"text-align: right;\">\n",
       "      <th></th>\n",
       "      <th>Unnamed: 0</th>\n",
       "      <th>index</th>\n",
       "      <th>Author</th>\n",
       "      <th>PublicationDetails</th>\n",
       "      <th>Header</th>\n",
       "      <th>Text</th>\n",
       "      <th>Length</th>\n",
       "      <th>imageCount</th>\n",
       "      <th>responsesCreatedCount</th>\n",
       "      <th>language</th>\n",
       "    </tr>\n",
       "  </thead>\n",
       "  <tbody>\n",
       "    <tr>\n",
       "      <th>0</th>\n",
       "      <td>0</td>\n",
       "      <td>0</td>\n",
       "      <td>Daniel Jeffries</td>\n",
       "      <td>Daniel Jeffries in HackerNoon.comJul 31, 2017</td>\n",
       "      <td>Why Everyone Missed the Most Mind-Blowing Feat...</td>\n",
       "      <td>There’s one incredible feature of cryptocurren...</td>\n",
       "      <td>23401</td>\n",
       "      <td>10</td>\n",
       "      <td>627</td>\n",
       "      <td>en</td>\n",
       "    </tr>\n",
       "    <tr>\n",
       "      <th>1</th>\n",
       "      <td>1</td>\n",
       "      <td>1</td>\n",
       "      <td>Noam Levenson</td>\n",
       "      <td>Noam Levenson in HackerNoon.comDec 6, 2017</td>\n",
       "      <td>NEO versus Ethereum: Why NEO might be 2018’s s...</td>\n",
       "      <td>&lt;img class=\"progressiveMedia-noscript js-progr...</td>\n",
       "      <td>23972</td>\n",
       "      <td>9</td>\n",
       "      <td>156</td>\n",
       "      <td>en</td>\n",
       "    </tr>\n",
       "  </tbody>\n",
       "</table>\n",
       "</div>"
      ],
      "text/plain": [
       "   Unnamed: 0  index  ... responsesCreatedCount language\n",
       "0           0      0  ...                   627       en\n",
       "1           1      1  ...                   156       en\n",
       "\n",
       "[2 rows x 10 columns]"
      ]
     },
     "execution_count": 20,
     "metadata": {
      "tags": []
     },
     "output_type": "execute_result"
    }
   ],
   "source": [
    "language = []\n",
    "for i in test_1['Text']:\n",
    "  #print(detect(i))\n",
    "  language.append(detect(i))\n",
    "\n",
    "test_1['language'] = language\n",
    "test_1.head(2)"
   ]
  },
  {
   "cell_type": "markdown",
   "metadata": {
    "colab_type": "text",
    "id": "NXA2LWYCYZr5"
   },
   "source": [
    "PublicationDetails is the hardest column to convert. I would like to extract the publication name out of this columns. I had to first partition the column based on the upper case letters so that date will be splitted from publication .name."
   ]
  },
  {
   "cell_type": "code",
   "execution_count": 21,
   "metadata": {
    "colab": {
     "base_uri": "https://localhost:8080/",
     "height": 106
    },
    "colab_type": "code",
    "id": "3YS9A91LuyWg",
    "outputId": "643afeff-6ff3-438b-8162-e47b6aa0d009"
   },
   "outputs": [
    {
     "name": "stderr",
     "output_type": "stream",
     "text": [
      "/usr/local/lib/python3.6/dist-packages/ipykernel_launcher.py:4: SettingWithCopyWarning: \n",
      "A value is trying to be set on a copy of a slice from a DataFrame\n",
      "\n",
      "See the caveats in the documentation: https://pandas.pydata.org/pandas-docs/stable/user_guide/indexing.html#returning-a-view-versus-a-copy\n",
      "  after removing the cwd from sys.path.\n"
     ]
    }
   ],
   "source": [
    "test_1['Date']=[re.findall('[A-Z][^A-Z]*', i) for i in test_1['PublicationDetails']]\n",
    "test_1['Date']=[i[-1] for i in test_1['Date']]\n",
    "for i in range(len(test_1)):\n",
    "  test_1['PublicationDetails'][i]=re.sub(test_1['Date'][i],\"\",test_1['PublicationDetails'][i])"
   ]
  },
  {
   "cell_type": "markdown",
   "metadata": {
    "colab_type": "text",
    "id": "hq7ET_ebY2Ai"
   },
   "source": [
    "Most of the records in PublicationDetails includes the name of the author as well. In the code below, author name is deleted from publicationDetails column. "
   ]
  },
  {
   "cell_type": "code",
   "execution_count": 22,
   "metadata": {
    "colab": {
     "base_uri": "https://localhost:8080/",
     "height": 106
    },
    "colab_type": "code",
    "id": "S22p9jI2u1eY",
    "outputId": "2048049b-e31d-4944-c1af-1756f5573d81"
   },
   "outputs": [
    {
     "name": "stderr",
     "output_type": "stream",
     "text": [
      "/usr/local/lib/python3.6/dist-packages/ipykernel_launcher.py:2: SettingWithCopyWarning: \n",
      "A value is trying to be set on a copy of a slice from a DataFrame\n",
      "\n",
      "See the caveats in the documentation: https://pandas.pydata.org/pandas-docs/stable/user_guide/indexing.html#returning-a-view-versus-a-copy\n",
      "  \n"
     ]
    }
   ],
   "source": [
    "for i in range(len(test_1)):\n",
    "  test_1['PublicationDetails'][i]=re.sub(test_1['Author'][i],\"\",test_1['PublicationDetails'][i])"
   ]
  },
  {
   "cell_type": "code",
   "execution_count": 23,
   "metadata": {
    "colab": {},
    "colab_type": "code",
    "id": "B-qcG5tTwV6W"
   },
   "outputs": [],
   "source": [
    "test_1['PublicationDetails']=[re.sub(r'^[^_]*in',\" \",i) for i in test_1['PublicationDetails']]"
   ]
  },
  {
   "cell_type": "code",
   "execution_count": 24,
   "metadata": {
    "colab": {},
    "colab_type": "code",
    "id": "LV_XGDFnwYVn"
   },
   "outputs": [],
   "source": [
    "test_1['PublicationDetails']=[re.sub(r'HackerNoon.com',\"HN\",i) for i in test_1['PublicationDetails']]#find all Hacker Noon publications, name them HN\n",
    "test_1['PublicationDetails']=[re.sub(r'Towards Data Science',\"TDS\",i) for i in test_1['PublicationDetails']] #find all Towards Data Science publications name them TDS\n",
    "test_1['PublicationDetails']=[re.sub(r'Netflix TechBlog',\"NT\",i) for i in test_1['PublicationDetails']] #find all Towards Data Science publications name them TDS\n",
    "test_1['PublicationDetails']=[i.replace(\" \",\"\") for i in test_1['PublicationDetails']]#remove white space"
   ]
  },
  {
   "cell_type": "code",
   "execution_count": 25,
   "metadata": {
    "colab": {
     "base_uri": "https://localhost:8080/",
     "height": 195
    },
    "colab_type": "code",
    "id": "0zWdX54zwZwO",
    "outputId": "30217d67-26b7-4e86-c127-b9d706ebedc7"
   },
   "outputs": [
    {
     "name": "stderr",
     "output_type": "stream",
     "text": [
      "/usr/local/lib/python3.6/dist-packages/ipykernel_launcher.py:4: SettingWithCopyWarning: \n",
      "A value is trying to be set on a copy of a slice from a DataFrame\n",
      "\n",
      "See the caveats in the documentation: https://pandas.pydata.org/pandas-docs/stable/user_guide/indexing.html#returning-a-view-versus-a-copy\n",
      "  after removing the cwd from sys.path.\n",
      "/usr/local/lib/python3.6/dist-packages/ipykernel_launcher.py:5: SettingWithCopyWarning: \n",
      "A value is trying to be set on a copy of a slice from a DataFrame\n",
      "\n",
      "See the caveats in the documentation: https://pandas.pydata.org/pandas-docs/stable/user_guide/indexing.html#returning-a-view-versus-a-copy\n",
      "  \"\"\"\n"
     ]
    }
   ],
   "source": [
    "for i in range(len(test_1)):\n",
    "  if test_1['PublicationDetails'][i]!='HN' and test_1['PublicationDetails'][i]!='TDS'and test_1['PublicationDetails'][i]!='NT':\n",
    "    if len(test_1['PublicationDetails'][i])>3:\n",
    "      test_1['PublicationDetails'][i]='others'\n",
    "    else: test_1['PublicationDetails'][i]='author'"
   ]
  },
  {
   "cell_type": "code",
   "execution_count": 26,
   "metadata": {
    "colab": {
     "base_uri": "https://localhost:8080/",
     "height": 156
    },
    "colab_type": "code",
    "id": "S_ZZhf5Mz7b7",
    "outputId": "2005b8ca-6c3f-4561-bd94-d2eed9b27c57"
   },
   "outputs": [
    {
     "data": {
      "text/html": [
       "<div>\n",
       "<style scoped>\n",
       "    .dataframe tbody tr th:only-of-type {\n",
       "        vertical-align: middle;\n",
       "    }\n",
       "\n",
       "    .dataframe tbody tr th {\n",
       "        vertical-align: top;\n",
       "    }\n",
       "\n",
       "    .dataframe thead th {\n",
       "        text-align: right;\n",
       "    }\n",
       "</style>\n",
       "<table border=\"1\" class=\"dataframe\">\n",
       "  <thead>\n",
       "    <tr style=\"text-align: right;\">\n",
       "      <th></th>\n",
       "      <th>Unnamed: 0</th>\n",
       "      <th>index</th>\n",
       "      <th>Author</th>\n",
       "      <th>PublicationDetails</th>\n",
       "      <th>Header</th>\n",
       "      <th>Text</th>\n",
       "      <th>Length</th>\n",
       "      <th>imageCount</th>\n",
       "      <th>responsesCreatedCount</th>\n",
       "      <th>language</th>\n",
       "      <th>Date</th>\n",
       "    </tr>\n",
       "  </thead>\n",
       "  <tbody>\n",
       "    <tr>\n",
       "      <th>0</th>\n",
       "      <td>0</td>\n",
       "      <td>0</td>\n",
       "      <td>Daniel Jeffries</td>\n",
       "      <td>HN</td>\n",
       "      <td>Why Everyone Missed the Most Mind-Blowing Feat...</td>\n",
       "      <td>There’s one incredible feature of cryptocurren...</td>\n",
       "      <td>23401</td>\n",
       "      <td>10</td>\n",
       "      <td>627</td>\n",
       "      <td>en</td>\n",
       "      <td>Jul 31, 2017</td>\n",
       "    </tr>\n",
       "    <tr>\n",
       "      <th>1</th>\n",
       "      <td>1</td>\n",
       "      <td>1</td>\n",
       "      <td>Noam Levenson</td>\n",
       "      <td>HN</td>\n",
       "      <td>NEO versus Ethereum: Why NEO might be 2018’s s...</td>\n",
       "      <td>&lt;img class=\"progressiveMedia-noscript js-progr...</td>\n",
       "      <td>23972</td>\n",
       "      <td>9</td>\n",
       "      <td>156</td>\n",
       "      <td>en</td>\n",
       "      <td>Dec 6, 2017</td>\n",
       "    </tr>\n",
       "  </tbody>\n",
       "</table>\n",
       "</div>"
      ],
      "text/plain": [
       "   Unnamed: 0  index  ... language          Date\n",
       "0           0      0  ...       en  Jul 31, 2017\n",
       "1           1      1  ...       en   Dec 6, 2017\n",
       "\n",
       "[2 rows x 11 columns]"
      ]
     },
     "execution_count": 26,
     "metadata": {
      "tags": []
     },
     "output_type": "execute_result"
    }
   ],
   "source": [
    "test_1.head(2)\n"
   ]
  },
  {
   "cell_type": "code",
   "execution_count": 27,
   "metadata": {
    "colab": {},
    "colab_type": "code",
    "id": "e1WejRb9zQZ-"
   },
   "outputs": [],
   "source": [
    "test_1=test_1.rename(columns={'PublicationDetails':'publicationname','Header':'title','Text':'text','Length':'wordCount'})"
   ]
  },
  {
   "cell_type": "code",
   "execution_count": 28,
   "metadata": {
    "colab": {},
    "colab_type": "code",
    "id": "MpQiiA2L0ybL"
   },
   "outputs": [],
   "source": [
    "test_2=test_1.drop(['Unnamed: 0','index','Author'], axis=1)"
   ]
  },
  {
   "cell_type": "code",
   "execution_count": 29,
   "metadata": {
    "colab": {
     "base_uri": "https://localhost:8080/",
     "height": 106
    },
    "colab_type": "code",
    "id": "QG0r_8mP8BJ1",
    "outputId": "258380a5-3177-4db0-c5ed-a724fc42dc94"
   },
   "outputs": [
    {
     "data": {
      "text/html": [
       "<div>\n",
       "<style scoped>\n",
       "    .dataframe tbody tr th:only-of-type {\n",
       "        vertical-align: middle;\n",
       "    }\n",
       "\n",
       "    .dataframe tbody tr th {\n",
       "        vertical-align: top;\n",
       "    }\n",
       "\n",
       "    .dataframe thead th {\n",
       "        text-align: right;\n",
       "    }\n",
       "</style>\n",
       "<table border=\"1\" class=\"dataframe\">\n",
       "  <thead>\n",
       "    <tr style=\"text-align: right;\">\n",
       "      <th></th>\n",
       "      <th>publicationname</th>\n",
       "      <th>title</th>\n",
       "      <th>text</th>\n",
       "      <th>wordCount</th>\n",
       "      <th>imageCount</th>\n",
       "      <th>responsesCreatedCount</th>\n",
       "      <th>language</th>\n",
       "      <th>Date</th>\n",
       "    </tr>\n",
       "  </thead>\n",
       "  <tbody>\n",
       "    <tr>\n",
       "      <th>0</th>\n",
       "      <td>HN</td>\n",
       "      <td>Why Everyone Missed the Most Mind-Blowing Feat...</td>\n",
       "      <td>There’s one incredible feature of cryptocurren...</td>\n",
       "      <td>23401</td>\n",
       "      <td>10</td>\n",
       "      <td>627</td>\n",
       "      <td>en</td>\n",
       "      <td>Jul 31, 2017</td>\n",
       "    </tr>\n",
       "    <tr>\n",
       "      <th>1</th>\n",
       "      <td>HN</td>\n",
       "      <td>NEO versus Ethereum: Why NEO might be 2018’s s...</td>\n",
       "      <td>&lt;img class=\"progressiveMedia-noscript js-progr...</td>\n",
       "      <td>23972</td>\n",
       "      <td>9</td>\n",
       "      <td>156</td>\n",
       "      <td>en</td>\n",
       "      <td>Dec 6, 2017</td>\n",
       "    </tr>\n",
       "  </tbody>\n",
       "</table>\n",
       "</div>"
      ],
      "text/plain": [
       "  publicationname  ...          Date\n",
       "0              HN  ...  Jul 31, 2017\n",
       "1              HN  ...   Dec 6, 2017\n",
       "\n",
       "[2 rows x 8 columns]"
      ]
     },
     "execution_count": 29,
     "metadata": {
      "tags": []
     },
     "output_type": "execute_result"
    }
   ],
   "source": [
    "test_2.head(2)"
   ]
  },
  {
   "cell_type": "markdown",
   "metadata": {
    "colab_type": "text",
    "id": "PgLm25YXlRKX"
   },
   "source": [
    "OUTLIER HANDLING AND NUMARICAL ATTRIBUTE ANALYSIS\n",
    "\n",
    "In order to get a better explanatory analysis in the upcoming sections, I wanted to clean the outliers in the numerical attributes. First I checked the distribution of the target variable. It is highly right scewed and has a long tail. It would be helpful to log transform the target variable so that the prediction model is also able to predict high number of claps more effectively. Boxplot of target variable also points out so many outliers. I will first go to the website of those outlier posts and see if the number of claps on the website is the same as in our data set. "
   ]
  },
  {
   "cell_type": "code",
   "execution_count": 30,
   "metadata": {
    "colab": {
     "base_uri": "https://localhost:8080/",
     "height": 628
    },
    "colab_type": "code",
    "id": "ou-OA8DbnZEk",
    "outputId": "65728ca2-91ae-4fec-d60d-176240ddc18d"
   },
   "outputs": [
    {
     "data": {
      "text/plain": [
       "Text(0.5, 0, 'Claps')"
      ]
     },
     "execution_count": 30,
     "metadata": {
      "tags": []
     },
     "output_type": "execute_result"
    },
    {
     "data": {
      "image/png": "[encoded data removed]",
      "text/plain": [
       "<Figure size 720x720 with 2 Axes>"
      ]
     },
     "metadata": {
      "needs_background": "light",
      "tags": []
     },
     "output_type": "display_data"
    }
   ],
   "source": [
    "figure1, ax1 = plt.subplots(ncols=2,figsize=(10,10))\n",
    "\n",
    "ax1[0].hist(train['totalClapCount'], color='green', bins = 500)\n",
    "ax1[1].boxplot(train['totalClapCount']) \n",
    "\n",
    "ax1[0].axis(ymin=0,ymax=2000)\n",
    "ax1[0].axis(xmin=0,xmax=30000)\n",
    "ax1[0].set_ylabel('Count')\n",
    "ax1[0].set_xlabel('Claps')\n"
   ]
  },
  {
   "cell_type": "code",
   "execution_count": 31,
   "metadata": {
    "colab": {
     "base_uri": "https://localhost:8080/",
     "height": 88
    },
    "colab_type": "code",
    "id": "iecpKdf0aig2",
    "outputId": "7bdde6c7-8a5c-4c56-e5e0-23adf967f01d"
   },
   "outputs": [
    {
     "data": {
      "text/plain": [
       "31826    https://medium.com/s/story/my-name-is-wil-wheaton-i-live-with-chronic-depression-and-generalized-anxiety-i-am-not-ashamed-8f693f9c0af1\n",
       "34751                                                        https://medium.com/s/story/the-most-important-skill-nobody-taught-you-9b162377ab77\n",
       "63255                                           https://medium.freecodecamp.org/we-fired-our-top-talent-best-decision-we-ever-made-4c0a99728fde\n",
       "Name: url, dtype: object"
      ]
     },
     "execution_count": 31,
     "metadata": {
      "tags": []
     },
     "output_type": "execute_result"
    }
   ],
   "source": [
    "pd.options.display.max_colwidth = 200\n",
    "train_2.loc[train_2['totalClapCount']>100000,'url']"
   ]
  },
  {
   "cell_type": "markdown",
   "metadata": {
    "colab_type": "text",
    "id": "ZiizLyqtZ466"
   },
   "source": [
    "It seems like the values are real and they are just the random variation in the data. Although the data doesn't look like normally distributed, z score outlier elimination may give further ideas. There are 249 data points which have z score bigger than 3 standard deviation. However, this number sounds still too much to me, because outliers should be observations which are rare. By looking at the boxplot, claps which are more than 60k can be treated as outliers. For now, I will keep the target variable as it is and will decide to truncate or approximate outliers after getting the prediction results. I don't think that outliers should be approximated to some other number or should be deleted because outliers are not result of wrong data entry or wrong measurement in our case"
   ]
  },
  {
   "cell_type": "code",
   "execution_count": 32,
   "metadata": {
    "colab": {
     "base_uri": "https://localhost:8080/",
     "height": 35
    },
    "colab_type": "code",
    "id": "YNy_qGB4bY1A",
    "outputId": "e897b599-5ef2-4942-b482-410b2560cb05"
   },
   "outputs": [
    {
     "data": {
      "text/plain": [
       "249"
      ]
     },
     "execution_count": 32,
     "metadata": {
      "tags": []
     },
     "output_type": "execute_result"
    }
   ],
   "source": [
    "train_z=(train['totalClapCount'] - train['totalClapCount'].mean())/train['totalClapCount'].std()\n",
    "sum(train_z>3)"
   ]
  },
  {
   "cell_type": "markdown",
   "metadata": {
    "colab_type": "text",
    "id": "mh5vAaExqBJj"
   },
   "source": [
    "Before moving on, it would be a good idea to log transform the target variable and check the distribution. Unfortunately the transformed values don't approximate a normal distribution. The reason is the high number of 0 Claps. "
   ]
  },
  {
   "cell_type": "code",
   "execution_count": 33,
   "metadata": {
    "colab": {
     "base_uri": "https://localhost:8080/",
     "height": 628
    },
    "colab_type": "code",
    "id": "paH4953vjH_B",
    "outputId": "b3c38019-5ee1-4bbd-ce50-f67c376228c1"
   },
   "outputs": [
    {
     "data": {
      "text/plain": [
       "Text(0.5, 0, 'Claps')"
      ]
     },
     "execution_count": 33,
     "metadata": {
      "tags": []
     },
     "output_type": "execute_result"
    },
    {
     "data": {
      "image/png": "[encoded data removed]",
      "text/plain": [
       "<Figure size 720x720 with 2 Axes>"
      ]
     },
     "metadata": {
      "needs_background": "light",
      "tags": []
     },
     "output_type": "display_data"
    }
   ],
   "source": [
    "totalClapCountLog=np.log(train['totalClapCount'].values+1)\n",
    "figure2, ax2 = plt.subplots(ncols=2,figsize=(10,10))\n",
    "\n",
    "ax2[0].hist(totalClapCountLog, color='green',bins=500)\n",
    "ax2[1].boxplot(totalClapCountLog) \n",
    "\n",
    "ax2[0].axis(ymin=0,ymax=2000)\n",
    "ax2[0].axis(xmin=0,xmax=30)\n",
    "ax2[0].set_ylabel('Count')\n",
    "ax2[0].set_xlabel('Claps')"
   ]
  },
  {
   "cell_type": "markdown",
   "metadata": {
    "colab_type": "text",
    "id": "QFPZQpzrSc6s"
   },
   "source": [
    "responsesCreatedCount has a very smiliar histogram and boxplot to target variable. When the outliers are cleaned by using interquartile range method,Only 0 responses remained. Moreoever, the outlier values are correct, which means they are just random variation in the data as in the case with target variable. responses is highly corrolated with the target so I want it to be in my training set. Therefore I will keep it without cleaning outliers.\n"
   ]
  },
  {
   "cell_type": "code",
   "execution_count": 34,
   "metadata": {
    "colab": {
     "base_uri": "https://localhost:8080/",
     "height": 614
    },
    "colab_type": "code",
    "id": "7YfsyWPcR_g1",
    "outputId": "7a401c89-d2c0-48d3-fb97-5911b4e1a1a6"
   },
   "outputs": [
    {
     "data": {
      "text/plain": [
       "(0.0, 500.0, 0.0, 1000.0)"
      ]
     },
     "execution_count": 34,
     "metadata": {
      "tags": []
     },
     "output_type": "execute_result"
    },
    {
     "data": {
      "image/png": "[encoded data removed]",
      "text/plain": [
       "<Figure size 720x720 with 2 Axes>"
      ]
     },
     "metadata": {
      "needs_background": "light",
      "tags": []
     },
     "output_type": "display_data"
    }
   ],
   "source": [
    "figure3, ax3 = plt.subplots(ncols=2,figsize=(10,10))\n",
    "\n",
    "ax3[0].hist(train['responsesCreatedCount'], color='green',bins=500)\n",
    "ax3[1].boxplot(train['responsesCreatedCount']) \n",
    "ax3[0].axis(ymin=0,ymax=1000)\n",
    "ax3[0].axis(xmin=0,xmax=500)"
   ]
  },
  {
   "cell_type": "code",
   "execution_count": 35,
   "metadata": {
    "colab": {
     "base_uri": "https://localhost:8080/",
     "height": 70
    },
    "colab_type": "code",
    "id": "SVrw7mTZcqCP",
    "outputId": "63f4d7d7-328a-418f-ecd9-62398c88daa0"
   },
   "outputs": [
    {
     "data": {
      "text/plain": [
       "13184                      https://medium.com/s/story/the-snips-air-token-sale-4511320d68d0\n",
       "34751    https://medium.com/s/story/the-most-important-skill-nobody-taught-you-9b162377ab77\n",
       "Name: url, dtype: object"
      ]
     },
     "execution_count": 35,
     "metadata": {
      "tags": []
     },
     "output_type": "execute_result"
    }
   ],
   "source": [
    "#check if the outlier values are real\n",
    "pd.options.display.max_colwidth = 200\n",
    "train_2.loc[train_2['responsesCreatedCount']>1000,'url']"
   ]
  },
  {
   "cell_type": "code",
   "execution_count": 36,
   "metadata": {
    "colab": {
     "base_uri": "https://localhost:8080/",
     "height": 614
    },
    "colab_type": "code",
    "id": "VHT_OWOmvgCf",
    "outputId": "b6d5898c-f7b6-4ea9-a0f4-e954821f55fe"
   },
   "outputs": [
    {
     "data": {
      "text/plain": [
       "(0.0, 10000.0, 0.0, 5000.0)"
      ]
     },
     "execution_count": 36,
     "metadata": {
      "tags": []
     },
     "output_type": "execute_result"
    },
    {
     "data": {
      "image/png": "[encoded data removed]",
      "text/plain": [
       "<Figure size 720x720 with 2 Axes>"
      ]
     },
     "metadata": {
      "needs_background": "light",
      "tags": []
     },
     "output_type": "display_data"
    }
   ],
   "source": [
    "figure4, ax4 = plt.subplots(ncols=2,figsize=(10,10))\n",
    "\n",
    "ax4[0].hist(train['wordCount'], color='green',bins=500)\n",
    "ax4[1].boxplot(train['wordCount']) \n",
    "ax4[0].axis(ymin=0,ymax=5000)\n",
    "ax4[0].axis(xmin=0,xmax=10000)"
   ]
  },
  {
   "cell_type": "code",
   "execution_count": 37,
   "metadata": {
    "colab": {
     "base_uri": "https://localhost:8080/",
     "height": 614
    },
    "colab_type": "code",
    "id": "nIJww_G5fohu",
    "outputId": "9a3cda68-b5da-4264-9014-b9797299b35a"
   },
   "outputs": [
    {
     "data": {
      "text/plain": [
       "(0.0, 200.0, 0.0, 5000.0)"
      ]
     },
     "execution_count": 37,
     "metadata": {
      "tags": []
     },
     "output_type": "execute_result"
    },
    {
     "data": {
      "image/png": "[encoded data removed]",
      "text/plain": [
       "<Figure size 720x720 with 2 Axes>"
      ]
     },
     "metadata": {
      "needs_background": "light",
      "tags": []
     },
     "output_type": "display_data"
    }
   ],
   "source": [
    "figure5, ax5 = plt.subplots(ncols=2,figsize=(10,10))\n",
    "\n",
    "ax5[0].hist(train['imageCount'], color='green',bins=500)\n",
    "ax5[1].boxplot(train['imageCount']) \n",
    "ax5[0].axis(ymin=0,ymax=5000)\n",
    "ax5[0].axis(xmin=0,xmax=200)"
   ]
  },
  {
   "cell_type": "markdown",
   "metadata": {
    "colab_type": "text",
    "id": "d-yKqN4_-cad"
   },
   "source": [
    "I used snspairplot in order to see how the attributes are pairwise distributed.It looks like responsescreatedCount is highly corrolated with our target. Scatter plot of responsesCreatedCount points out an outlier observation which is around 3000 responses. Moreover, the first row of the pairplot indicates that the  claps which are higher than 60k are also outliers. \n",
    "Reading time and word count probably has corrolation very close to 1. It will be sufficient to keep any one of them in our traning set. Test data doesn't have reading time but it has length, which I think number of words in the text. Therefore I will keep word count in the traning set. Before moving on, I will truncate the outliers I observed here, I will store the resulting training set in train_noOutliers and then I will calculate the corrolation between the attributes via heatmap"
   ]
  },
  {
   "cell_type": "code",
   "execution_count": 38,
   "metadata": {
    "colab": {
     "base_uri": "https://localhost:8080/",
     "height": 946
    },
    "colab_type": "code",
    "id": "cfR7PAHI3TLl",
    "outputId": "74c3a21e-ff72-4ee9-ded9-9eae7520cbe8"
   },
   "outputs": [
    {
     "data": {
      "text/plain": [
       "<seaborn.axisgrid.PairGrid at 0x7f0ca87d5b70>"
      ]
     },
     "execution_count": 38,
     "metadata": {
      "tags": []
     },
     "output_type": "execute_result"
    },
    {
     "data": {
      "image/png": "[encoded data removed]",
      "text/plain": [
       "<Figure size 900x900 with 30 Axes>"
      ]
     },
     "metadata": {
      "needs_background": "light",
      "tags": []
     },
     "output_type": "display_data"
    }
   ],
   "source": [
    "sns.pairplot(train[['totalClapCount','responsesCreatedCount','wordCount','readingTime','imageCount']])\n"
   ]
  },
  {
   "cell_type": "markdown",
   "metadata": {
    "colab_type": "text",
    "id": "39gtqzXXPkzG"
   },
   "source": [
    "Here I create the train set train_noOutlier which doesn't have the outliers that I observed above. Actually outliers shouldn't be removed because they are not due to data entry or measurement mistakes. However, they create a huge noise in the data. Therefore I will keep two training sets, one is with outliers the other one is without outliers"
   ]
  },
  {
   "cell_type": "code",
   "execution_count": 30,
   "metadata": {
    "colab": {},
    "colab_type": "code",
    "id": "wQnHvD3BBfUE"
   },
   "outputs": [],
   "source": [
    "train_noOutlier=train.loc[train['totalClapCount']<60000] #remove the data points having more than 60k claps\n",
    "train_noOutlier=train_noOutlier.loc[train_noOutlier['responsesCreatedCount']<2000]#remove the data points having more than 2k responses\n",
    "train_noOutlier=train_noOutlier.loc[train_noOutlier['imageCount']<150] #remove the data points having more than 150 images\n",
    "train_noOutlier=train_noOutlier.loc[train_noOutlier['wordCount']<20000] #remove the data points having more than 20k words"
   ]
  },
  {
   "cell_type": "code",
   "execution_count": 40,
   "metadata": {
    "colab": {
     "base_uri": "https://localhost:8080/",
     "height": 764
    },
    "colab_type": "code",
    "id": "62I9FRCjD-EQ",
    "outputId": "80ddd6c7-8aa0-4d17-c987-ec20483ebc4d"
   },
   "outputs": [
    {
     "data": {
      "text/plain": [
       "<seaborn.axisgrid.PairGrid at 0x7f0ca2823978>"
      ]
     },
     "execution_count": 40,
     "metadata": {
      "tags": []
     },
     "output_type": "execute_result"
    },
    {
     "data": {
      "image/png": "[encoded data removed]",
      "text/plain": [
       "<Figure size 720x720 with 20 Axes>"
      ]
     },
     "metadata": {
      "needs_background": "light",
      "tags": []
     },
     "output_type": "display_data"
    }
   ],
   "source": [
    "sns.pairplot(train_noOutlier[['totalClapCount','responsesCreatedCount','imageCount','wordCount']])"
   ]
  },
  {
   "cell_type": "markdown",
   "metadata": {
    "colab_type": "text",
    "id": "YNr5Lth0ZvEs"
   },
   "source": [
    "The below heatmaps show that our target variable is only corrolated with responsesCreatedCount. The relationship between these two is defined better in train_noOutlier set,i.e. corralation is 0.724. It is expected that train_noOutlier gives better predictions, however, this may not be the case depending on the test data"
   ]
  },
  {
   "cell_type": "code",
   "execution_count": 41,
   "metadata": {
    "colab": {
     "base_uri": "https://localhost:8080/",
     "height": 1000
    },
    "colab_type": "code",
    "id": "1cj2eygcVhPM",
    "outputId": "cd496e59-1d7a-44e6-a853-9c812f37e209"
   },
   "outputs": [
    {
     "data": {
      "image/png": "[encoded data removed]",
      "text/plain": [
       "<Figure size 2160x1440 with 4 Axes>"
      ]
     },
     "metadata": {
      "needs_background": "light",
      "tags": []
     },
     "output_type": "display_data"
    }
   ],
   "source": [
    "corr1= train.corr()\n",
    "corr2= train_noOutlier.corr()\n",
    "f,ax = plt.subplots(1,2,figsize=(30, 20))\n",
    "sns.heatmap(corr1[(corr1 >= 0.30) | (corr1 <= -0.30)],\n",
    "            annot=True,linewidth=.5,fmt='1f',ax=ax[0]);\n",
    "sns.heatmap(corr2[(corr2 >= 0.30) | (corr2 <= -0.30)],\n",
    "            annot=True,linewidth=.5,fmt='1f',ax=ax[1]);\n",
    "f.tight_layout(pad=10.0)"
   ]
  },
  {
   "cell_type": "markdown",
   "metadata": {
    "colab_type": "text",
    "id": "XEch5RTupuuu"
   },
   "source": [
    "HANDLING OF CATEGORICAL AND TIME DATA\n",
    "\n",
    "Here, I will convert date-time column into month and day columns. Maybe there will be a relationship between target and time that the post is published."
   ]
  },
  {
   "cell_type": "code",
   "execution_count": 31,
   "metadata": {
    "colab": {
     "base_uri": "https://localhost:8080/",
     "height": 337
    },
    "colab_type": "code",
    "id": "K_b2ziJgxhFr",
    "outputId": "07ff7335-fd1f-478c-e26f-b1eee07c973f"
   },
   "outputs": [
    {
     "name": "stderr",
     "output_type": "stream",
     "text": [
      "/usr/local/lib/python3.6/dist-packages/ipykernel_launcher.py:1: SettingWithCopyWarning: \n",
      "A value is trying to be set on a copy of a slice from a DataFrame.\n",
      "Try using .loc[row_indexer,col_indexer] = value instead\n",
      "\n",
      "See the caveats in the documentation: https://pandas.pydata.org/pandas-docs/stable/user_guide/indexing.html#returning-a-view-versus-a-copy\n",
      "  \"\"\"Entry point for launching an IPython kernel.\n",
      "/usr/local/lib/python3.6/dist-packages/ipykernel_launcher.py:2: SettingWithCopyWarning: \n",
      "A value is trying to be set on a copy of a slice from a DataFrame.\n",
      "Try using .loc[row_indexer,col_indexer] = value instead\n",
      "\n",
      "See the caveats in the documentation: https://pandas.pydata.org/pandas-docs/stable/user_guide/indexing.html#returning-a-view-versus-a-copy\n",
      "  \n",
      "/usr/local/lib/python3.6/dist-packages/ipykernel_launcher.py:3: SettingWithCopyWarning: \n",
      "A value is trying to be set on a copy of a slice from a DataFrame.\n",
      "Try using .loc[row_indexer,col_indexer] = value instead\n",
      "\n",
      "See the caveats in the documentation: https://pandas.pydata.org/pandas-docs/stable/user_guide/indexing.html#returning-a-view-versus-a-copy\n",
      "  This is separate from the ipykernel package so we can avoid doing imports until\n"
     ]
    }
   ],
   "source": [
    "train['firstPublishedDate']= pd.to_datetime(train['firstPublishedDate']) #It is needed to convert dataype to datetime so that I can divide date time into months and days\n",
    "train['Month'] = train['firstPublishedDate'].dt.month.astype('category') #Get the month of the date\n",
    "train['Weekday'] = train['firstPublishedDate'].dt.day_name().astype('category') #Get the day of the date\n",
    "\n",
    "#The above same procedure is repeted for the train set without ouliers\n",
    "train_noOutlier['firstPublishedDate']= pd.to_datetime(train_noOutlier['firstPublishedDate']) \n",
    "train_noOutlier['Month'] = train_noOutlier['firstPublishedDate'].dt.month.astype('category')\n",
    "train_noOutlier['Weekday'] = train_noOutlier['firstPublishedDate'].dt.day_name().astype('category')"
   ]
  },
  {
   "cell_type": "code",
   "execution_count": 32,
   "metadata": {
    "colab": {
     "base_uri": "https://localhost:8080/",
     "height": 230
    },
    "colab_type": "code",
    "id": "AfCzbY74SJki",
    "outputId": "b26c5cc3-8279-486b-9694-8dcb5f33dcc9"
   },
   "outputs": [
    {
     "name": "stderr",
     "output_type": "stream",
     "text": [
      "/usr/local/lib/python3.6/dist-packages/pandas/core/indexing.py:845: SettingWithCopyWarning: \n",
      "A value is trying to be set on a copy of a slice from a DataFrame.\n",
      "Try using .loc[row_indexer,col_indexer] = value instead\n",
      "\n",
      "See the caveats in the documentation: https://pandas.pydata.org/pandas-docs/stable/user_guide/indexing.html#returning-a-view-versus-a-copy\n",
      "  self.obj[key] = _infer_fill_value(value)\n",
      "/usr/local/lib/python3.6/dist-packages/pandas/core/indexing.py:966: SettingWithCopyWarning: \n",
      "A value is trying to be set on a copy of a slice from a DataFrame.\n",
      "Try using .loc[row_indexer,col_indexer] = value instead\n",
      "\n",
      "See the caveats in the documentation: https://pandas.pydata.org/pandas-docs/stable/user_guide/indexing.html#returning-a-view-versus-a-copy\n",
      "  self.obj[item] = s\n"
     ]
    }
   ],
   "source": [
    "train.loc[(train['Month'].isin([12,1,2])), 'MonthCat'] = 'winter'\n",
    "train.loc[(train['Month'].isin([3,4,5])), 'MonthCat'] = 'spring' \n",
    "train.loc[(train['Month'].isin([6,7,8])), 'MonthCat'] = 'summer' \n",
    "train.loc[(train['Month'].isin([9,10,11])), 'MonthCat'] = 'fall' \n",
    "\n",
    "\n",
    "train_noOutlier.loc[(train_noOutlier['Month'].isin([12,1,2])), 'MonthCat'] = 'winter' \n",
    "train_noOutlier.loc[(train_noOutlier['Month'].isin([3,4,5])), 'MonthCat'] = 'spring' \n",
    "train_noOutlier.loc[(train_noOutlier['Month'].isin([6,7,8])), 'MonthCat'] = 'summer' \n",
    "train_noOutlier.loc[(train_noOutlier['Month'].isin([9,10,11])), 'MonthCat'] = 'fall' \n"
   ]
  },
  {
   "cell_type": "markdown",
   "metadata": {
    "colab_type": "text",
    "id": "0NU4vJhhCaCP"
   },
   "source": [
    "The relationships between day/month and target variable are plotted below. Unfortunately there seems no clear relationship in both train and tran_noOutlier"
   ]
  },
  {
   "cell_type": "code",
   "execution_count": 44,
   "metadata": {
    "colab": {
     "base_uri": "https://localhost:8080/",
     "height": 497
    },
    "colab_type": "code",
    "id": "U_2L5X-LNrfz",
    "outputId": "2a91d046-82b5-493a-da70-196b42c4cf1c"
   },
   "outputs": [
    {
     "data": {
      "image/png": "[encoded data removed]",
      "text/plain": [
       "<Figure size 1800x576 with 8 Axes>"
      ]
     },
     "metadata": {
      "needs_background": "light",
      "tags": []
     },
     "output_type": "display_data"
    }
   ],
   "source": [
    "fig1, axs1 = plt.subplots(nrows=2,ncols=4)\n",
    "fig1.set_size_inches(25,8)\n",
    "sns.countplot(data = train, x = 'Weekday', ax=axs1[0,0])\n",
    "sns.boxplot(data = train, x = 'Weekday', y='totalClapCount',ax=axs1[0,1])\n",
    "sns.countplot(data = train, x = 'MonthCat', ax=axs1[1,0])\n",
    "sns.boxplot(data = train, x = 'MonthCat', y='totalClapCount',ax=axs1[1,1])\n",
    "\n",
    "sns.countplot(data = train_noOutlier, x = 'Weekday', ax=axs1[0,2])\n",
    "sns.boxplot(data = train_noOutlier, x = 'Weekday', y='totalClapCount',ax=axs1[0,3])\n",
    "sns.countplot(data = train_noOutlier, x = 'MonthCat', ax=axs1[1,2])\n",
    "sns.boxplot(data = train_noOutlier, x = 'MonthCat', y='totalClapCount',ax=axs1[1,3])\n",
    "\n",
    "fig1.tight_layout(pad=3.0)\n"
   ]
  },
  {
   "cell_type": "markdown",
   "metadata": {
    "colab_type": "text",
    "id": "cifJIZGKDRud"
   },
   "source": [
    "The posts can be categorized in two class, English and non-English. I included the non-English text in the nlp analysis, therefore I keep language column in the dataset. English texts have the higher number of claps as expected. language column may be helpful for training"
   ]
  },
  {
   "cell_type": "code",
   "execution_count": 33,
   "metadata": {
    "colab": {
     "base_uri": "https://localhost:8080/",
     "height": 230
    },
    "colab_type": "code",
    "id": "y6sttAWri_FT",
    "outputId": "580b8d03-a750-4e42-d1c5-b10cb228f475"
   },
   "outputs": [
    {
     "name": "stderr",
     "output_type": "stream",
     "text": [
      "/usr/local/lib/python3.6/dist-packages/ipykernel_launcher.py:1: SettingWithCopyWarning: \n",
      "A value is trying to be set on a copy of a slice from a DataFrame.\n",
      "Try using .loc[row_indexer,col_indexer] = value instead\n",
      "\n",
      "See the caveats in the documentation: https://pandas.pydata.org/pandas-docs/stable/user_guide/indexing.html#returning-a-view-versus-a-copy\n",
      "  \"\"\"Entry point for launching an IPython kernel.\n",
      "/usr/local/lib/python3.6/dist-packages/ipykernel_launcher.py:2: SettingWithCopyWarning: \n",
      "A value is trying to be set on a copy of a slice from a DataFrame.\n",
      "Try using .loc[row_indexer,col_indexer] = value instead\n",
      "\n",
      "See the caveats in the documentation: https://pandas.pydata.org/pandas-docs/stable/user_guide/indexing.html#returning-a-view-versus-a-copy\n",
      "  \n"
     ]
    }
   ],
   "source": [
    "train['language']=['en' if i == 'en' else 'other' for i in list(train['language'])]\n",
    "train['language']=train['language'].astype('category')\n",
    "\n",
    "train_noOutlier['language']=['en' if i == 'en' else 'other' for i in list(train_noOutlier['language'])]\n",
    "train_noOutlier['language']=train_noOutlier['language'].astype('category')\n",
    "\n",
    "test_2['language']=['en' if i == 'en' else 'other' for i in list(test_2['language'])]"
   ]
  },
  {
   "cell_type": "code",
   "execution_count": 46,
   "metadata": {
    "colab": {
     "base_uri": "https://localhost:8080/",
     "height": 496
    },
    "colab_type": "code",
    "id": "8_20H91feh06",
    "outputId": "e26bc1d8-601c-4d34-aa23-57ac9b509d8f"
   },
   "outputs": [
    {
     "data": {
      "image/png": "[encoded data removed]",
      "text/plain": [
       "<Figure size 1800x576 with 4 Axes>"
      ]
     },
     "metadata": {
      "needs_background": "light",
      "tags": []
     },
     "output_type": "display_data"
    }
   ],
   "source": [
    "fig2, axs2 = plt.subplots(ncols=4)\n",
    "fig2.set_size_inches(25,8)\n",
    "sns.countplot(data = train, x = 'language', ax=axs2[0])\n",
    "sns.boxplot(data = train, x = 'language', y='totalClapCount',ax=axs2[1])\n",
    "sns.countplot(data = train_noOutlier, x = 'language', ax=axs2[2])\n",
    "sns.boxplot(data = train_noOutlier, x = 'language', y='totalClapCount',ax=axs2[3])\n",
    "fig2.tight_layout(pad=3.0)"
   ]
  },
  {
   "cell_type": "markdown",
   "metadata": {
    "colab_type": "text",
    "id": "qG-BnGjsEyk1"
   },
   "source": [
    "Publication name has too many na records. I have checked those medium posts with and without na and what I realized is that if a medium post is not published in a publication, then simply there is no record for publication name column in the dataset.That is to say, na's are not result of bad scrape of the website. Therefore I filled those na's with author names. Further I divided publication names into 5 categories, namely author, Towards Data Science, Hacker Noon, Netflix Techblock and others. These categories(except Netflix Techblock) constitute the majority of the records. This is why I categorized publicationname into these categories"
   ]
  },
  {
   "cell_type": "code",
   "execution_count": 34,
   "metadata": {
    "colab": {
     "base_uri": "https://localhost:8080/",
     "height": 340
    },
    "colab_type": "code",
    "id": "mbwEJyhM8Vh_",
    "outputId": "d31cfb3c-11c4-4c6f-9ad8-8444297773e2"
   },
   "outputs": [
    {
     "data": {
      "text/html": [
       "<div>\n",
       "<style scoped>\n",
       "    .dataframe tbody tr th:only-of-type {\n",
       "        vertical-align: middle;\n",
       "    }\n",
       "\n",
       "    .dataframe tbody tr th {\n",
       "        vertical-align: top;\n",
       "    }\n",
       "\n",
       "    .dataframe thead th {\n",
       "        text-align: right;\n",
       "    }\n",
       "</style>\n",
       "<table border=\"1\" class=\"dataframe\">\n",
       "  <thead>\n",
       "    <tr style=\"text-align: right;\">\n",
       "      <th></th>\n",
       "      <th>index</th>\n",
       "      <th>publicationname</th>\n",
       "    </tr>\n",
       "  </thead>\n",
       "  <tbody>\n",
       "    <tr>\n",
       "      <th>0</th>\n",
       "      <td>Towards Data Science</td>\n",
       "      <td>3836</td>\n",
       "    </tr>\n",
       "    <tr>\n",
       "      <th>1</th>\n",
       "      <td>Hacker Noon</td>\n",
       "      <td>1253</td>\n",
       "    </tr>\n",
       "    <tr>\n",
       "      <th>2</th>\n",
       "      <td>Becoming Human: Artificial Intelligence Magazine</td>\n",
       "      <td>758</td>\n",
       "    </tr>\n",
       "    <tr>\n",
       "      <th>3</th>\n",
       "      <td>Data Driven Investor</td>\n",
       "      <td>659</td>\n",
       "    </tr>\n",
       "    <tr>\n",
       "      <th>4</th>\n",
       "      <td>Chatbots Life</td>\n",
       "      <td>479</td>\n",
       "    </tr>\n",
       "    <tr>\n",
       "      <th>5</th>\n",
       "      <td>SyncedReview</td>\n",
       "      <td>367</td>\n",
       "    </tr>\n",
       "    <tr>\n",
       "      <th>6</th>\n",
       "      <td>Chatbots Magazine</td>\n",
       "      <td>359</td>\n",
       "    </tr>\n",
       "    <tr>\n",
       "      <th>7</th>\n",
       "      <td>The Startup</td>\n",
       "      <td>317</td>\n",
       "    </tr>\n",
       "    <tr>\n",
       "      <th>8</th>\n",
       "      <td>Planeta Chatbot : todo sobre los Chatbots y la...</td>\n",
       "      <td>308</td>\n",
       "    </tr>\n",
       "    <tr>\n",
       "      <th>9</th>\n",
       "      <td>DEEPAERODRONES</td>\n",
       "      <td>273</td>\n",
       "    </tr>\n",
       "  </tbody>\n",
       "</table>\n",
       "</div>"
      ],
      "text/plain": [
       "                                               index  publicationname\n",
       "0                               Towards Data Science             3836\n",
       "1                                        Hacker Noon             1253\n",
       "2   Becoming Human: Artificial Intelligence Magazine              758\n",
       "3                               Data Driven Investor              659\n",
       "4                                      Chatbots Life              479\n",
       "5                                       SyncedReview              367\n",
       "6                                  Chatbots Magazine              359\n",
       "7                                        The Startup              317\n",
       "8  Planeta Chatbot : todo sobre los Chatbots y la...              308\n",
       "9                                     DEEPAERODRONES              273"
      ]
     },
     "execution_count": 34,
     "metadata": {
      "tags": []
     },
     "output_type": "execute_result"
    }
   ],
   "source": [
    "counts=pd.DataFrame(train['publicationname'].value_counts())\n",
    "counts.reset_index(inplace=True)\n",
    "counts.head(10)"
   ]
  },
  {
   "cell_type": "code",
   "execution_count": 35,
   "metadata": {
    "colab": {
     "base_uri": "https://localhost:8080/",
     "height": 319
    },
    "colab_type": "code",
    "id": "SwXKixp9L1Pj",
    "outputId": "2ebd2a73-fd30-4eba-cfea-36b4bd621c96"
   },
   "outputs": [
    {
     "name": "stderr",
     "output_type": "stream",
     "text": [
      "/usr/local/lib/python3.6/dist-packages/pandas/core/generic.py:6245: SettingWithCopyWarning: \n",
      "A value is trying to be set on a copy of a slice from a DataFrame\n",
      "\n",
      "See the caveats in the documentation: https://pandas.pydata.org/pandas-docs/stable/user_guide/indexing.html#returning-a-view-versus-a-copy\n",
      "  self._update_inplace(new_data)\n",
      "/usr/local/lib/python3.6/dist-packages/ipykernel_launcher.py:4: SettingWithCopyWarning: \n",
      "A value is trying to be set on a copy of a slice from a DataFrame.\n",
      "Try using .loc[row_indexer,col_indexer] = value instead\n",
      "\n",
      "See the caveats in the documentation: https://pandas.pydata.org/pandas-docs/stable/user_guide/indexing.html#returning-a-view-versus-a-copy\n",
      "  after removing the cwd from sys.path.\n",
      "/usr/local/lib/python3.6/dist-packages/pandas/core/indexing.py:966: SettingWithCopyWarning: \n",
      "A value is trying to be set on a copy of a slice from a DataFrame.\n",
      "Try using .loc[row_indexer,col_indexer] = value instead\n",
      "\n",
      "See the caveats in the documentation: https://pandas.pydata.org/pandas-docs/stable/user_guide/indexing.html#returning-a-view-versus-a-copy\n",
      "  self.obj[item] = s\n"
     ]
    }
   ],
   "source": [
    "train['publicationname'].fillna('author',inplace = True)\n",
    "# train['publicationnamecat']=['author' if i == 'author' else train['publicationname'] for i in list(train['publicationname'])]\n",
    "\n",
    "train['publicationnamecat'] = 'others' #set default value to others for the new categorical variable\n",
    "train.loc[(train['publicationname'] == 'author'), 'publicationnamecat'] = 'author' # assign author if it is author\n",
    "train.loc[(train['publicationname'] == 'Towards Data Science'), 'publicationnamecat'] = 'TDS' # assign TDS if publicationname is Towards Data Science\n",
    "train.loc[(train['publicationname'] == 'Hacker Noon'), 'publicationnamecat'] = 'HN' # assign HN if publicationname is Hacker Noon\n",
    "train.loc[(train['publicationname'] == 'Netflix TechBlog'), 'publicationnamecat'] = 'NT' # assign NT if publicationname is Netflix Techblock\n",
    "\n",
    "\n",
    "train_noOutlier['publicationname'].fillna('author',inplace = True)\n",
    "# train_noOutlier['publicationnamecat']=['author' if i == 'author' else train_noOutlier['publicationname'] for i in list(train_noOutlier['publicationname'])]\n",
    "\n",
    "train_noOutlier['publicationnamecat'] = 'others' \n",
    "train_noOutlier.loc[(train_noOutlier['publicationname'] == 'author'), 'publicationnamecat'] = 'author' \n",
    "train_noOutlier.loc[(train_noOutlier['publicationname'] == 'Towards Data Science'), 'publicationnamecat'] = 'TDS' \n",
    "train_noOutlier.loc[(train_noOutlier['publicationname'] == 'Hacker Noon'), 'publicationnamecat'] = 'HN'\n",
    "train_noOutlier.loc[(train_noOutlier['publicationname'] == 'Netflix TechBlog'), 'publicationnamecat'] = 'NT'\n",
    "\n",
    "#Column names in test and train sets should be the same\n",
    "test_2['publicationnamecat']=test_2['publicationname']\n",
    "test_2=test_2.drop('publicationname',axis=1)"
   ]
  },
  {
   "cell_type": "markdown",
   "metadata": {
    "colab_type": "text",
    "id": "XS8HKmcr-idG"
   },
   "source": [
    "Median of Netflix Techblock is higher than the other categories, which means most of the records belonging to NT is assosciated with high number of claps. The other categories are associated with the outliers in the target variable, which may be helpful to predict the extremely high number of claps"
   ]
  },
  {
   "cell_type": "code",
   "execution_count": 36,
   "metadata": {
    "colab": {
     "base_uri": "https://localhost:8080/",
     "height": 496
    },
    "colab_type": "code",
    "id": "a-NFmBmUOFx8",
    "outputId": "b2edf0c8-8a27-4817-8331-a2a35bfd56c2"
   },
   "outputs": [
    {
     "data": {
      "image/png": "[encoded data removed]",
      "text/plain": [
       "<Figure size 1800x576 with 4 Axes>"
      ]
     },
     "metadata": {
      "needs_background": "light",
      "tags": []
     },
     "output_type": "display_data"
    }
   ],
   "source": [
    "fig3, axs3 = plt.subplots(ncols=4)\n",
    "fig3.set_size_inches(25,8)\n",
    "sns.countplot(data = train, x = 'publicationnamecat', ax=axs3[0])\n",
    "sns.boxplot(data = train, x = 'publicationnamecat', y='totalClapCount',ax=axs3[1])\n",
    "\n",
    "sns.countplot(data = train_noOutlier, x = 'publicationnamecat', ax=axs3[2])\n",
    "sns.boxplot(data = train_noOutlier, x = 'publicationnamecat', y='totalClapCount',ax=axs3[3])\n",
    "fig3.tight_layout(pad=3.0)\n"
   ]
  },
  {
   "cell_type": "code",
   "execution_count": 50,
   "metadata": {
    "colab": {
     "base_uri": "https://localhost:8080/",
     "height": 817
    },
    "colab_type": "code",
    "id": "am6gOSn_mT61",
    "outputId": "ee369864-06c1-447a-ecfb-4195599f0a4c"
   },
   "outputs": [
    {
     "name": "stdout",
     "output_type": "stream",
     "text": [
      "<class 'pandas.core.frame.DataFrame'>\n",
      "RangeIndex: 72337 entries, 0 to 72336\n",
      "Data columns (total 14 columns):\n",
      " #   Column                 Non-Null Count  Dtype         \n",
      "---  ------                 --------------  -----         \n",
      " 0   responsesCreatedCount  72337 non-null  int64         \n",
      " 1   imageCount             72337 non-null  int64         \n",
      " 2   wordCount              72337 non-null  int64         \n",
      " 3   readingTime            72337 non-null  float64       \n",
      " 4   firstPublishedDate     72337 non-null  datetime64[ns]\n",
      " 5   language               72337 non-null  category      \n",
      " 6   publicationname        72337 non-null  object        \n",
      " 7   totalClapCount         72337 non-null  int64         \n",
      " 8   text                   72337 non-null  object        \n",
      " 9   title                  72336 non-null  object        \n",
      " 10  Month                  72337 non-null  category      \n",
      " 11  Weekday                72337 non-null  category      \n",
      " 12  MonthCat               72337 non-null  object        \n",
      " 13  publicationnamecat     72337 non-null  object        \n",
      "dtypes: category(3), datetime64[ns](1), float64(1), int64(4), object(5)\n",
      "memory usage: 6.3+ MB\n",
      "None\n",
      "<class 'pandas.core.frame.DataFrame'>\n",
      "Int64Index: 72321 entries, 0 to 72336\n",
      "Data columns (total 14 columns):\n",
      " #   Column                 Non-Null Count  Dtype         \n",
      "---  ------                 --------------  -----         \n",
      " 0   responsesCreatedCount  72321 non-null  int64         \n",
      " 1   imageCount             72321 non-null  int64         \n",
      " 2   wordCount              72321 non-null  int64         \n",
      " 3   readingTime            72321 non-null  float64       \n",
      " 4   firstPublishedDate     72321 non-null  datetime64[ns]\n",
      " 5   language               72321 non-null  category      \n",
      " 6   publicationname        72321 non-null  object        \n",
      " 7   totalClapCount         72321 non-null  int64         \n",
      " 8   text                   72321 non-null  object        \n",
      " 9   title                  72320 non-null  object        \n",
      " 10  Month                  72321 non-null  category      \n",
      " 11  Weekday                72321 non-null  category      \n",
      " 12  MonthCat               72321 non-null  object        \n",
      " 13  publicationnamecat     72321 non-null  object        \n",
      "dtypes: category(3), datetime64[ns](1), float64(1), int64(4), object(5)\n",
      "memory usage: 9.3+ MB\n",
      "None\n"
     ]
    },
    {
     "data": {
      "text/plain": [
       "(None, None)"
      ]
     },
     "execution_count": 50,
     "metadata": {
      "tags": []
     },
     "output_type": "execute_result"
    }
   ],
   "source": [
    "print(train.info()), print(train_noOutlier.info())"
   ]
  },
  {
   "cell_type": "code",
   "execution_count": 37,
   "metadata": {
    "colab": {},
    "colab_type": "code",
    "id": "Q4X3JEPh5kOo"
   },
   "outputs": [],
   "source": [
    "#there is an na in title column, I simply dropped that record\n",
    "train = train.dropna()\n",
    "train_noOutlier=train_noOutlier.dropna()\n",
    "train.reset_index(drop=True, inplace=True)\n",
    "train_noOutlier.reset_index(drop=True, inplace=True)"
   ]
  },
  {
   "cell_type": "code",
   "execution_count": 38,
   "metadata": {
    "colab": {
     "base_uri": "https://localhost:8080/",
     "height": 370
    },
    "colab_type": "code",
    "id": "whi5a_o_0SPX",
    "outputId": "ceabbb57-296d-48e7-b105-a13eaa76099c"
   },
   "outputs": [
    {
     "data": {
      "text/html": [
       "<div>\n",
       "<style scoped>\n",
       "    .dataframe tbody tr th:only-of-type {\n",
       "        vertical-align: middle;\n",
       "    }\n",
       "\n",
       "    .dataframe tbody tr th {\n",
       "        vertical-align: top;\n",
       "    }\n",
       "\n",
       "    .dataframe thead th {\n",
       "        text-align: right;\n",
       "    }\n",
       "</style>\n",
       "<table border=\"1\" class=\"dataframe\">\n",
       "  <thead>\n",
       "    <tr style=\"text-align: right;\">\n",
       "      <th></th>\n",
       "      <th>responsesCreatedCount</th>\n",
       "      <th>imageCount</th>\n",
       "      <th>wordCount</th>\n",
       "      <th>language</th>\n",
       "      <th>totalClapCount</th>\n",
       "      <th>text</th>\n",
       "      <th>title</th>\n",
       "      <th>publicationnamecat</th>\n",
       "    </tr>\n",
       "  </thead>\n",
       "  <tbody>\n",
       "    <tr>\n",
       "      <th>count</th>\n",
       "      <td>72336.000000</td>\n",
       "      <td>72336.000000</td>\n",
       "      <td>72336.000000</td>\n",
       "      <td>72336</td>\n",
       "      <td>72336.000000</td>\n",
       "      <td>72336</td>\n",
       "      <td>72336</td>\n",
       "      <td>72336</td>\n",
       "    </tr>\n",
       "    <tr>\n",
       "      <th>unique</th>\n",
       "      <td>NaN</td>\n",
       "      <td>NaN</td>\n",
       "      <td>NaN</td>\n",
       "      <td>2</td>\n",
       "      <td>NaN</td>\n",
       "      <td>72023</td>\n",
       "      <td>70275</td>\n",
       "      <td>5</td>\n",
       "    </tr>\n",
       "    <tr>\n",
       "      <th>top</th>\n",
       "      <td>NaN</td>\n",
       "      <td>NaN</td>\n",
       "      <td>NaN</td>\n",
       "      <td>en</td>\n",
       "      <td>NaN</td>\n",
       "      <td>Learn Colors for Children with Little Monsters...</td>\n",
       "      <td>10 new things to read in AI</td>\n",
       "      <td>author</td>\n",
       "    </tr>\n",
       "    <tr>\n",
       "      <th>freq</th>\n",
       "      <td>NaN</td>\n",
       "      <td>NaN</td>\n",
       "      <td>NaN</td>\n",
       "      <td>66379</td>\n",
       "      <td>NaN</td>\n",
       "      <td>20</td>\n",
       "      <td>62</td>\n",
       "      <td>38707</td>\n",
       "    </tr>\n",
       "    <tr>\n",
       "      <th>mean</th>\n",
       "      <td>0.847047</td>\n",
       "      <td>3.608687</td>\n",
       "      <td>901.524193</td>\n",
       "      <td>NaN</td>\n",
       "      <td>162.631622</td>\n",
       "      <td>NaN</td>\n",
       "      <td>NaN</td>\n",
       "      <td>NaN</td>\n",
       "    </tr>\n",
       "    <tr>\n",
       "      <th>std</th>\n",
       "      <td>14.319543</td>\n",
       "      <td>5.415554</td>\n",
       "      <td>863.265046</td>\n",
       "      <td>NaN</td>\n",
       "      <td>1813.492635</td>\n",
       "      <td>NaN</td>\n",
       "      <td>NaN</td>\n",
       "      <td>NaN</td>\n",
       "    </tr>\n",
       "    <tr>\n",
       "      <th>min</th>\n",
       "      <td>0.000000</td>\n",
       "      <td>0.000000</td>\n",
       "      <td>0.000000</td>\n",
       "      <td>NaN</td>\n",
       "      <td>0.000000</td>\n",
       "      <td>NaN</td>\n",
       "      <td>NaN</td>\n",
       "      <td>NaN</td>\n",
       "    </tr>\n",
       "    <tr>\n",
       "      <th>25%</th>\n",
       "      <td>0.000000</td>\n",
       "      <td>1.000000</td>\n",
       "      <td>402.000000</td>\n",
       "      <td>NaN</td>\n",
       "      <td>0.000000</td>\n",
       "      <td>NaN</td>\n",
       "      <td>NaN</td>\n",
       "      <td>NaN</td>\n",
       "    </tr>\n",
       "    <tr>\n",
       "      <th>50%</th>\n",
       "      <td>0.000000</td>\n",
       "      <td>2.000000</td>\n",
       "      <td>703.000000</td>\n",
       "      <td>NaN</td>\n",
       "      <td>5.000000</td>\n",
       "      <td>NaN</td>\n",
       "      <td>NaN</td>\n",
       "      <td>NaN</td>\n",
       "    </tr>\n",
       "    <tr>\n",
       "      <th>75%</th>\n",
       "      <td>0.000000</td>\n",
       "      <td>5.000000</td>\n",
       "      <td>1138.000000</td>\n",
       "      <td>NaN</td>\n",
       "      <td>61.000000</td>\n",
       "      <td>NaN</td>\n",
       "      <td>NaN</td>\n",
       "      <td>NaN</td>\n",
       "    </tr>\n",
       "    <tr>\n",
       "      <th>max</th>\n",
       "      <td>3076.000000</td>\n",
       "      <td>263.000000</td>\n",
       "      <td>24964.000000</td>\n",
       "      <td>NaN</td>\n",
       "      <td>291706.000000</td>\n",
       "      <td>NaN</td>\n",
       "      <td>NaN</td>\n",
       "      <td>NaN</td>\n",
       "    </tr>\n",
       "  </tbody>\n",
       "</table>\n",
       "</div>"
      ],
      "text/plain": [
       "        responsesCreatedCount  ...  publicationnamecat\n",
       "count            72336.000000  ...               72336\n",
       "unique                    NaN  ...                   5\n",
       "top                       NaN  ...              author\n",
       "freq                      NaN  ...               38707\n",
       "mean                 0.847047  ...                 NaN\n",
       "std                 14.319543  ...                 NaN\n",
       "min                  0.000000  ...                 NaN\n",
       "25%                  0.000000  ...                 NaN\n",
       "50%                  0.000000  ...                 NaN\n",
       "75%                  0.000000  ...                 NaN\n",
       "max               3076.000000  ...                 NaN\n",
       "\n",
       "[11 rows x 8 columns]"
      ]
     },
     "execution_count": 38,
     "metadata": {
      "tags": []
     },
     "output_type": "execute_result"
    }
   ],
   "source": [
    "#I don't need reading time because it is highly corrolated with wordCount. Month and Day are not related to claps, therefore I dropped them as well. \n",
    "train=train.drop(['readingTime','firstPublishedDate','publicationname','Month','Weekday','MonthCat'],axis=1)\n",
    "train_noOutlier=train_noOutlier.drop(['readingTime','firstPublishedDate','publicationname','Month','Weekday','MonthCat'],axis=1)\n",
    "\n",
    "train.describe(include='all')"
   ]
  },
  {
   "cell_type": "code",
   "execution_count": 53,
   "metadata": {
    "colab": {
     "base_uri": "https://localhost:8080/",
     "height": 404
    },
    "colab_type": "code",
    "id": "UtALda2k8_gW",
    "outputId": "376baefb-2726-47e0-af50-1c915a35025c"
   },
   "outputs": [
    {
     "data": {
      "text/html": [
       "<div>\n",
       "<style scoped>\n",
       "    .dataframe tbody tr th:only-of-type {\n",
       "        vertical-align: middle;\n",
       "    }\n",
       "\n",
       "    .dataframe tbody tr th {\n",
       "        vertical-align: top;\n",
       "    }\n",
       "\n",
       "    .dataframe thead th {\n",
       "        text-align: right;\n",
       "    }\n",
       "</style>\n",
       "<table border=\"1\" class=\"dataframe\">\n",
       "  <thead>\n",
       "    <tr style=\"text-align: right;\">\n",
       "      <th></th>\n",
       "      <th>title</th>\n",
       "      <th>text</th>\n",
       "      <th>wordCount</th>\n",
       "      <th>imageCount</th>\n",
       "      <th>responsesCreatedCount</th>\n",
       "      <th>language</th>\n",
       "      <th>Date</th>\n",
       "      <th>publicationnamecat</th>\n",
       "    </tr>\n",
       "  </thead>\n",
       "  <tbody>\n",
       "    <tr>\n",
       "      <th>count</th>\n",
       "      <td>506</td>\n",
       "      <td>514</td>\n",
       "      <td>514.000000</td>\n",
       "      <td>514.000000</td>\n",
       "      <td>514.000000</td>\n",
       "      <td>514</td>\n",
       "      <td>514</td>\n",
       "      <td>514</td>\n",
       "    </tr>\n",
       "    <tr>\n",
       "      <th>unique</th>\n",
       "      <td>428</td>\n",
       "      <td>442</td>\n",
       "      <td>NaN</td>\n",
       "      <td>NaN</td>\n",
       "      <td>NaN</td>\n",
       "      <td>2</td>\n",
       "      <td>371</td>\n",
       "      <td>5</td>\n",
       "    </tr>\n",
       "    <tr>\n",
       "      <th>top</th>\n",
       "      <td>Data Science and the Art of Producing Entertainment at Netflix</td>\n",
       "      <td>Netflix Hack Day — Summer 2017Netflix Technology Blog in Netflix TechBlogFollowAug 29, 2017 · 3 min readby Daniel Jacobson, Ruslan Meshenberg, Leslie Posada, and Tom RichardsAbout a week ago, Netf...</td>\n",
       "      <td>NaN</td>\n",
       "      <td>NaN</td>\n",
       "      <td>NaN</td>\n",
       "      <td>en</td>\n",
       "      <td>Mar 27, 2018</td>\n",
       "      <td>others</td>\n",
       "    </tr>\n",
       "    <tr>\n",
       "      <th>freq</th>\n",
       "      <td>3</td>\n",
       "      <td>2</td>\n",
       "      <td>NaN</td>\n",
       "      <td>NaN</td>\n",
       "      <td>NaN</td>\n",
       "      <td>511</td>\n",
       "      <td>6</td>\n",
       "      <td>181</td>\n",
       "    </tr>\n",
       "    <tr>\n",
       "      <th>mean</th>\n",
       "      <td>NaN</td>\n",
       "      <td>NaN</td>\n",
       "      <td>6545.963035</td>\n",
       "      <td>0.223735</td>\n",
       "      <td>26.924125</td>\n",
       "      <td>NaN</td>\n",
       "      <td>NaN</td>\n",
       "      <td>NaN</td>\n",
       "    </tr>\n",
       "    <tr>\n",
       "      <th>std</th>\n",
       "      <td>NaN</td>\n",
       "      <td>NaN</td>\n",
       "      <td>6449.069641</td>\n",
       "      <td>1.610922</td>\n",
       "      <td>108.853820</td>\n",
       "      <td>NaN</td>\n",
       "      <td>NaN</td>\n",
       "      <td>NaN</td>\n",
       "    </tr>\n",
       "    <tr>\n",
       "      <th>min</th>\n",
       "      <td>NaN</td>\n",
       "      <td>NaN</td>\n",
       "      <td>251.000000</td>\n",
       "      <td>0.000000</td>\n",
       "      <td>1.000000</td>\n",
       "      <td>NaN</td>\n",
       "      <td>NaN</td>\n",
       "      <td>NaN</td>\n",
       "    </tr>\n",
       "    <tr>\n",
       "      <th>25%</th>\n",
       "      <td>NaN</td>\n",
       "      <td>NaN</td>\n",
       "      <td>908.750000</td>\n",
       "      <td>0.000000</td>\n",
       "      <td>1.000000</td>\n",
       "      <td>NaN</td>\n",
       "      <td>NaN</td>\n",
       "      <td>NaN</td>\n",
       "    </tr>\n",
       "    <tr>\n",
       "      <th>50%</th>\n",
       "      <td>NaN</td>\n",
       "      <td>NaN</td>\n",
       "      <td>5228.000000</td>\n",
       "      <td>0.000000</td>\n",
       "      <td>4.000000</td>\n",
       "      <td>NaN</td>\n",
       "      <td>NaN</td>\n",
       "      <td>NaN</td>\n",
       "    </tr>\n",
       "    <tr>\n",
       "      <th>75%</th>\n",
       "      <td>NaN</td>\n",
       "      <td>NaN</td>\n",
       "      <td>10433.250000</td>\n",
       "      <td>0.000000</td>\n",
       "      <td>13.000000</td>\n",
       "      <td>NaN</td>\n",
       "      <td>NaN</td>\n",
       "      <td>NaN</td>\n",
       "    </tr>\n",
       "    <tr>\n",
       "      <th>max</th>\n",
       "      <td>NaN</td>\n",
       "      <td>NaN</td>\n",
       "      <td>32766.000000</td>\n",
       "      <td>18.000000</td>\n",
       "      <td>1263.000000</td>\n",
       "      <td>NaN</td>\n",
       "      <td>NaN</td>\n",
       "      <td>NaN</td>\n",
       "    </tr>\n",
       "  </tbody>\n",
       "</table>\n",
       "</div>"
      ],
      "text/plain": [
       "                                                                 title  ... publicationnamecat\n",
       "count                                                              506  ...                514\n",
       "unique                                                             428  ...                  5\n",
       "top     Data Science and the Art of Producing Entertainment at Netflix  ...             others\n",
       "freq                                                                 3  ...                181\n",
       "mean                                                               NaN  ...                NaN\n",
       "std                                                                NaN  ...                NaN\n",
       "min                                                                NaN  ...                NaN\n",
       "25%                                                                NaN  ...                NaN\n",
       "50%                                                                NaN  ...                NaN\n",
       "75%                                                                NaN  ...                NaN\n",
       "max                                                                NaN  ...                NaN\n",
       "\n",
       "[11 rows x 8 columns]"
      ]
     },
     "execution_count": 53,
     "metadata": {
      "tags": []
     },
     "output_type": "execute_result"
    }
   ],
   "source": [
    "test_2.describe(include='all')"
   ]
  },
  {
   "cell_type": "markdown",
   "metadata": {
    "colab_type": "text",
    "id": "fB3sEg9sFaHj"
   },
   "source": [
    "After creating the categorical features, it is needed to one-hot encode them. In the below section, one hot encoding is performed"
   ]
  },
  {
   "cell_type": "code",
   "execution_count": 39,
   "metadata": {
    "colab": {},
    "colab_type": "code",
    "id": "H40LCG-5HrfN"
   },
   "outputs": [],
   "source": [
    "from sklearn.preprocessing import OneHotEncoder"
   ]
  },
  {
   "cell_type": "code",
   "execution_count": 40,
   "metadata": {
    "colab": {},
    "colab_type": "code",
    "id": "LEAYkT5sOwpt"
   },
   "outputs": [],
   "source": [
    "#encoding for train\n",
    "enc = OneHotEncoder(drop='first') #One of the encoded vectors is unnecessary\n",
    "enc.fit(train[['language','publicationnamecat']]) #encode language and publicationnamecat\n",
    "encoded_only=enc.transform(train[['language','publicationnamecat']]).toarray()\n",
    "enc_names=enc.get_feature_names(['language','publication']) #this is to give a nice looking names to new columns\n",
    "encoded_only=pd.DataFrame(encoded_only)\n",
    "encoded_only.columns=enc_names"
   ]
  },
  {
   "cell_type": "code",
   "execution_count": 41,
   "metadata": {
    "colab": {},
    "colab_type": "code",
    "id": "4xQbZd6gJZyk"
   },
   "outputs": [],
   "source": [
    "#encoding for train_noOutlier\n",
    "enc1 = OneHotEncoder(drop='first')\n",
    "enc1.fit(train_noOutlier[['language','publicationnamecat']])\n",
    "encoded_only1=enc1.transform(train_noOutlier[['language','publicationnamecat']]).toarray()\n",
    "enc_names1=enc1.get_feature_names(['language','publication'])\n",
    "encoded_only1=pd.DataFrame(encoded_only1)\n",
    "encoded_only1.columns=enc_names1"
   ]
  },
  {
   "cell_type": "code",
   "execution_count": 42,
   "metadata": {
    "colab": {},
    "colab_type": "code",
    "id": "f8FYC_HM_GmK"
   },
   "outputs": [],
   "source": [
    "#encoding for test_2\n",
    "encoded_only2=enc.transform(test_2[['language','publicationnamecat']]).toarray()\n",
    "enc_names=enc.get_feature_names(['language','publication'])\n",
    "encoded_only2=pd.DataFrame(encoded_only2)\n",
    "encoded_only2.columns=enc_names"
   ]
  },
  {
   "cell_type": "code",
   "execution_count": 43,
   "metadata": {
    "colab": {},
    "colab_type": "code",
    "id": "E5yXKPoD2LyL"
   },
   "outputs": [],
   "source": [
    "#encoded variables are merged with the rest of the dataset\n",
    "train=train.reset_index(drop=True)\n",
    "encoded_only=encoded_only.reset_index(drop=True)\n",
    "train=pd.concat([train[['wordCount','imageCount','responsesCreatedCount','text','title','totalClapCount']],encoded_only],axis=1 )\n"
   ]
  },
  {
   "cell_type": "code",
   "execution_count": 44,
   "metadata": {
    "colab": {},
    "colab_type": "code",
    "id": "MfBhe0F9QqUw"
   },
   "outputs": [],
   "source": [
    "train_noOutlier=train_noOutlier.reset_index(drop=True)\n",
    "encoded_only1=encoded_only1.reset_index(drop=True)\n",
    "train_noOutlier=pd.concat([train_noOutlier[['wordCount','imageCount','responsesCreatedCount','text','title','totalClapCount']],encoded_only1],axis=1 )\n"
   ]
  },
  {
   "cell_type": "code",
   "execution_count": 45,
   "metadata": {
    "colab": {},
    "colab_type": "code",
    "id": "zYC697O-A8Ie"
   },
   "outputs": [],
   "source": [
    "#encode the test set\n",
    "test_2=test_2.reset_index(drop=True)\n",
    "encoded_only2=encoded_only2.reset_index(drop=True)\n",
    "test_2=pd.concat([test_2[['wordCount','imageCount','responsesCreatedCount','text','title']],encoded_only2],axis=1 )"
   ]
  },
  {
   "cell_type": "code",
   "execution_count": 46,
   "metadata": {
    "colab": {
     "base_uri": "https://localhost:8080/",
     "height": 106
    },
    "colab_type": "code",
    "id": "lYEvQGuVEi-f",
    "outputId": "acd38fd6-6fe4-4813-a08d-67197bb2b2a5"
   },
   "outputs": [
    {
     "name": "stderr",
     "output_type": "stream",
     "text": [
      "/usr/local/lib/python3.6/dist-packages/ipykernel_launcher.py:4: SettingWithCopyWarning: \n",
      "A value is trying to be set on a copy of a slice from a DataFrame\n",
      "\n",
      "See the caveats in the documentation: https://pandas.pydata.org/pandas-docs/stable/user_guide/indexing.html#returning-a-view-versus-a-copy\n",
      "  after removing the cwd from sys.path.\n"
     ]
    }
   ],
   "source": [
    "#the na records in title column in the test set is filled with the first sentence of the corresponding text\n",
    "for i in range(len(test_2)):\n",
    "  if isinstance(test_2['title'][i],float):\n",
    "    test_2['title'][i]=test_2['text'][i].split('.')[0]"
   ]
  },
  {
   "cell_type": "code",
   "execution_count": 47,
   "metadata": {
    "colab": {},
    "colab_type": "code",
    "id": "PlEGm3tqZoN9"
   },
   "outputs": [],
   "source": [
    "#title length can be helpful for prediction\n",
    "train['titleLength']=[len(i.split()) for i in train['title']]\n",
    "train_noOutlier['titleLength']=[len(i.split()) for i in train_noOutlier['title']]\n",
    "test_2['titleLength']=[len(i.split()) for i in test_2['title']]"
   ]
  },
  {
   "cell_type": "code",
   "execution_count": 48,
   "metadata": {
    "colab": {
     "base_uri": "https://localhost:8080/",
     "height": 140
    },
    "colab_type": "code",
    "id": "sAcswcsBHd7T",
    "outputId": "303a5b41-33cc-46c9-a248-1b2a10a17d7c"
   },
   "outputs": [
    {
     "data": {
      "text/html": [
       "<div>\n",
       "<style scoped>\n",
       "    .dataframe tbody tr th:only-of-type {\n",
       "        vertical-align: middle;\n",
       "    }\n",
       "\n",
       "    .dataframe tbody tr th {\n",
       "        vertical-align: top;\n",
       "    }\n",
       "\n",
       "    .dataframe thead th {\n",
       "        text-align: right;\n",
       "    }\n",
       "</style>\n",
       "<table border=\"1\" class=\"dataframe\">\n",
       "  <thead>\n",
       "    <tr style=\"text-align: right;\">\n",
       "      <th></th>\n",
       "      <th>wordCount</th>\n",
       "      <th>imageCount</th>\n",
       "      <th>responsesCreatedCount</th>\n",
       "      <th>text</th>\n",
       "      <th>title</th>\n",
       "      <th>language_other</th>\n",
       "      <th>publication_NT</th>\n",
       "      <th>publication_TDS</th>\n",
       "      <th>publication_author</th>\n",
       "      <th>publication_others</th>\n",
       "      <th>titleLength</th>\n",
       "    </tr>\n",
       "  </thead>\n",
       "  <tbody>\n",
       "    <tr>\n",
       "      <th>0</th>\n",
       "      <td>23401</td>\n",
       "      <td>10</td>\n",
       "      <td>627</td>\n",
       "      <td>There’s one incredible feature of cryptocurren...</td>\n",
       "      <td>Why Everyone Missed the Most Mind-Blowing Feat...</td>\n",
       "      <td>0.0</td>\n",
       "      <td>0.0</td>\n",
       "      <td>0.0</td>\n",
       "      <td>0.0</td>\n",
       "      <td>0.0</td>\n",
       "      <td>9</td>\n",
       "    </tr>\n",
       "    <tr>\n",
       "      <th>1</th>\n",
       "      <td>23972</td>\n",
       "      <td>9</td>\n",
       "      <td>156</td>\n",
       "      <td>&lt;img class=\"progressiveMedia-noscript js-progr...</td>\n",
       "      <td>NEO versus Ethereum: Why NEO might be 2018’s s...</td>\n",
       "      <td>0.0</td>\n",
       "      <td>0.0</td>\n",
       "      <td>0.0</td>\n",
       "      <td>0.0</td>\n",
       "      <td>0.0</td>\n",
       "      <td>10</td>\n",
       "    </tr>\n",
       "  </tbody>\n",
       "</table>\n",
       "</div>"
      ],
      "text/plain": [
       "   wordCount  imageCount  ...  publication_others titleLength\n",
       "0      23401          10  ...                 0.0           9\n",
       "1      23972           9  ...                 0.0          10\n",
       "\n",
       "[2 rows x 11 columns]"
      ]
     },
     "execution_count": 48,
     "metadata": {
      "tags": []
     },
     "output_type": "execute_result"
    }
   ],
   "source": [
    "test_2.head(2)"
   ]
  },
  {
   "cell_type": "markdown",
   "metadata": {
    "colab_type": "text",
    "id": "0bOOcaURVHm_"
   },
   "source": [
    "**TRAIN TEST SPLIT AND VARIABLE SCALING**"
   ]
  },
  {
   "cell_type": "markdown",
   "metadata": {
    "colab_type": "text",
    "id": "KeLJDWT3Bgng"
   },
   "source": [
    "In this section, I divide the train (or train_noOutlier) into train and test sets to measure the accuracy of my models. After train test split, I scaled the numerical variables.\n",
    "\n",
    "I ran the linear regression model first with train and then train_noOutlier. As expected, train_noOutlier gave better results. This is why the first section of the train-test split is commented."
   ]
  },
  {
   "cell_type": "code",
   "execution_count": 139,
   "metadata": {
    "colab": {},
    "colab_type": "code",
    "id": "nc_mv5qJSI30"
   },
   "outputs": [],
   "source": [
    "\n",
    "# X_train, X_test, y_train, y_test = train_test_split(train.loc[:,train.columns!='totalClapCount'], train['totalClapCount'] ,test_size=0.2, random_state=0)\n",
    "# X_train.reset_index(drop=True,inplace=True)\n",
    "# X_test.reset_index(drop=True,inplace=True)\n",
    "# y_train.reset_index(drop=True,inplace=True)\n",
    "# y_test.reset_index(drop=True,inplace=True)\n",
    "\n",
    "X_train, X_test, y_train, y_test = train_test_split(train_noOutlier.loc[:,train_noOutlier.columns!='totalClapCount'], train_noOutlier['totalClapCount'] ,test_size=0.2, random_state=0)\n",
    "X_train.reset_index(drop=True,inplace=True)\n",
    "X_test.reset_index(drop=True,inplace=True)\n",
    "y_train.reset_index(drop=True,inplace=True)\n",
    "y_test.reset_index(drop=True,inplace=True)\n"
   ]
  },
  {
   "cell_type": "code",
   "execution_count": 140,
   "metadata": {
    "colab": {},
    "colab_type": "code",
    "id": "t7bq40NCxOfM"
   },
   "outputs": [],
   "source": [
    "#I perform 2 step prediction. In the first step I predict if the number of claps is 0. Therefore in this code section I transform continious target variable to binary \n",
    "y_lr_train=pd.Series([1 if i != 0 else 0 for i in y_train])\n",
    "y_lr_test=pd.Series([1 if i != 0 else 0 for i in y_test])"
   ]
  },
  {
   "cell_type": "code",
   "execution_count": 141,
   "metadata": {
    "colab": {},
    "colab_type": "code",
    "id": "B1icBEuZoVMy"
   },
   "outputs": [],
   "source": [
    "from sklearn.preprocessing import MinMaxScaler\n",
    "\n",
    "mms = MinMaxScaler()\n",
    "\n",
    "X_train[['responsesCreatedCount','wordCount','imageCount','titleLength']] = mms.fit_transform(X_train[['responsesCreatedCount','wordCount','imageCount','titleLength']])\n",
    "\n",
    "X_test[['responsesCreatedCount','wordCount','imageCount','titleLength']] = mms.transform(X_test[['responsesCreatedCount','wordCount','imageCount','titleLength']])\n",
    "\n",
    "test_2[['responsesCreatedCount','wordCount','imageCount','titleLength']] = mms.fit_transform(test_2[['responsesCreatedCount','wordCount','imageCount','titleLength']])"
   ]
  },
  {
   "cell_type": "markdown",
   "metadata": {
    "colab_type": "text",
    "id": "5y4InR4dE8e5"
   },
   "source": [
    "The latest form of train set is as below. I used 'columnsToKeep' in the training. I changed this list in order to see the effect of each variable in the predictions. When the variable set is full, the predictions are the best based on the test set"
   ]
  },
  {
   "cell_type": "code",
   "execution_count": 142,
   "metadata": {
    "colab": {
     "base_uri": "https://localhost:8080/",
     "height": 337
    },
    "colab_type": "code",
    "id": "__U_Fpx3iOST",
    "outputId": "986769ff-0ba7-4c80-b2a1-5423628b43e4"
   },
   "outputs": [
    {
     "name": "stdout",
     "output_type": "stream",
     "text": [
      "<class 'pandas.core.frame.DataFrame'>\n",
      "RangeIndex: 57856 entries, 0 to 57855\n",
      "Data columns (total 11 columns):\n",
      " #   Column                 Non-Null Count  Dtype  \n",
      "---  ------                 --------------  -----  \n",
      " 0   wordCount              57856 non-null  float64\n",
      " 1   imageCount             57856 non-null  float64\n",
      " 2   responsesCreatedCount  57856 non-null  float64\n",
      " 3   text                   57856 non-null  object \n",
      " 4   title                  57856 non-null  object \n",
      " 5   language_other         57856 non-null  float64\n",
      " 6   publication_NT         57856 non-null  float64\n",
      " 7   publication_TDS        57856 non-null  float64\n",
      " 8   publication_author     57856 non-null  float64\n",
      " 9   publication_others     57856 non-null  float64\n",
      " 10  titleLength            57856 non-null  float64\n",
      "dtypes: float64(9), object(2)\n",
      "memory usage: 4.9+ MB\n"
     ]
    }
   ],
   "source": [
    "X_train.info()"
   ]
  },
  {
   "cell_type": "code",
   "execution_count": 143,
   "metadata": {
    "colab": {},
    "colab_type": "code",
    "id": "yTtJZCcfZKUc"
   },
   "outputs": [],
   "source": [
    "columnsToDrop=['text','title']\n",
    "columnsToKeep=['responsesCreatedCount','wordCount','titleLength','imageCount','language_other','publication_TDS','publication_author','publication_others','publication_NT']"
   ]
  },
  {
   "cell_type": "markdown",
   "metadata": {
    "colab_type": "text",
    "id": "fv1Yl3-Iv2bf"
   },
   "source": [
    "**LOGISTIC REGRESSION**"
   ]
  },
  {
   "cell_type": "code",
   "execution_count": 144,
   "metadata": {
    "colab": {},
    "colab_type": "code",
    "id": "j3HPXjIIt9FO"
   },
   "outputs": [],
   "source": [
    " from sklearn.linear_model import LogisticRegression\n",
    " from sklearn.metrics import confusion_matrix"
   ]
  },
  {
   "cell_type": "markdown",
   "metadata": {
    "colab_type": "text",
    "id": "f1NLd-chGEwX"
   },
   "source": [
    "The classification training is performed on the whole dataset and the binary predictionsof X_test are stored in y_test_pred_log"
   ]
  },
  {
   "cell_type": "code",
   "execution_count": 145,
   "metadata": {
    "colab": {},
    "colab_type": "code",
    "id": "9o4i6H5qwpEB"
   },
   "outputs": [],
   "source": [
    "classifier = LogisticRegression(solver=\"liblinear\",penalty='l1')\n",
    "classifier.fit(X_train[columnsToKeep], y_lr_train)\n",
    "score_lr = classifier.score(X_test[columnsToKeep], y_lr_test)"
   ]
  },
  {
   "cell_type": "code",
   "execution_count": 146,
   "metadata": {
    "colab": {
     "base_uri": "https://localhost:8080/",
     "height": 70
    },
    "colab_type": "code",
    "id": "72KrWpzZ0gYk",
    "outputId": "ce028492-4be3-4116-840b-5b515d47d401"
   },
   "outputs": [
    {
     "name": "stdout",
     "output_type": "stream",
     "text": [
      "Accuracy: 0.7211\n"
     ]
    },
    {
     "data": {
      "text/plain": [
       "array([[1828, 2711],\n",
       "       [1323, 8602]])"
      ]
     },
     "execution_count": 146,
     "metadata": {
      "tags": []
     },
     "output_type": "execute_result"
    }
   ],
   "source": [
    "print(\"Accuracy: {:.4f}\".format(score_lr))\n",
    "confusion_matrix(y_lr_test, classifier.predict(X_test[columnsToKeep])) "
   ]
  },
  {
   "cell_type": "code",
   "execution_count": 147,
   "metadata": {
    "colab": {},
    "colab_type": "code",
    "id": "1eD1Z3zMDhXf"
   },
   "outputs": [],
   "source": [
    "y_test_pred_log=(classifier.predict(X_test[columnsToKeep]))"
   ]
  },
  {
   "cell_type": "markdown",
   "metadata": {
    "colab_type": "text",
    "id": "wQBwJb-mUusq"
   },
   "source": [
    "**LINEAR REGRESSION**"
   ]
  },
  {
   "cell_type": "code",
   "execution_count": 148,
   "metadata": {
    "colab": {},
    "colab_type": "code",
    "id": "kNkST9xySVBm"
   },
   "outputs": [],
   "source": [
    "from sklearn.linear_model import LinearRegression"
   ]
  },
  {
   "cell_type": "markdown",
   "metadata": {
    "colab_type": "text",
    "id": "zGg16B4cGajy"
   },
   "source": [
    "The second step is to predict the value of the number of claps. This step aims to predict the claps higher than 0, therefore I only used the the records which has more than 0 clap in the training"
   ]
  },
  {
   "cell_type": "code",
   "execution_count": 149,
   "metadata": {
    "colab": {},
    "colab_type": "code",
    "id": "PogLJZiTRvRH"
   },
   "outputs": [],
   "source": [
    "regressor = LinearRegression()  \n",
    "regressor.fit(X_train.loc[y_train>0,columnsToKeep], y_train[y_train>0])\n",
    "y_test_pred_lin=regressor.predict(X_test[columnsToKeep])\n",
    "from sklearn import metrics\n",
    "from math import sqrt\n",
    "mse_lin=(metrics.mean_squared_error((y_test), (y_test_pred_lin)))"
   ]
  },
  {
   "cell_type": "markdown",
   "metadata": {
    "colab_type": "text",
    "id": "URC3TVPsG3He"
   },
   "source": [
    "The final value of number of Claps is the multiplecation of the binary predictions and regression predictions. The results show that there is a huge difference in mse between trainset with and without ouliers"
   ]
  },
  {
   "cell_type": "code",
   "execution_count": 150,
   "metadata": {
    "colab": {},
    "colab_type": "code",
    "id": "JQPSUMfmnKjK"
   },
   "outputs": [],
   "source": [
    "y_test_pred_logLin=y_test_pred_lin*y_test_pred_log"
   ]
  },
  {
   "cell_type": "code",
   "execution_count": 151,
   "metadata": {
    "colab": {
     "base_uri": "https://localhost:8080/",
     "height": 35
    },
    "colab_type": "code",
    "id": "qfvethDTn0WH",
    "outputId": "6aa939c5-5dc7-44d4-8068-3abd3e2ef552"
   },
   "outputs": [
    {
     "data": {
      "text/plain": [
       "573939.8336356379"
      ]
     },
     "execution_count": 151,
     "metadata": {
      "tags": []
     },
     "output_type": "execute_result"
    }
   ],
   "source": [
    "mse_pred_logLin=metrics.mean_squared_error((y_test), (y_test_pred_logLin)) #columnstoKeep, without outliers\n",
    "mse_pred_logLin"
   ]
  },
  {
   "cell_type": "code",
   "execution_count": 252,
   "metadata": {
    "colab": {},
    "colab_type": "code",
    "id": "2LhSiY6lFa-4"
   },
   "outputs": [],
   "source": [
    "MSE=pd.DataFrame({'LogLin':[mse_pred_logLin]})"
   ]
  },
  {
   "cell_type": "code",
   "execution_count": 138,
   "metadata": {
    "colab": {
     "base_uri": "https://localhost:8080/",
     "height": 35
    },
    "colab_type": "code",
    "id": "RPv40s8kwo-0",
    "outputId": "023b77b0-69be-4067-beb3-ca71389ad2c9"
   },
   "outputs": [
    {
     "data": {
      "text/plain": [
       "2118858.8866496924"
      ]
     },
     "execution_count": 138,
     "metadata": {
      "tags": []
     },
     "output_type": "execute_result"
    }
   ],
   "source": [
    "metrics.mean_squared_error((y_test), (y_test_pred_logLin)) #columnstoKeep, with outliers"
   ]
  },
  {
   "cell_type": "markdown",
   "metadata": {
    "colab_type": "text",
    "id": "JpqUEaKffiy3"
   },
   "source": [
    "**NN MODEL WITH ONLY TABULAR DATA**"
   ]
  },
  {
   "cell_type": "code",
   "execution_count": 122,
   "metadata": {
    "colab": {
     "base_uri": "https://localhost:8080/",
     "height": 301
    },
    "colab_type": "code",
    "id": "AWHf-_QztxLB",
    "outputId": "91bca7be-df32-49b5-f742-482d68fb2627"
   },
   "outputs": [
    {
     "name": "stdout",
     "output_type": "stream",
     "text": [
      "Model: \"sequential_2\"\n",
      "_________________________________________________________________\n",
      "Layer (type)                 Output Shape              Param #   \n",
      "=================================================================\n",
      "dense_3 (Dense)              (None, 128)               1280      \n",
      "_________________________________________________________________\n",
      "dense_4 (Dense)              (None, 128)               16512     \n",
      "_________________________________________________________________\n",
      "dense_5 (Dense)              (None, 256)               33024     \n",
      "_________________________________________________________________\n",
      "dense_6 (Dense)              (None, 1)                 257       \n",
      "=================================================================\n",
      "Total params: 51,073\n",
      "Trainable params: 51,073\n",
      "Non-trainable params: 0\n",
      "_________________________________________________________________\n"
     ]
    }
   ],
   "source": [
    "NN_model = Sequential()\n",
    "NN_model.add(Dense(128, kernel_initializer='normal',input_dim =X_train[columnsToKeep].shape[1], activation='relu'))\n",
    "# The Hidden Layers :\n",
    "#NN_model.add(Dense(256, kernel_initializer='normal',activation='relu'))\n",
    "NN_model.add(Dense(128, kernel_initializer='normal',activation='relu'))\n",
    "NN_model.add(Dense(256, kernel_initializer='normal',activation='relu'))\n",
    "\n",
    "# The Output Layer :\n",
    "NN_model.add(Dense(1, kernel_initializer='normal',activation='linear'))\n",
    "NN_model.compile(loss='mean_absolute_error', optimizer='adam', metrics=['mean_squared_error'])\n",
    "NN_model.summary()\n"
   ]
  },
  {
   "cell_type": "code",
   "execution_count": 123,
   "metadata": {
    "colab": {
     "base_uri": "https://localhost:8080/",
     "height": 1000
    },
    "colab_type": "code",
    "id": "xpz4krtHuWr9",
    "outputId": "731d7cdb-9e09-407f-f153-cc029ee8488e"
   },
   "outputs": [
    {
     "name": "stdout",
     "output_type": "stream",
     "text": [
      "Epoch 1/100\n",
      "1266/1266 [==============================] - 3s 3ms/step - loss: 141.3557 - mean_squared_error: 1060352.2500 - val_loss: 146.5606 - val_mean_squared_error: 1370673.3750\n",
      "Epoch 2/100\n",
      "1266/1266 [==============================] - 3s 3ms/step - loss: 130.1968 - mean_squared_error: 885331.6875 - val_loss: 115.9034 - val_mean_squared_error: 590937.5625\n",
      "Epoch 3/100\n",
      "1266/1266 [==============================] - 3s 2ms/step - loss: 110.5613 - mean_squared_error: 490627.2500 - val_loss: 116.1069 - val_mean_squared_error: 595000.2500\n",
      "Epoch 4/100\n",
      "1266/1266 [==============================] - 3s 2ms/step - loss: 109.3442 - mean_squared_error: 485117.0938 - val_loss: 117.6864 - val_mean_squared_error: 658878.6250\n",
      "Epoch 5/100\n",
      "1266/1266 [==============================] - 3s 2ms/step - loss: 108.8760 - mean_squared_error: 491851.7812 - val_loss: 115.0617 - val_mean_squared_error: 589774.3750\n",
      "Epoch 6/100\n",
      "1266/1266 [==============================] - 3s 2ms/step - loss: 108.7267 - mean_squared_error: 480944.3125 - val_loss: 112.7540 - val_mean_squared_error: 577296.1875\n",
      "Epoch 7/100\n",
      "1266/1266 [==============================] - 3s 2ms/step - loss: 108.4962 - mean_squared_error: 474844.9688 - val_loss: 120.5099 - val_mean_squared_error: 649943.6250\n",
      "Epoch 8/100\n",
      "1266/1266 [==============================] - 3s 2ms/step - loss: 108.8759 - mean_squared_error: 483196.2812 - val_loss: 113.5470 - val_mean_squared_error: 606431.5625\n",
      "Epoch 9/100\n",
      "1266/1266 [==============================] - 3s 2ms/step - loss: 108.3373 - mean_squared_error: 493852.8125 - val_loss: 111.4285 - val_mean_squared_error: 579310.9375\n",
      "Epoch 10/100\n",
      "1266/1266 [==============================] - 3s 2ms/step - loss: 108.2613 - mean_squared_error: 489551.7500 - val_loss: 115.1027 - val_mean_squared_error: 594983.6250\n",
      "Epoch 11/100\n",
      "1266/1266 [==============================] - 3s 2ms/step - loss: 108.0268 - mean_squared_error: 484760.8125 - val_loss: 113.8113 - val_mean_squared_error: 588428.1875\n",
      "Epoch 12/100\n",
      "1266/1266 [==============================] - 3s 2ms/step - loss: 108.1580 - mean_squared_error: 473235.0938 - val_loss: 113.5587 - val_mean_squared_error: 597514.7500\n",
      "Epoch 13/100\n",
      "1266/1266 [==============================] - 3s 2ms/step - loss: 107.4539 - mean_squared_error: 477869.6250 - val_loss: 115.2855 - val_mean_squared_error: 618997.8125\n",
      "Epoch 14/100\n",
      "1266/1266 [==============================] - 3s 2ms/step - loss: 107.3045 - mean_squared_error: 473566.7812 - val_loss: 119.6123 - val_mean_squared_error: 736825.0000\n",
      "Epoch 15/100\n",
      "1266/1266 [==============================] - 3s 2ms/step - loss: 107.9431 - mean_squared_error: 496755.1250 - val_loss: 112.3804 - val_mean_squared_error: 585795.0000\n",
      "Epoch 16/100\n",
      "1266/1266 [==============================] - 3s 2ms/step - loss: 107.3786 - mean_squared_error: 489117.9688 - val_loss: 119.6147 - val_mean_squared_error: 627216.6250\n",
      "Epoch 17/100\n",
      "1266/1266 [==============================] - 3s 2ms/step - loss: 107.4261 - mean_squared_error: 472483.3438 - val_loss: 113.0853 - val_mean_squared_error: 583476.0625\n",
      "Epoch 18/100\n",
      "1266/1266 [==============================] - 3s 2ms/step - loss: 107.3483 - mean_squared_error: 472236.7812 - val_loss: 112.9665 - val_mean_squared_error: 579029.4375\n",
      "Epoch 19/100\n",
      "1266/1266 [==============================] - 3s 2ms/step - loss: 107.5502 - mean_squared_error: 473929.5312 - val_loss: 111.6803 - val_mean_squared_error: 575285.4375\n",
      "Epoch 20/100\n",
      "1266/1266 [==============================] - 3s 2ms/step - loss: 106.9947 - mean_squared_error: 477481.5000 - val_loss: 113.8427 - val_mean_squared_error: 596299.0000\n",
      "Epoch 21/100\n",
      "1266/1266 [==============================] - 3s 2ms/step - loss: 106.7686 - mean_squared_error: 463633.7500 - val_loss: 111.8961 - val_mean_squared_error: 583580.8750\n",
      "Epoch 22/100\n",
      "1266/1266 [==============================] - 3s 2ms/step - loss: 106.5843 - mean_squared_error: 465662.0312 - val_loss: 114.3956 - val_mean_squared_error: 620868.8125\n",
      "Epoch 23/100\n",
      "1266/1266 [==============================] - 3s 2ms/step - loss: 106.6844 - mean_squared_error: 469206.9062 - val_loss: 112.3273 - val_mean_squared_error: 582114.8750\n",
      "Epoch 24/100\n",
      "1266/1266 [==============================] - 3s 2ms/step - loss: 106.8656 - mean_squared_error: 453546.3750 - val_loss: 113.0133 - val_mean_squared_error: 573911.0000\n",
      "Epoch 25/100\n",
      "1266/1266 [==============================] - 3s 2ms/step - loss: 106.1878 - mean_squared_error: 466135.3438 - val_loss: 116.6820 - val_mean_squared_error: 599476.8125\n",
      "Epoch 26/100\n",
      "1266/1266 [==============================] - 3s 2ms/step - loss: 106.1355 - mean_squared_error: 446287.6562 - val_loss: 118.0409 - val_mean_squared_error: 622715.8125\n",
      "Epoch 27/100\n",
      "1266/1266 [==============================] - 3s 2ms/step - loss: 106.5980 - mean_squared_error: 480194.2812 - val_loss: 113.7410 - val_mean_squared_error: 590714.1250\n",
      "Epoch 28/100\n",
      "1266/1266 [==============================] - 3s 2ms/step - loss: 106.6611 - mean_squared_error: 464692.5625 - val_loss: 112.7417 - val_mean_squared_error: 578340.9375\n",
      "Epoch 29/100\n",
      "1266/1266 [==============================] - 3s 2ms/step - loss: 106.4027 - mean_squared_error: 464748.8438 - val_loss: 111.9906 - val_mean_squared_error: 562311.1250\n",
      "Epoch 30/100\n",
      "1266/1266 [==============================] - 3s 2ms/step - loss: 105.9022 - mean_squared_error: 450339.5312 - val_loss: 111.0657 - val_mean_squared_error: 573900.6250\n",
      "Epoch 31/100\n",
      "1266/1266 [==============================] - 3s 2ms/step - loss: 105.6753 - mean_squared_error: 454854.8438 - val_loss: 113.8627 - val_mean_squared_error: 556861.8125\n",
      "Epoch 32/100\n",
      "1266/1266 [==============================] - 3s 2ms/step - loss: 106.0721 - mean_squared_error: 452785.1875 - val_loss: 116.2669 - val_mean_squared_error: 616500.6250\n",
      "Epoch 33/100\n",
      "1266/1266 [==============================] - 3s 2ms/step - loss: 106.5286 - mean_squared_error: 470328.4375 - val_loss: 116.6383 - val_mean_squared_error: 585457.0625\n",
      "Epoch 34/100\n",
      "1266/1266 [==============================] - 3s 2ms/step - loss: 105.9154 - mean_squared_error: 463077.6875 - val_loss: 114.2672 - val_mean_squared_error: 584693.3125\n",
      "Epoch 35/100\n",
      "1266/1266 [==============================] - 3s 2ms/step - loss: 105.2212 - mean_squared_error: 449849.1562 - val_loss: 117.9076 - val_mean_squared_error: 669287.6250\n",
      "Epoch 36/100\n",
      "1266/1266 [==============================] - 3s 2ms/step - loss: 105.4946 - mean_squared_error: 459634.0625 - val_loss: 111.9097 - val_mean_squared_error: 565055.0625\n",
      "Epoch 37/100\n",
      "1266/1266 [==============================] - 3s 2ms/step - loss: 105.4713 - mean_squared_error: 450755.9062 - val_loss: 115.0889 - val_mean_squared_error: 565918.9375\n",
      "Epoch 38/100\n",
      "1266/1266 [==============================] - 3s 2ms/step - loss: 105.4177 - mean_squared_error: 433112.2812 - val_loss: 114.0677 - val_mean_squared_error: 563344.8125\n",
      "Epoch 39/100\n",
      "1266/1266 [==============================] - 3s 2ms/step - loss: 105.4949 - mean_squared_error: 446737.9688 - val_loss: 113.8052 - val_mean_squared_error: 559809.9375\n",
      "Epoch 40/100\n",
      "1266/1266 [==============================] - 3s 2ms/step - loss: 105.4317 - mean_squared_error: 445069.7188 - val_loss: 113.0256 - val_mean_squared_error: 562503.0000\n",
      "Epoch 41/100\n",
      "1266/1266 [==============================] - 3s 2ms/step - loss: 105.0223 - mean_squared_error: 436194.6562 - val_loss: 113.5154 - val_mean_squared_error: 557626.6250\n",
      "Epoch 42/100\n",
      "1266/1266 [==============================] - 3s 2ms/step - loss: 104.9413 - mean_squared_error: 426798.4688 - val_loss: 113.6450 - val_mean_squared_error: 565097.5625\n",
      "Epoch 43/100\n",
      "1266/1266 [==============================] - 3s 2ms/step - loss: 104.8310 - mean_squared_error: 442683.1562 - val_loss: 111.9033 - val_mean_squared_error: 549814.0625\n",
      "Epoch 44/100\n",
      "1266/1266 [==============================] - 3s 2ms/step - loss: 104.5832 - mean_squared_error: 432594.1562 - val_loss: 112.9495 - val_mean_squared_error: 541443.3750\n",
      "Epoch 45/100\n",
      "1266/1266 [==============================] - 3s 2ms/step - loss: 105.4089 - mean_squared_error: 415743.5938 - val_loss: 111.6901 - val_mean_squared_error: 548532.4375\n",
      "Epoch 46/100\n",
      "1266/1266 [==============================] - 3s 2ms/step - loss: 104.8049 - mean_squared_error: 428156.5938 - val_loss: 112.5318 - val_mean_squared_error: 548512.7500\n",
      "Epoch 47/100\n",
      "1266/1266 [==============================] - 3s 2ms/step - loss: 104.3664 - mean_squared_error: 416507.5000 - val_loss: 114.9894 - val_mean_squared_error: 568507.3750\n",
      "Epoch 48/100\n",
      "1266/1266 [==============================] - 3s 2ms/step - loss: 104.7514 - mean_squared_error: 430892.6875 - val_loss: 113.2104 - val_mean_squared_error: 546264.1250\n",
      "Epoch 49/100\n",
      "1266/1266 [==============================] - 3s 2ms/step - loss: 104.0539 - mean_squared_error: 426519.2812 - val_loss: 112.6758 - val_mean_squared_error: 546215.6250\n",
      "Epoch 50/100\n",
      "1266/1266 [==============================] - 3s 2ms/step - loss: 104.3546 - mean_squared_error: 424601.3750 - val_loss: 112.4285 - val_mean_squared_error: 540331.1250\n",
      "Epoch 51/100\n",
      "1266/1266 [==============================] - 3s 2ms/step - loss: 103.8808 - mean_squared_error: 412621.6250 - val_loss: 113.7078 - val_mean_squared_error: 539779.6875\n",
      "Epoch 52/100\n",
      "1266/1266 [==============================] - 3s 2ms/step - loss: 103.8231 - mean_squared_error: 403669.1875 - val_loss: 110.7330 - val_mean_squared_error: 567891.8750\n",
      "Epoch 53/100\n",
      "1266/1266 [==============================] - 3s 2ms/step - loss: 104.0792 - mean_squared_error: 419922.8750 - val_loss: 115.0936 - val_mean_squared_error: 545356.6250\n",
      "Epoch 54/100\n",
      "1266/1266 [==============================] - 3s 2ms/step - loss: 104.1898 - mean_squared_error: 401371.3125 - val_loss: 111.6226 - val_mean_squared_error: 554838.0625\n",
      "Epoch 55/100\n",
      "1266/1266 [==============================] - 3s 2ms/step - loss: 103.8887 - mean_squared_error: 399006.1562 - val_loss: 116.0630 - val_mean_squared_error: 599058.5625\n",
      "Epoch 56/100\n",
      "1266/1266 [==============================] - 3s 2ms/step - loss: 103.7393 - mean_squared_error: 417740.6875 - val_loss: 113.6371 - val_mean_squared_error: 546599.5625\n",
      "Epoch 57/100\n",
      "1266/1266 [==============================] - 3s 2ms/step - loss: 103.8812 - mean_squared_error: 419624.7812 - val_loss: 112.3701 - val_mean_squared_error: 537301.0625\n",
      "Epoch 58/100\n",
      "1266/1266 [==============================] - 3s 2ms/step - loss: 103.4962 - mean_squared_error: 410108.3750 - val_loss: 113.3578 - val_mean_squared_error: 531785.1250\n",
      "Epoch 59/100\n",
      "1266/1266 [==============================] - 3s 2ms/step - loss: 103.4520 - mean_squared_error: 395721.4688 - val_loss: 110.5355 - val_mean_squared_error: 532251.1250\n",
      "Epoch 60/100\n",
      "1266/1266 [==============================] - 3s 2ms/step - loss: 103.4455 - mean_squared_error: 399031.2188 - val_loss: 113.6518 - val_mean_squared_error: 544927.0000\n",
      "Epoch 61/100\n",
      "1266/1266 [==============================] - 3s 2ms/step - loss: 103.7713 - mean_squared_error: 426536.7812 - val_loss: 112.6115 - val_mean_squared_error: 518024.5938\n",
      "Epoch 62/100\n",
      "1266/1266 [==============================] - 3s 2ms/step - loss: 103.2308 - mean_squared_error: 401936.3438 - val_loss: 112.4817 - val_mean_squared_error: 534354.8750\n",
      "Epoch 63/100\n",
      "1266/1266 [==============================] - 3s 2ms/step - loss: 102.8570 - mean_squared_error: 393466.4062 - val_loss: 113.5950 - val_mean_squared_error: 520501.2500\n",
      "Epoch 64/100\n",
      "1266/1266 [==============================] - 3s 2ms/step - loss: 103.1367 - mean_squared_error: 407101.2500 - val_loss: 112.0816 - val_mean_squared_error: 518827.4688\n",
      "Epoch 65/100\n",
      "1266/1266 [==============================] - 3s 2ms/step - loss: 103.0676 - mean_squared_error: 398715.6875 - val_loss: 116.2778 - val_mean_squared_error: 547791.1875\n",
      "Epoch 66/100\n",
      "1266/1266 [==============================] - 3s 2ms/step - loss: 103.3212 - mean_squared_error: 389292.6250 - val_loss: 112.2913 - val_mean_squared_error: 537524.6250\n",
      "Epoch 67/100\n",
      "1266/1266 [==============================] - 3s 2ms/step - loss: 103.2438 - mean_squared_error: 394462.5938 - val_loss: 114.2570 - val_mean_squared_error: 517214.0938\n",
      "Epoch 68/100\n",
      "1266/1266 [==============================] - 3s 2ms/step - loss: 102.9744 - mean_squared_error: 401210.2812 - val_loss: 111.5927 - val_mean_squared_error: 518637.4375\n",
      "Epoch 69/100\n",
      "1266/1266 [==============================] - 3s 2ms/step - loss: 102.8004 - mean_squared_error: 397139.5625 - val_loss: 112.2854 - val_mean_squared_error: 528613.1875\n",
      "Epoch 70/100\n",
      "1266/1266 [==============================] - 3s 3ms/step - loss: 102.7093 - mean_squared_error: 390759.8438 - val_loss: 111.9929 - val_mean_squared_error: 517238.0000\n",
      "Epoch 71/100\n",
      "1266/1266 [==============================] - 3s 2ms/step - loss: 102.2545 - mean_squared_error: 394593.1250 - val_loss: 111.8460 - val_mean_squared_error: 538759.2500\n",
      "Epoch 72/100\n",
      "1266/1266 [==============================] - 3s 2ms/step - loss: 102.7114 - mean_squared_error: 381804.1250 - val_loss: 111.7847 - val_mean_squared_error: 519941.4375\n",
      "Epoch 73/100\n",
      "1266/1266 [==============================] - 3s 2ms/step - loss: 102.6100 - mean_squared_error: 382324.3438 - val_loss: 112.6919 - val_mean_squared_error: 524755.1250\n",
      "Epoch 74/100\n",
      "1266/1266 [==============================] - 3s 2ms/step - loss: 101.7516 - mean_squared_error: 379626.8750 - val_loss: 111.5456 - val_mean_squared_error: 552471.2500\n",
      "Epoch 75/100\n",
      "1266/1266 [==============================] - 3s 2ms/step - loss: 101.8663 - mean_squared_error: 381497.6875 - val_loss: 111.3229 - val_mean_squared_error: 580518.1250\n",
      "Epoch 76/100\n",
      "1266/1266 [==============================] - 3s 2ms/step - loss: 101.5467 - mean_squared_error: 348118.8750 - val_loss: 111.0920 - val_mean_squared_error: 568996.8125\n",
      "Epoch 77/100\n",
      "1266/1266 [==============================] - 3s 2ms/step - loss: 101.8693 - mean_squared_error: 379822.2812 - val_loss: 112.1067 - val_mean_squared_error: 557107.2500\n",
      "Epoch 78/100\n",
      "1266/1266 [==============================] - 3s 2ms/step - loss: 102.3191 - mean_squared_error: 387208.1875 - val_loss: 111.3544 - val_mean_squared_error: 523815.1875\n",
      "Epoch 79/100\n",
      "1266/1266 [==============================] - 3s 2ms/step - loss: 101.8926 - mean_squared_error: 373266.1562 - val_loss: 111.4608 - val_mean_squared_error: 532449.5625\n",
      "Epoch 80/100\n",
      "1266/1266 [==============================] - 3s 2ms/step - loss: 101.9738 - mean_squared_error: 376676.7500 - val_loss: 113.4278 - val_mean_squared_error: 521550.2188\n",
      "Epoch 81/100\n",
      "1266/1266 [==============================] - 3s 2ms/step - loss: 102.6853 - mean_squared_error: 392646.3438 - val_loss: 114.0776 - val_mean_squared_error: 530568.1875\n",
      "Epoch 82/100\n",
      "1266/1266 [==============================] - 3s 2ms/step - loss: 101.7484 - mean_squared_error: 373976.2188 - val_loss: 113.0556 - val_mean_squared_error: 573771.6875\n",
      "Epoch 83/100\n",
      "1266/1266 [==============================] - 3s 2ms/step - loss: 101.5314 - mean_squared_error: 372760.4688 - val_loss: 112.8149 - val_mean_squared_error: 614087.9375\n",
      "Epoch 84/100\n",
      "1266/1266 [==============================] - 3s 2ms/step - loss: 101.4022 - mean_squared_error: 368979.7500 - val_loss: 112.6887 - val_mean_squared_error: 586744.1250\n",
      "Epoch 85/100\n",
      "1266/1266 [==============================] - 3s 2ms/step - loss: 101.6284 - mean_squared_error: 361768.0625 - val_loss: 113.1308 - val_mean_squared_error: 654386.2500\n",
      "Epoch 86/100\n",
      "1266/1266 [==============================] - 3s 2ms/step - loss: 101.1971 - mean_squared_error: 367990.6562 - val_loss: 113.6988 - val_mean_squared_error: 573567.1875\n",
      "Epoch 87/100\n",
      "1266/1266 [==============================] - 3s 2ms/step - loss: 101.6106 - mean_squared_error: 376222.1562 - val_loss: 113.0743 - val_mean_squared_error: 562306.2500\n",
      "Epoch 88/100\n",
      "1266/1266 [==============================] - 3s 2ms/step - loss: 100.7589 - mean_squared_error: 357529.8438 - val_loss: 114.3065 - val_mean_squared_error: 555171.4375\n",
      "Epoch 89/100\n",
      "1266/1266 [==============================] - 3s 2ms/step - loss: 100.8561 - mean_squared_error: 353177.0938 - val_loss: 112.5653 - val_mean_squared_error: 589943.3125\n",
      "Epoch 90/100\n",
      "1266/1266 [==============================] - 3s 2ms/step - loss: 101.2848 - mean_squared_error: 362960.2500 - val_loss: 114.1787 - val_mean_squared_error: 602780.2500\n",
      "Epoch 91/100\n",
      "1266/1266 [==============================] - 3s 2ms/step - loss: 100.6446 - mean_squared_error: 353371.6562 - val_loss: 113.4966 - val_mean_squared_error: 696072.2500\n",
      "Epoch 92/100\n",
      "1266/1266 [==============================] - 3s 2ms/step - loss: 101.5033 - mean_squared_error: 363365.0312 - val_loss: 115.9458 - val_mean_squared_error: 594698.0000\n",
      "Epoch 93/100\n",
      "1266/1266 [==============================] - 3s 2ms/step - loss: 100.6712 - mean_squared_error: 355957.1562 - val_loss: 113.2594 - val_mean_squared_error: 670120.6250\n",
      "Epoch 94/100\n",
      "1266/1266 [==============================] - 3s 2ms/step - loss: 100.3405 - mean_squared_error: 349566.3125 - val_loss: 113.8810 - val_mean_squared_error: 741067.4375\n",
      "Epoch 95/100\n",
      "1266/1266 [==============================] - 3s 2ms/step - loss: 100.7665 - mean_squared_error: 360336.5312 - val_loss: 116.7025 - val_mean_squared_error: 588832.0000\n",
      "Epoch 96/100\n",
      "1266/1266 [==============================] - 3s 2ms/step - loss: 101.2652 - mean_squared_error: 360186.6562 - val_loss: 115.7457 - val_mean_squared_error: 675172.8125\n",
      "Epoch 97/100\n",
      "1266/1266 [==============================] - 3s 2ms/step - loss: 100.5999 - mean_squared_error: 361788.7188 - val_loss: 113.6408 - val_mean_squared_error: 662784.8750\n",
      "Epoch 98/100\n",
      "1266/1266 [==============================] - 3s 2ms/step - loss: 100.5608 - mean_squared_error: 348153.0312 - val_loss: 119.5151 - val_mean_squared_error: 651621.5000\n",
      "Epoch 99/100\n",
      "1266/1266 [==============================] - 3s 2ms/step - loss: 100.5098 - mean_squared_error: 357778.5312 - val_loss: 116.1583 - val_mean_squared_error: 647419.5000\n",
      "Epoch 100/100\n",
      "1266/1266 [==============================] - 3s 2ms/step - loss: 100.9579 - mean_squared_error: 364655.3750 - val_loss: 114.6782 - val_mean_squared_error: 678571.0625\n"
     ]
    },
    {
     "data": {
      "text/plain": [
       "<tensorflow.python.keras.callbacks.History at 0x7f20d8b0e5f8>"
      ]
     },
     "execution_count": 123,
     "metadata": {
      "tags": []
     },
     "output_type": "execute_result"
    }
   ],
   "source": [
    "NN_model.fit(X_train[columnsToKeep], y_train, epochs=100, batch_size=32, validation_split=0.3)\n"
   ]
  },
  {
   "cell_type": "code",
   "execution_count": 152,
   "metadata": {
    "colab": {
     "base_uri": "https://localhost:8080/",
     "height": 35
    },
    "colab_type": "code",
    "id": "k9YDFfNkqc4_",
    "outputId": "80b3eaa3-4723-4645-b808-347a9862a791"
   },
   "outputs": [
    {
     "name": "stdout",
     "output_type": "stream",
     "text": [
      "452/452 [==============================] - 1s 1ms/step - loss: 111.2685 - mean_squared_error: 544286.8750\n"
     ]
    }
   ],
   "source": [
    "mse_pred_nn=NN_model.evaluate(X_test[columnsToKeep],y_test) #columnstoKeep, without outliers"
   ]
  },
  {
   "cell_type": "code",
   "execution_count": 260,
   "metadata": {
    "colab": {},
    "colab_type": "code",
    "id": "6AAFyBZlFu1W"
   },
   "outputs": [],
   "source": [
    "MSE['nn_Only_Tabular']=mse_pred_nn[1]"
   ]
  },
  {
   "cell_type": "code",
   "execution_count": 261,
   "metadata": {
    "colab": {
     "base_uri": "https://localhost:8080/",
     "height": 76
    },
    "colab_type": "code",
    "id": "9arP-L9jUCSr",
    "outputId": "80819495-59f3-4b4d-f01b-8a70f8a1fd48"
   },
   "outputs": [
    {
     "data": {
      "text/html": [
       "<div>\n",
       "<style scoped>\n",
       "    .dataframe tbody tr th:only-of-type {\n",
       "        vertical-align: middle;\n",
       "    }\n",
       "\n",
       "    .dataframe tbody tr th {\n",
       "        vertical-align: top;\n",
       "    }\n",
       "\n",
       "    .dataframe thead th {\n",
       "        text-align: right;\n",
       "    }\n",
       "</style>\n",
       "<table border=\"1\" class=\"dataframe\">\n",
       "  <thead>\n",
       "    <tr style=\"text-align: right;\">\n",
       "      <th></th>\n",
       "      <th>LogLin</th>\n",
       "      <th>nn_Only_Tabular</th>\n",
       "    </tr>\n",
       "  </thead>\n",
       "  <tbody>\n",
       "    <tr>\n",
       "      <th>0</th>\n",
       "      <td>573939.833636</td>\n",
       "      <td>544286.875</td>\n",
       "    </tr>\n",
       "  </tbody>\n",
       "</table>\n",
       "</div>"
      ],
      "text/plain": [
       "          LogLin  nn_Only_Tabular\n",
       "0  573939.833636       544286.875"
      ]
     },
     "execution_count": 261,
     "metadata": {
      "tags": []
     },
     "output_type": "execute_result"
    }
   ],
   "source": [
    "MSE"
   ]
  },
  {
   "cell_type": "markdown",
   "metadata": {
    "colab_type": "text",
    "id": "8bDezBW8WZP9"
   },
   "source": [
    "**PREPROCESSINGT TEXT DATA**"
   ]
  },
  {
   "cell_type": "markdown",
   "metadata": {
    "colab_type": "text",
    "id": "3ql6HlW3KKB8"
   },
   "source": [
    "The function convertNonEnglish takes the non-english texts and replaces them with 'Foreign Language'. In this way, all the non-english texts will have the same title and body. My reasioning is to somehow create special tokens for the non-english texts so that the traning model can find a pattern "
   ]
  },
  {
   "cell_type": "code",
   "execution_count": 53,
   "metadata": {
    "colab": {},
    "colab_type": "code",
    "id": "FuVQl1um8E-m"
   },
   "outputs": [],
   "source": [
    "def convertNonEnglish(df):\n",
    "  for i in range(len(df)):\n",
    "    if df['language_other'][i]!=0:\n",
    "      df['text'][i] ='Foreign language'\n",
    "      df['title'][i] ='Foreign'\n",
    "  return(df)"
   ]
  },
  {
   "cell_type": "code",
   "execution_count": 54,
   "metadata": {
    "colab": {},
    "colab_type": "code",
    "id": "WYlhsTQ0e_FP"
   },
   "outputs": [],
   "source": [
    "# The text column includes the title as well. I split the body of the text from the title. I use title of the text as a second textual data in the training\n",
    "def getBodyOfText(df):\n",
    "  body=[]\n",
    "  for i in range(len(df)):\n",
    "    onlyText=df['text'][i].partition(df['title'][i])[2]\n",
    "    body.append(onlyText)\n",
    "  return(body)"
   ]
  },
  {
   "cell_type": "code",
   "execution_count": 56,
   "metadata": {
    "colab": {},
    "colab_type": "code",
    "id": "Wv5ZoqC4Difz"
   },
   "outputs": [],
   "source": [
    "#I took this code directly from the tutroial,I haven't done any changes\n",
    "# Lemmatize with POS Tag\n",
    "def get_wordnet_pos(word):\n",
    "    \"\"\"Map POS tag to first character for lemmatization\"\"\"\n",
    "    tag = nltk.pos_tag([word])[0][1][0].upper()\n",
    "    tag_dict = {\"J\": wordnet.ADJ,\n",
    "                \"N\": wordnet.NOUN,\n",
    "                \"V\": wordnet.VERB,\n",
    "                \"R\": wordnet.ADV}\n",
    "\n",
    "    return tag_dict.get(tag, wordnet.NOUN)"
   ]
  },
  {
   "cell_type": "markdown",
   "metadata": {
    "colab_type": "text",
    "id": "_3lpGaLzMc5T"
   },
   "source": [
    "I further benefitted from the tutorials.There are a few additions that I made though.First of all, I noticed that one of the texts has a huge bibliography, which creates too much noise when text is tokenized. I first removed the part of the text starting from word 'Bibliography'. Secondly, there are many words in pharanthesis in multiple texts, these are also removed. And then I removed the links which are refered in the texts. Lastly, only the words having more than 2 letters are filtered\n"
   ]
  },
  {
   "cell_type": "code",
   "execution_count": 64,
   "metadata": {
    "colab": {},
    "colab_type": "code",
    "id": "5PvqYuAJwm8j"
   },
   "outputs": [],
   "source": [
    "def clean_posts(df):\n",
    "    \"\"\" Standard NLP pre-processing chain including removal of html tags, non-alphanumeric characters, and stopwords.\n",
    "        Words are subject to lemmatization using their POS tags, which are determind using WordNet. \n",
    "    \"\"\"\n",
    "    posts = []\n",
    "\n",
    "    lemmatizer = WordNetLemmatizer()\n",
    "    \n",
    "    # print('*' * 40)\n",
    "    # #print('Cleaning {} medium posts.'.format(df.shape[0]))\n",
    "    # counter = 0\n",
    "    for post in df:\n",
    "        \n",
    "        head = post.partition('Bibliography') #remove bibliography\n",
    "\n",
    "        #remove the words in pharanthesis\n",
    "        post_text=re.sub(r'\\([^)]*\\)', '', head[0]) #remove words in paranthesis\n",
    "       \n",
    "        #remove url in the text\n",
    "        post_text=re.sub(r'http\\S+', '', post_text) #remove links\n",
    "\n",
    "        post_text=re.sub(r'www\\S+', '', post_text) #remove links\n",
    "\n",
    "        # remove html content\n",
    "        post_text = BeautifulSoup(post_text).get_text()\n",
    "        \n",
    "        # remove non-alphabetic characters\n",
    "        post_text = re.sub(\"[^a-zA-Z]\",\" \", post_text)\n",
    "    \n",
    "        # tokenize the sentences\n",
    "        words = word_tokenize(post_text.lower())\n",
    "  \n",
    "        # filter stopwords\n",
    "        words = [w for w in words if len(w) > 2 if w not in stopwords.words(\"english\")] #don't include words whose length is less than 2\n",
    "\n",
    "        # lemmatize each word to its lemma\n",
    "        lemma_words =[lemmatizer.lemmatize(i, get_wordnet_pos(i)) for i in words]\n",
    "    \n",
    "        posts.append(lemma_words)\n",
    "              \n",
    "    #     if (counter > 0 and counter % 500 == 0):\n",
    "    #         print('Processed {} posts'.format(counter))\n",
    "            \n",
    "    #     counter += 1\n",
    "        \n",
    "    # print('DONE')\n",
    "    # print('*' * 40)\n",
    "\n",
    "    return(posts) "
   ]
  },
  {
   "cell_type": "code",
   "execution_count": 74,
   "metadata": {
    "colab": {
     "base_uri": "https://localhost:8080/",
     "height": 284
    },
    "colab_type": "code",
    "id": "jLbj4vEesK6u",
    "outputId": "93dd199d-25c6-4fba-e7c9-b6bc4803a3b6"
   },
   "outputs": [
    {
     "name": "stderr",
     "output_type": "stream",
     "text": [
      "/usr/local/lib/python3.6/dist-packages/ipykernel_launcher.py:4: SettingWithCopyWarning: \n",
      "A value is trying to be set on a copy of a slice from a DataFrame\n",
      "\n",
      "See the caveats in the documentation: https://pandas.pydata.org/pandas-docs/stable/user_guide/indexing.html#returning-a-view-versus-a-copy\n",
      "  after removing the cwd from sys.path.\n",
      "/usr/local/lib/python3.6/dist-packages/ipykernel_launcher.py:1: SettingWithCopyWarning: \n",
      "A value is trying to be set on a copy of a slice from a DataFrame\n",
      "\n",
      "See the caveats in the documentation: https://pandas.pydata.org/pandas-docs/stable/user_guide/indexing.html#returning-a-view-versus-a-copy\n",
      "  \"\"\"Entry point for launching an IPython kernel.\n",
      "/usr/local/lib/python3.6/dist-packages/ipykernel_launcher.py:5: SettingWithCopyWarning: \n",
      "A value is trying to be set on a copy of a slice from a DataFrame\n",
      "\n",
      "See the caveats in the documentation: https://pandas.pydata.org/pandas-docs/stable/user_guide/indexing.html#returning-a-view-versus-a-copy\n",
      "  \"\"\"\n"
     ]
    }
   ],
   "source": [
    "#replace non English texts with string Foreign Language\n",
    "X_train=convertNonEnglish(X_train)\n",
    "X_test=convertNonEnglish(X_test)\n",
    "test_2=convertNonEnglish(test_2)"
   ]
  },
  {
   "cell_type": "code",
   "execution_count": 75,
   "metadata": {
    "colab": {},
    "colab_type": "code",
    "id": "2_yJMNbjirJR"
   },
   "outputs": [],
   "source": [
    "#Separate title from the body of the text\n",
    "X_train['body']=getBodyOfText(X_train)\n",
    "X_test['body']=getBodyOfText(X_test)\n",
    "test_2['body']=getBodyOfText(test_2)"
   ]
  },
  {
   "cell_type": "code",
   "execution_count": null,
   "metadata": {
    "colab": {},
    "colab_type": "code",
    "id": "6EW6qPRlDqms"
   },
   "outputs": [],
   "source": [
    "#Clean title and body of training set\n",
    "cleaned_body_train = clean_posts(X_train['body'])\n",
    "cleaned_title_train=clean_posts(X_train['title'])"
   ]
  },
  {
   "cell_type": "code",
   "execution_count": null,
   "metadata": {
    "colab": {},
    "colab_type": "code",
    "id": "Oy3_ehX1tiy-"
   },
   "outputs": [],
   "source": [
    "#Clean title and body of validation set\n",
    "cleaned_body_test = clean_posts(X_test['body'])\n",
    "cleaned_title_test=clean_posts(X_test['title'])"
   ]
  },
  {
   "cell_type": "code",
   "execution_count": null,
   "metadata": {
    "colab": {},
    "colab_type": "code",
    "id": "BLn8eRSpSI7S"
   },
   "outputs": [],
   "source": [
    "#Clean title and body of test set\n",
    "cleaned_body_test_2 = clean_posts(test_2['body'])\n",
    "cleaned_title_test_2=clean_posts(test_2['title'])"
   ]
  },
  {
   "cell_type": "code",
   "execution_count": 84,
   "metadata": {
    "colab": {},
    "colab_type": "code",
    "id": "g8YRB25MDuKt"
   },
   "outputs": [],
   "source": [
    "#Put tokens, detokenized, and original text(title) all together in train_text\n",
    "train_text = pd.DataFrame({'detokenized_body':[TreebankWordDetokenizer().detokenize(body) for body in cleaned_body_train]})\n",
    "train_text['tokens_body']=cleaned_body_train\n",
    "train_text['detokenized_title']=[TreebankWordDetokenizer().detokenize(title) for title in cleaned_title_train]\n",
    "train_text['tokens_title']=cleaned_title_train\n",
    "train_text['original']=pd.DataFrame(X_train['text'])\n",
    "\n",
    "#Put tokens, detokenized, and original text(title) all together in test_text (validation set)\n",
    "test_text = pd.DataFrame({'detokenized_body':[TreebankWordDetokenizer().detokenize(body) for body in cleaned_body_test]})\n",
    "test_text['tokens_body']=cleaned_body_test\n",
    "test_text['detokenized_title']=[TreebankWordDetokenizer().detokenize(title) for title in cleaned_title_test]\n",
    "test_text['tokens_title']=cleaned_title_test\n",
    "test_text['original']=pd.DataFrame(X_test['text'])"
   ]
  },
  {
   "cell_type": "code",
   "execution_count": 79,
   "metadata": {
    "colab": {},
    "colab_type": "code",
    "id": "Rm4yeYRuSpOt"
   },
   "outputs": [],
   "source": [
    "#Put tokens, detokenized, and original text(title) all together in test_2_text\n",
    "test_2_text = pd.DataFrame({'detokenized_body':[TreebankWordDetokenizer().detokenize(body) for body in cleaned_body_test_2]})\n",
    "test_2_text['tokens_body']=cleaned_body_test_2\n",
    "test_2_text['detokenized_title']=[TreebankWordDetokenizer().detokenize(title) for title in cleaned_title_test_2]\n",
    "test_2_text['tokens_title']=cleaned_title_test_2\n",
    "test_2_text['original']=pd.DataFrame(test_2['text'])"
   ]
  },
  {
   "cell_type": "code",
   "execution_count": 117,
   "metadata": {
    "colab": {},
    "colab_type": "code",
    "id": "4KqCe0iVuNem"
   },
   "outputs": [],
   "source": [
    "#save the clean texts\n",
    "train_text.to_pickle('drive/My Drive/Colab_Data_Files/NoOutFull_clean_X_train.pkl')\n",
    "test_text.to_pickle('drive/My Drive/Colab_Data_Files/NoOutFull_clean_X_valid.pkl')\n",
    "test_2_text.to_pickle('drive/My Drive/Colab_Data_Files/Full_clean_test_2.pkl')"
   ]
  },
  {
   "cell_type": "code",
   "execution_count": 57,
   "metadata": {
    "colab": {},
    "colab_type": "code",
    "id": "uFJN74adhBx5"
   },
   "outputs": [],
   "source": [
    "#read the cleaned texts \n",
    "train_text = pd.read_pickle('drive/My Drive/Colab_Data_Files/NoOutFull_clean_X_train.pkl')\n",
    "test_text = pd.read_pickle('drive/My Drive/Colab_Data_Files/NoOutFull_clean_X_valid.pkl')\n",
    "test_2_text=pd.read_pickle('drive/My Drive/Colab_Data_Files/Full_clean_test_2.pkl')"
   ]
  },
  {
   "cell_type": "code",
   "execution_count": 98,
   "metadata": {
    "colab": {},
    "colab_type": "code",
    "id": "RUAevMXo-4xV"
   },
   "outputs": [],
   "source": [
    "NUM_WORDS=10000 # I wanted to include as many words as possible"
   ]
  },
  {
   "cell_type": "code",
   "execution_count": 99,
   "metadata": {
    "colab": {},
    "colab_type": "code",
    "id": "sY8t0OgNEtyj"
   },
   "outputs": [],
   "source": [
    "tokenizer_body=Tokenizer(NUM_WORDS, oov_token=1)\n",
    "tokenizer_body.fit_on_texts(train_text['detokenized_body'])\n",
    "\n",
    "tokenizer_title=Tokenizer()\n",
    "tokenizer_title.fit_on_texts(train_text['detokenized_title'])\n",
    "\n",
    "tokenizer_body.fit_on_texts(test_text['detokenized_body'])\n",
    "tokenizer_title.fit_on_texts(test_text['detokenized_title'])"
   ]
  },
  {
   "cell_type": "code",
   "execution_count": 103,
   "metadata": {
    "colab": {},
    "colab_type": "code",
    "id": "zayxjkrcEv5n"
   },
   "outputs": [],
   "source": [
    "#train_int = tokenizer_obj.texts_to_sequences(X_train['detokenized'])\n",
    "#converting text into integer sequences\n",
    "train_int_body  = tokenizer_body.texts_to_sequences(train_text['detokenized_body'])\n",
    "train_int_title = tokenizer_title.texts_to_sequences(train_text['detokenized_title'])\n",
    "\n",
    "test_int_body  = tokenizer_body.texts_to_sequences(test_text['detokenized_body'])\n",
    "test_int_title = tokenizer_title.texts_to_sequences(test_text['detokenized_title'])\n",
    "\n",
    "test_2_int_body= tokenizer_body.texts_to_sequences(test_2_text['detokenized_body'])\n",
    "test_2_int_title= tokenizer_title.texts_to_sequences(test_2_text['detokenized_title'])"
   ]
  },
  {
   "cell_type": "code",
   "execution_count": 104,
   "metadata": {
    "colab": {
     "base_uri": "https://localhost:8080/",
     "height": 52
    },
    "colab_type": "code",
    "id": "PbwRb3gsEyaN",
    "outputId": "761a062a-dcc5-4e71-ae30-69049bccaf12"
   },
   "outputs": [
    {
     "name": "stdout",
     "output_type": "stream",
     "text": [
      "max text length in training set is 10264 words\n",
      "max title length in training set is 14 words\n"
     ]
    }
   ],
   "source": [
    "print('max text length in training set is {} words'.format(max([len(body) for body in train_int_body])))\n",
    "print('max title length in training set is {} words'.format(max([len(title) for title in train_int_title])))"
   ]
  },
  {
   "cell_type": "markdown",
   "metadata": {
    "colab_type": "text",
    "id": "KL-jmDRNGDIj"
   },
   "source": [
    "The training set is huge. Many times my notebook crashed. Therefore I decided to use as many words as possible but restrict the text length. In my opinion using large number of words hels to distinguish texts from each other. This is why I kept max text length less but number of words relatively high"
   ]
  },
  {
   "cell_type": "code",
   "execution_count": 105,
   "metadata": {
    "colab": {},
    "colab_type": "code",
    "id": "0jasIIHrE7UM"
   },
   "outputs": [],
   "source": [
    "max_body_length = 1000\n",
    "max_title_length =14\n",
    "\n",
    "train_int_body  = pad_sequences(train_int_body, max_body_length)\n",
    "train_int_title  = pad_sequences(train_int_title, max_title_length)\n",
    "\n",
    "test_int_body  = pad_sequences(test_int_body, max_body_length)\n",
    "test_int_title  = pad_sequences(test_int_title, max_title_length)"
   ]
  },
  {
   "cell_type": "code",
   "execution_count": 106,
   "metadata": {
    "colab": {},
    "colab_type": "code",
    "id": "p4h8zqASVr83"
   },
   "outputs": [],
   "source": [
    "test_2_int_body  = pad_sequences(test_2_int_body, max_body_length)\n",
    "test_2_int_title  = pad_sequences(test_2_int_title, max_title_length)"
   ]
  },
  {
   "cell_type": "code",
   "execution_count": 107,
   "metadata": {
    "colab": {
     "base_uri": "https://localhost:8080/",
     "height": 52
    },
    "colab_type": "code",
    "id": "Q4crVk3YoXWo",
    "outputId": "ad41079b-c0f4-460d-8bc3-7ef3fe83795b"
   },
   "outputs": [
    {
     "name": "stdout",
     "output_type": "stream",
     "text": [
      "number of words in text vocab in training set is 194594 words\n",
      "number of words in title vocab in training set is 21994 words\n"
     ]
    }
   ],
   "source": [
    "size_of_vocabulary_body=len(tokenizer_body.word_index) + 1 #+1 for padding\n",
    "print('number of words in text vocab in training set is {} words'.format(size_of_vocabulary_body))\n",
    "size_of_vocabulary_title=len(tokenizer_title.word_index) + 1 #+1 for padding\n",
    "print('number of words in title vocab in training set is {} words'.format(size_of_vocabulary_title))"
   ]
  },
  {
   "cell_type": "markdown",
   "metadata": {
    "colab_type": "text",
    "id": "0ctuH81rIt5I"
   },
   "source": [
    "MODEL1: TRAINING WORD EMBEDDINGS IN THE MODEL AND USE ONLY THE TEXT\n",
    "\n",
    "\n",
    "\n"
   ]
  },
  {
   "cell_type": "code",
   "execution_count": 108,
   "metadata": {
    "colab": {},
    "colab_type": "code",
    "id": "6hIJMuY50bvQ"
   },
   "outputs": [],
   "source": [
    "from keras.models import *\n",
    "from keras.layers import *\n",
    "from keras.callbacks import *"
   ]
  },
  {
   "cell_type": "code",
   "execution_count": 109,
   "metadata": {
    "colab": {},
    "colab_type": "code",
    "id": "RUXSUCK6FCHd"
   },
   "outputs": [],
   "source": [
    "NB_HIDDEN = 16\n",
    "EPOCH = 5\n",
    "BATCH_SIZE = 128\n",
    "EMBEDDING_DIM = 50\n"
   ]
  },
  {
   "cell_type": "code",
   "execution_count": 110,
   "metadata": {
    "colab": {
     "base_uri": "https://localhost:8080/",
     "height": 266
    },
    "colab_type": "code",
    "id": "Jcv1hSjtFDmk",
    "outputId": "ed207066-e276-490e-f63d-22713f258b04"
   },
   "outputs": [
    {
     "name": "stdout",
     "output_type": "stream",
     "text": [
      "Model: \"sequential\"\n",
      "_________________________________________________________________\n",
      "Layer (type)                 Output Shape              Param #   \n",
      "=================================================================\n",
      "embedding (Embedding)        (None, 1000, 50)          500000    \n",
      "_________________________________________________________________\n",
      "lstm (LSTM)                  (None, 16)                4288      \n",
      "_________________________________________________________________\n",
      "dense (Dense)                (None, 1)                 17        \n",
      "=================================================================\n",
      "Total params: 504,305\n",
      "Trainable params: 504,305\n",
      "Non-trainable params: 0\n",
      "_________________________________________________________________\n"
     ]
    }
   ],
   "source": [
    "#In this model only body of the text is used for predictions. Embeddings are trained within the model\n",
    "# Embedding layer\n",
    "embedding_layer=Embedding(input_dim=NUM_WORDS, \n",
    "                          output_dim=EMBEDDING_DIM,\n",
    "                          input_length=max_body_length\n",
    "                         )\n",
    "# GRU text classifier\n",
    "model1=Sequential()                        \n",
    "model1.add(embedding_layer)\n",
    "model1.add(LSTM(NB_HIDDEN))\n",
    "model1.add(Dense(1, activation='relu')) #relu performs better and faster compared to other activation functions in nlp models.\n",
    "model1.compile(loss='mse', optimizer='adam', metrics='mse')  #MSE is chosen because it is a regression problem\n",
    "model1.summary()"
   ]
  },
  {
   "cell_type": "code",
   "execution_count": 111,
   "metadata": {
    "colab": {
     "base_uri": "https://localhost:8080/",
     "height": 195
    },
    "colab_type": "code",
    "id": "Z2x6Ix9dFE-k",
    "outputId": "c461d575-6aa2-4f5b-80bd-69992e18ff89"
   },
   "outputs": [
    {
     "name": "stdout",
     "output_type": "stream",
     "text": [
      "Epoch 1/5\n",
      "317/317 [==============================] - 190s 599ms/step - loss: 1082856.3750 - mse: 1082856.3750 - val_loss: 1431520.2500 - val_mse: 1431520.2500\n",
      "Epoch 2/5\n",
      "317/317 [==============================] - 199s 627ms/step - loss: 1081108.5000 - mse: 1081108.5000 - val_loss: 1430136.5000 - val_mse: 1430136.5000\n",
      "Epoch 3/5\n",
      "317/317 [==============================] - 199s 629ms/step - loss: 1079879.1250 - mse: 1079879.1250 - val_loss: 1428892.5000 - val_mse: 1428892.5000\n",
      "Epoch 4/5\n",
      "317/317 [==============================] - 198s 626ms/step - loss: 1078740.5000 - mse: 1078740.5000 - val_loss: 1427711.7500 - val_mse: 1427711.7500\n",
      "Epoch 5/5\n",
      "317/317 [==============================] - 199s 628ms/step - loss: 1077661.3750 - mse: 1077661.3750 - val_loss: 1426601.8750 - val_mse: 1426601.8750\n"
     ]
    }
   ],
   "source": [
    "model1_story = model1.fit(train_int_body, y_train , batch_size=BATCH_SIZE, epochs=EPOCH, validation_split=0.3)\n"
   ]
  },
  {
   "cell_type": "code",
   "execution_count": 153,
   "metadata": {
    "colab": {
     "base_uri": "https://localhost:8080/",
     "height": 35
    },
    "colab_type": "code",
    "id": "q0it-01aGZPX",
    "outputId": "e90d0076-fb24-4e3e-cd1a-3a63ee2f08b4"
   },
   "outputs": [
    {
     "name": "stdout",
     "output_type": "stream",
     "text": [
      "452/452 [==============================] - 28s 62ms/step - loss: 987221.3125 - mse: 987221.3125\n"
     ]
    }
   ],
   "source": [
    "mse_onlyText=model1.evaluate(test_int_body,y_test) #num_words=10k, body_length=1000, without outliers "
   ]
  },
  {
   "cell_type": "code",
   "execution_count": 262,
   "metadata": {
    "colab": {},
    "colab_type": "code",
    "id": "xbNa4FQIGiks"
   },
   "outputs": [],
   "source": [
    "MSE['onlyText']=mse_onlyText[1]"
   ]
  },
  {
   "cell_type": "code",
   "execution_count": 263,
   "metadata": {
    "colab": {
     "base_uri": "https://localhost:8080/",
     "height": 76
    },
    "colab_type": "code",
    "id": "gS6TErKfUgtm",
    "outputId": "a7770b4a-1e64-4cd6-b523-abd36a157f9c"
   },
   "outputs": [
    {
     "data": {
      "text/html": [
       "<div>\n",
       "<style scoped>\n",
       "    .dataframe tbody tr th:only-of-type {\n",
       "        vertical-align: middle;\n",
       "    }\n",
       "\n",
       "    .dataframe tbody tr th {\n",
       "        vertical-align: top;\n",
       "    }\n",
       "\n",
       "    .dataframe thead th {\n",
       "        text-align: right;\n",
       "    }\n",
       "</style>\n",
       "<table border=\"1\" class=\"dataframe\">\n",
       "  <thead>\n",
       "    <tr style=\"text-align: right;\">\n",
       "      <th></th>\n",
       "      <th>LogLin</th>\n",
       "      <th>nn_Only_Tabular</th>\n",
       "      <th>onlyText</th>\n",
       "    </tr>\n",
       "  </thead>\n",
       "  <tbody>\n",
       "    <tr>\n",
       "      <th>0</th>\n",
       "      <td>573939.833636</td>\n",
       "      <td>544286.875</td>\n",
       "      <td>987221.3125</td>\n",
       "    </tr>\n",
       "  </tbody>\n",
       "</table>\n",
       "</div>"
      ],
      "text/plain": [
       "          LogLin  nn_Only_Tabular     onlyText\n",
       "0  573939.833636       544286.875  987221.3125"
      ]
     },
     "execution_count": 263,
     "metadata": {
      "tags": []
     },
     "output_type": "execute_result"
    }
   ],
   "source": [
    "MSE"
   ]
  },
  {
   "cell_type": "markdown",
   "metadata": {
    "colab_type": "text",
    "id": "Ivm31y4GfpGt"
   },
   "source": [
    "**MODEL2:USE PRETRAINED WORD EMBEDDINGS AND USE ONLY TEXT**\n"
   ]
  },
  {
   "cell_type": "code",
   "execution_count": 113,
   "metadata": {
    "colab": {
     "base_uri": "https://localhost:8080/",
     "height": 35
    },
    "colab_type": "code",
    "id": "e9DikMPxfyH1",
    "outputId": "a7223d4d-4781-4101-c442-4a914158a734"
   },
   "outputs": [
    {
     "name": "stdout",
     "output_type": "stream",
     "text": [
      "Loaded 400000 word vectors.\n"
     ]
    }
   ],
   "source": [
    "#creating of Glove dictionary\n",
    "embeddings_index = dict()\n",
    "f = open('drive/My Drive/Colab_Data_Files/glove.6B.50d.txt')\n",
    "\n",
    "for line in f:\n",
    "    values = line.split()\n",
    "    word = values[0]\n",
    "    coefs = np.asarray(values[1:], dtype='float32')\n",
    "    embeddings_index[word] = coefs\n",
    "\n",
    "f.close()\n",
    "print('Loaded %s word vectors.' % len(embeddings_index))"
   ]
  },
  {
   "cell_type": "code",
   "execution_count": 114,
   "metadata": {
    "colab": {},
    "colab_type": "code",
    "id": "PmR8x6_fjKd9"
   },
   "outputs": [],
   "source": [
    "# find corresponding word embedding in the glove dictionary and assign it to the given word\n",
    "def getGLOVE(vocabSize,embeddingDim,tokenizer,embeddingIdx):\n",
    "  embedding_matrix = np.zeros((vocabSize, embeddingDim))\n",
    "\n",
    "  for word in tokenizer.word_index.keys():\n",
    "    i=tokenizer.word_index[word]\n",
    "    if i<vocabSize:                 #I don't use the all words in the dictionary, therefore if the index of the given word is less than NUM_WORDS, then function gets the glove embedding weights.\n",
    "      embedding_vector = embeddingIdx.get(word)\n",
    "      if embedding_vector is not None:\n",
    "        embedding_matrix[i] = embedding_vector\n",
    "  return(embedding_matrix)\n"
   ]
  },
  {
   "cell_type": "code",
   "execution_count": 115,
   "metadata": {
    "colab": {},
    "colab_type": "code",
    "id": "0bu51D_G05qx"
   },
   "outputs": [],
   "source": [
    "embedding_matrix_body=getGLOVE(NUM_WORDS,EMBEDDING_DIM,tokenizer_body,embeddings_index) #get embeddings for the body\n",
    "embedding_matrix_title=getGLOVE(size_of_vocabulary_title,EMBEDDING_DIM,tokenizer_title,embeddings_index)#get embeddings for the title"
   ]
  },
  {
   "cell_type": "code",
   "execution_count": 116,
   "metadata": {
    "colab": {
     "base_uri": "https://localhost:8080/",
     "height": 35
    },
    "colab_type": "code",
    "id": "g1iLwJEu7boe",
    "outputId": "353ab9fe-bc96-41eb-b30d-10d2d4acdd69"
   },
   "outputs": [
    {
     "data": {
      "text/plain": [
       "0.9612"
      ]
     },
     "execution_count": 116,
     "metadata": {
      "tags": []
     },
     "output_type": "execute_result"
    }
   ],
   "source": [
    "# 0.9612 of the words are macthed with thier glove embeddings \n",
    "nonzero_elements = np.count_nonzero(np.count_nonzero(embedding_matrix_body, axis=1))\n",
    "nonzero_elements/NUM_WORDS"
   ]
  },
  {
   "cell_type": "code",
   "execution_count": 117,
   "metadata": {
    "colab": {
     "base_uri": "https://localhost:8080/",
     "height": 52
    },
    "colab_type": "code",
    "id": "m59F8xSEPE2K",
    "outputId": "a078995a-0bf7-4c47-c9fe-62e35a75ea6c"
   },
   "outputs": [
    {
     "name": "stdout",
     "output_type": "stream",
     "text": [
      "(10000, 50)\n",
      "(21994, 50)\n"
     ]
    }
   ],
   "source": [
    "print(embedding_matrix_body.shape)\n",
    "print(embedding_matrix_title.shape)"
   ]
  },
  {
   "cell_type": "code",
   "execution_count": 118,
   "metadata": {
    "colab": {},
    "colab_type": "code",
    "id": "pYyr5SYO2um6"
   },
   "outputs": [],
   "source": [
    "model_preTrain=Sequential()\n",
    "\n",
    "#embedding layer\n",
    "model_preTrain.add(Embedding(NUM_WORDS,EMBEDDING_DIM, weights=[embedding_matrix_body],input_length=max_body_length, trainable=False)) \n",
    "\n",
    "#lstm layer\n",
    "model_preTrain.add(LSTM(128))\n",
    "\n",
    "#Dense Layer\n",
    "model_preTrain.add(Dense(16,activation='relu')) \n",
    "\n",
    "model_preTrain.add(Dense(1,activation='relu')) \n",
    "\n",
    "#Add loss function, metrics, optimizer\n",
    "model_preTrain.compile(optimizer='adam', loss='mse',metrics=[\"mse\"]) \n"
   ]
  },
  {
   "cell_type": "code",
   "execution_count": null,
   "metadata": {
    "colab": {},
    "colab_type": "code",
    "id": "60LJ_VSLTlKg"
   },
   "outputs": [],
   "source": [
    "model_preTrain.summary()"
   ]
  },
  {
   "cell_type": "code",
   "execution_count": 119,
   "metadata": {
    "colab": {},
    "colab_type": "code",
    "id": "u5-hZND7iAv9"
   },
   "outputs": [],
   "source": [
    "# checkpoint\n",
    "filepath=\"/drive/My Drive/Colab_Data_Files/model-weights-improvement-{epoch:02d}-{val_loss:.2f}.hdf5\"\n",
    "checkpoint = ModelCheckpoint(filepath, monitor='val_loss', verbose=1, save_best_only=True, mode='max')\n",
    "callbacks_list = [checkpoint]"
   ]
  },
  {
   "cell_type": "code",
   "execution_count": 120,
   "metadata": {
    "colab": {
     "base_uri": "https://localhost:8080/",
     "height": 390
    },
    "colab_type": "code",
    "id": "BnQzf0WaJFse",
    "outputId": "b65b21e4-e8f4-4526-a4d7-255578a380d9"
   },
   "outputs": [
    {
     "name": "stdout",
     "output_type": "stream",
     "text": [
      "Epoch 1/5\n",
      "317/317 [==============================] - ETA: 0s - loss: 1071316.5000 - mse: 1071316.5000\n",
      "Epoch 00001: val_loss improved from -inf to 1411176.62500, saving model to /drive/My Drive/Colab_Data_Files/model-weights-improvement-01-1411176.62.hdf5\n",
      "317/317 [==============================] - 1014s 3s/step - loss: 1071316.5000 - mse: 1071316.5000 - val_loss: 1411176.6250 - val_mse: 1411176.6250\n",
      "Epoch 2/5\n",
      "317/317 [==============================] - ETA: 0s - loss: 1062948.6250 - mse: 1062948.6250\n",
      "Epoch 00002: val_loss did not improve from 1411176.62500\n",
      "317/317 [==============================] - 1008s 3s/step - loss: 1062948.6250 - mse: 1062948.6250 - val_loss: 1410299.6250 - val_mse: 1410299.6250\n",
      "Epoch 3/5\n",
      "317/317 [==============================] - ETA: 0s - loss: 1062751.5000 - mse: 1062751.5000\n",
      "Epoch 00003: val_loss did not improve from 1411176.62500\n",
      "317/317 [==============================] - 1002s 3s/step - loss: 1062751.5000 - mse: 1062751.5000 - val_loss: 1410382.6250 - val_mse: 1410382.6250\n",
      "Epoch 4/5\n",
      "317/317 [==============================] - ETA: 0s - loss: 1062095.7500 - mse: 1062095.7500\n",
      "Epoch 00004: val_loss did not improve from 1411176.62500\n",
      "317/317 [==============================] - 997s 3s/step - loss: 1062095.7500 - mse: 1062095.7500 - val_loss: 1409384.7500 - val_mse: 1409384.7500\n",
      "Epoch 5/5\n",
      "317/317 [==============================] - ETA: 0s - loss: 1061234.6250 - mse: 1061234.6250\n",
      "Epoch 00005: val_loss did not improve from 1411176.62500\n",
      "317/317 [==============================] - 996s 3s/step - loss: 1061234.6250 - mse: 1061234.6250 - val_loss: 1409031.8750 - val_mse: 1409031.8750\n"
     ]
    },
    {
     "data": {
      "text/plain": [
       "<tensorflow.python.keras.callbacks.History at 0x7f20da0c5828>"
      ]
     },
     "execution_count": 120,
     "metadata": {
      "tags": []
     },
     "output_type": "execute_result"
    }
   ],
   "source": [
    "model_preTrain.fit(train_int_body, y_train, batch_size=128,epochs=5,validation_split=0.3,verbose=1,callbacks=callbacks_list)"
   ]
  },
  {
   "cell_type": "code",
   "execution_count": 154,
   "metadata": {
    "colab": {
     "base_uri": "https://localhost:8080/",
     "height": 52
    },
    "colab_type": "code",
    "id": "6QJxjmqnj_lb",
    "outputId": "f5696b74-114f-45f2-cf27-6da54f2a8516"
   },
   "outputs": [
    {
     "name": "stdout",
     "output_type": "stream",
     "text": [
      "452/452 [==============================] - 123s 272ms/step - loss: 970920.4375 - mse: 970920.4375\n"
     ]
    },
    {
     "data": {
      "text/plain": [
       "[970920.4375, 970920.4375]"
      ]
     },
     "execution_count": 154,
     "metadata": {
      "tags": []
     },
     "output_type": "execute_result"
    }
   ],
   "source": [
    "mse_onlyTextGlove=model_preTrain.evaluate(test_int_body,y_test)#num_words=10k, body_length=1000, without outliers\n",
    "mse_onlyTextGlove"
   ]
  },
  {
   "cell_type": "code",
   "execution_count": 264,
   "metadata": {
    "colab": {},
    "colab_type": "code",
    "id": "PaUK35lWGsRs"
   },
   "outputs": [],
   "source": [
    "MSE['onlyText_Glove']=mse_onlyTextGlove[1]"
   ]
  },
  {
   "cell_type": "code",
   "execution_count": 265,
   "metadata": {
    "colab": {
     "base_uri": "https://localhost:8080/",
     "height": 76
    },
    "colab_type": "code",
    "id": "dkF0sYblUmCA",
    "outputId": "f9d8dab5-a2a4-4748-ab86-2b2885708b82"
   },
   "outputs": [
    {
     "data": {
      "text/html": [
       "<div>\n",
       "<style scoped>\n",
       "    .dataframe tbody tr th:only-of-type {\n",
       "        vertical-align: middle;\n",
       "    }\n",
       "\n",
       "    .dataframe tbody tr th {\n",
       "        vertical-align: top;\n",
       "    }\n",
       "\n",
       "    .dataframe thead th {\n",
       "        text-align: right;\n",
       "    }\n",
       "</style>\n",
       "<table border=\"1\" class=\"dataframe\">\n",
       "  <thead>\n",
       "    <tr style=\"text-align: right;\">\n",
       "      <th></th>\n",
       "      <th>LogLin</th>\n",
       "      <th>nn_Only_Tabular</th>\n",
       "      <th>onlyText</th>\n",
       "      <th>onlyText_Glove</th>\n",
       "    </tr>\n",
       "  </thead>\n",
       "  <tbody>\n",
       "    <tr>\n",
       "      <th>0</th>\n",
       "      <td>573939.833636</td>\n",
       "      <td>544286.875</td>\n",
       "      <td>987221.3125</td>\n",
       "      <td>970920.4375</td>\n",
       "    </tr>\n",
       "  </tbody>\n",
       "</table>\n",
       "</div>"
      ],
      "text/plain": [
       "          LogLin  nn_Only_Tabular     onlyText  onlyText_Glove\n",
       "0  573939.833636       544286.875  987221.3125     970920.4375"
      ]
     },
     "execution_count": 265,
     "metadata": {
      "tags": []
     },
     "output_type": "execute_result"
    }
   ],
   "source": [
    "MSE"
   ]
  },
  {
   "cell_type": "markdown",
   "metadata": {
    "colab_type": "text",
    "id": "13oKIsGUJUz6"
   },
   "source": [
    "**MIXED INPUT MODEL - CLASSIFICATION**"
   ]
  },
  {
   "cell_type": "markdown",
   "metadata": {
    "colab_type": "text",
    "id": "dLTPoUxwyYG6"
   },
   "source": [
    "The keras functional api provides a very flexible modelling environment and it is very suitable for our problem. It is possible to combine different types of data such as text data, image data and tabular data can be used all together. The whole dataset is trained by using the same objective function which makes the predictions more roboust. The website https://stackabuse.com/python-for-nlp-creating-multi-data-type-classification-models-with-keras/  and https://www.tensorflow.org/guide/keras/functional are very helpful to understand the mechanism of functional api."
   ]
  },
  {
   "cell_type": "code",
   "execution_count": 157,
   "metadata": {
    "colab": {},
    "colab_type": "code",
    "id": "dvkMERtSqg_2"
   },
   "outputs": [],
   "source": [
    "from keras.models import *\n",
    "from keras.layers import *\n",
    "from keras.callbacks import *\n",
    "import tensorflow as tf\n"
   ]
  },
  {
   "cell_type": "code",
   "execution_count": 190,
   "metadata": {
    "colab": {},
    "colab_type": "code",
    "id": "bXCU53bwE8nE"
   },
   "outputs": [],
   "source": [
    "input_1 = Input(shape=(max_body_length,))\n",
    "\n",
    "input_2 = Input(shape=(max_title_length,))\n",
    "\n",
    "input_3 = Input(shape=(9,))"
   ]
  },
  {
   "cell_type": "code",
   "execution_count": 191,
   "metadata": {
    "colab": {},
    "colab_type": "code",
    "id": "EGrN4zbRE_ne"
   },
   "outputs": [],
   "source": [
    "embedding_layer_1 = Embedding(NUM_WORDS, EMBEDDING_DIM, weights=[embedding_matrix_body], trainable=False)(input_1)\n",
    "LSTM_Layer_1 = LSTM(128)(embedding_layer_1)"
   ]
  },
  {
   "cell_type": "code",
   "execution_count": 192,
   "metadata": {
    "colab": {},
    "colab_type": "code",
    "id": "FmXQH34m6gE5"
   },
   "outputs": [],
   "source": [
    "embedding_layer_2=Embedding(size_of_vocabulary_title, EMBEDDING_DIM, weights=[embedding_matrix_title], trainable=False)(input_2)\n",
    "LSTM_Layer_2 = LSTM(128)(embedding_layer_2)"
   ]
  },
  {
   "cell_type": "code",
   "execution_count": 193,
   "metadata": {
    "colab": {},
    "colab_type": "code",
    "id": "O3tf2BMaFHMD"
   },
   "outputs": [],
   "source": [
    "dense_layer_1 = Dense(16, activation='relu')(input_3)\n",
    "dense_layer_2 = Dense(16, activation='relu')(dense_layer_1)"
   ]
  },
  {
   "cell_type": "code",
   "execution_count": 194,
   "metadata": {
    "colab": {},
    "colab_type": "code",
    "id": "n3yGD07oFJob"
   },
   "outputs": [],
   "source": [
    "concat_layer = Concatenate()([LSTM_Layer_1, LSTM_Layer_2, dense_layer_2])\n",
    "dense_layer_3 = Dense(64, activation='relu')(concat_layer)\n",
    "dense_layer_4 = Dense(16, activation='relu')(dense_layer_3)\n",
    "output = Dense(1, activation='sigmoid')(dense_layer_4)  #The first task is classification, therefore sigmoid is chosen\n",
    "mixed_input = Model(inputs=[input_1, input_2, input_3], outputs=output)"
   ]
  },
  {
   "cell_type": "code",
   "execution_count": 195,
   "metadata": {
    "colab": {
     "base_uri": "https://localhost:8080/",
     "height": 675
    },
    "colab_type": "code",
    "id": "m5qdSADcFVvw",
    "outputId": "54a09cb6-00ae-47fe-c27f-c8f428d432bf"
   },
   "outputs": [
    {
     "name": "stdout",
     "output_type": "stream",
     "text": [
      "Model: \"functional_11\"\n",
      "__________________________________________________________________________________________________\n",
      "Layer (type)                    Output Shape         Param #     Connected to                     \n",
      "==================================================================================================\n",
      "input_16 (InputLayer)           [(None, 1000)]       0                                            \n",
      "__________________________________________________________________________________________________\n",
      "input_17 (InputLayer)           [(None, 14)]         0                                            \n",
      "__________________________________________________________________________________________________\n",
      "input_18 (InputLayer)           [(None, 9)]          0                                            \n",
      "__________________________________________________________________________________________________\n",
      "embedding_12 (Embedding)        (None, 1000, 50)     500000      input_16[0][0]                   \n",
      "__________________________________________________________________________________________________\n",
      "embedding_13 (Embedding)        (None, 14, 50)       1099700     input_17[0][0]                   \n",
      "__________________________________________________________________________________________________\n",
      "dense_39 (Dense)                (None, 16)           160         input_18[0][0]                   \n",
      "__________________________________________________________________________________________________\n",
      "lstm_12 (LSTM)                  (None, 128)          91648       embedding_12[0][0]               \n",
      "__________________________________________________________________________________________________\n",
      "lstm_13 (LSTM)                  (None, 128)          91648       embedding_13[0][0]               \n",
      "__________________________________________________________________________________________________\n",
      "dense_40 (Dense)                (None, 16)           272         dense_39[0][0]                   \n",
      "__________________________________________________________________________________________________\n",
      "concatenate_8 (Concatenate)     (None, 272)          0           lstm_12[0][0]                    \n",
      "                                                                 lstm_13[0][0]                    \n",
      "                                                                 dense_40[0][0]                   \n",
      "__________________________________________________________________________________________________\n",
      "dense_41 (Dense)                (None, 64)           17472       concatenate_8[0][0]              \n",
      "__________________________________________________________________________________________________\n",
      "dense_42 (Dense)                (None, 16)           1040        dense_41[0][0]                   \n",
      "__________________________________________________________________________________________________\n",
      "dense_43 (Dense)                (None, 1)            17          dense_42[0][0]                   \n",
      "==================================================================================================\n",
      "Total params: 1,801,957\n",
      "Trainable params: 202,257\n",
      "Non-trainable params: 1,599,700\n",
      "__________________________________________________________________________________________________\n",
      "None\n"
     ]
    }
   ],
   "source": [
    "mixed_input.compile(loss='binary_crossentropy', optimizer='adam', metrics=['acc'])\n",
    "print(mixed_input.summary())"
   ]
  },
  {
   "cell_type": "code",
   "execution_count": 196,
   "metadata": {
    "colab": {
     "base_uri": "https://localhost:8080/",
     "height": 754
    },
    "colab_type": "code",
    "id": "uf5DyG5i6MYS",
    "outputId": "aa3229cf-3b04-4ee5-eb41-4eada694867a"
   },
   "outputs": [
    {
     "data": {
      "image/png": "[encoded data removed]",
      "text/plain": [
       "<IPython.core.display.Image object>"
      ]
     },
     "execution_count": 196,
     "metadata": {
      "tags": []
     },
     "output_type": "execute_result"
    }
   ],
   "source": [
    "#the network diagram of the first part of the  mixed input model\n",
    "from keras.utils import plot_model\n",
    "plot_model(mixed_input, to_file='model_plot1.png', show_shapes=True, show_layer_names=True)"
   ]
  },
  {
   "cell_type": "code",
   "execution_count": 189,
   "metadata": {
    "colab": {
     "base_uri": "https://localhost:8080/",
     "height": 177
    },
    "colab_type": "code",
    "id": "BvgymCxCn5-H",
    "outputId": "20e254be-2896-428f-b357-60f047bf7106"
   },
   "outputs": [
    {
     "data": {
      "text/plain": [
       "['responsesCreatedCount',\n",
       " 'wordCount',\n",
       " 'titleLength',\n",
       " 'imageCount',\n",
       " 'language_other',\n",
       " 'publication_TDS',\n",
       " 'publication_author',\n",
       " 'publication_others',\n",
       " 'publication_NT']"
      ]
     },
     "execution_count": 189,
     "metadata": {
      "tags": []
     },
     "output_type": "execute_result"
    }
   ],
   "source": [
    "columnsToKeep"
   ]
  },
  {
   "cell_type": "code",
   "execution_count": 197,
   "metadata": {
    "colab": {},
    "colab_type": "code",
    "id": "98zyueEEkZjJ"
   },
   "outputs": [],
   "source": [
    "filepath=\"/drive/My Drive/Colab_Data_Files/weights-improvement-{epoch:02d}-{val_loss:.2f}.hdf5\"\n",
    "checkpoint = ModelCheckpoint(filepath, monitor='val_loss', verbose=1, save_best_only=True, mode='max')\n",
    "callbacks_list = [checkpoint]"
   ]
  },
  {
   "cell_type": "code",
   "execution_count": 199,
   "metadata": {
    "colab": {
     "base_uri": "https://localhost:8080/",
     "height": 230
    },
    "colab_type": "code",
    "id": "QkUHqfKSFbdw",
    "outputId": "546bc979-37ff-42fa-8d83-ae4b13563158"
   },
   "outputs": [
    {
     "name": "stdout",
     "output_type": "stream",
     "text": [
      "Epoch 1/3\n",
      "317/317 [==============================] - ETA: 0s - loss: 0.5646 - acc: 0.6994\n",
      "Epoch 00001: val_loss improved from -inf to 0.53944, saving model to /drive/My Drive/Colab_Data_Files/weights-improvement-01-0.54.hdf5\n",
      "317/317 [==============================] - 1019s 3s/step - loss: 0.5646 - acc: 0.6994 - val_loss: 0.5394 - val_acc: 0.7144\n",
      "Epoch 2/3\n",
      "317/317 [==============================] - ETA: 0s - loss: 0.5275 - acc: 0.7258\n",
      "Epoch 00002: val_loss did not improve from 0.53944\n",
      "317/317 [==============================] - 1012s 3s/step - loss: 0.5275 - acc: 0.7258 - val_loss: 0.5249 - val_acc: 0.7239\n",
      "Epoch 3/3\n",
      "317/317 [==============================] - ETA: 0s - loss: 0.5143 - acc: 0.7347\n",
      "Epoch 00003: val_loss did not improve from 0.53944\n",
      "317/317 [==============================] - 1020s 3s/step - loss: 0.5143 - acc: 0.7347 - val_loss: 0.5180 - val_acc: 0.7319\n"
     ]
    }
   ],
   "source": [
    "history = mixed_input.fit(x=[train_int_body,train_int_title, X_train[columnsToKeep]], y=y_lr_train, batch_size=128, epochs=3, verbose=1, callbacks=callbacks_list, \n",
    "                    validation_split=0.3)"
   ]
  },
  {
   "cell_type": "code",
   "execution_count": 200,
   "metadata": {
    "colab": {},
    "colab_type": "code",
    "id": "MmdyDtQ8R6MP"
   },
   "outputs": [],
   "source": [
    "y_test_pred_mixed_1=mixed_input.predict([test_int_body,test_int_title,X_test[columnsToKeep]])"
   ]
  },
  {
   "cell_type": "code",
   "execution_count": 201,
   "metadata": {
    "colab": {},
    "colab_type": "code",
    "id": "ZZEzh--2U1kY"
   },
   "outputs": [],
   "source": [
    "from sklearn.metrics import confusion_matrix"
   ]
  },
  {
   "cell_type": "code",
   "execution_count": 202,
   "metadata": {
    "colab": {
     "base_uri": "https://localhost:8080/",
     "height": 283
    },
    "colab_type": "code",
    "id": "PV6SnR7oM-on",
    "outputId": "611ebbab-dae7-4b17-b6af-ab3c4e29771a"
   },
   "outputs": [
    {
     "data": {
      "text/plain": [
       "<matplotlib.axes._subplots.AxesSubplot at 0x7f20d2e64320>"
      ]
     },
     "execution_count": 202,
     "metadata": {
      "tags": []
     },
     "output_type": "execute_result"
    },
    {
     "data": {
      "image/png": "[encoded data removed]",
      "text/plain": [
       "<Figure size 432x288 with 2 Axes>"
      ]
     },
     "metadata": {
      "needs_background": "light",
      "tags": []
     },
     "output_type": "display_data"
    }
   ],
   "source": [
    "cf_matrix = confusion_matrix(y_lr_test, y_test_pred_mixed_1>0.5)\n",
    "sns.heatmap(cf_matrix,annot=True, fmt=\".1f\")"
   ]
  },
  {
   "cell_type": "markdown",
   "metadata": {
    "colab_type": "text",
    "id": "XjcubxNiW1ih"
   },
   "source": [
    "**MIXED INPUT MODEL - REGRESSION**"
   ]
  },
  {
   "cell_type": "code",
   "execution_count": 213,
   "metadata": {
    "colab": {},
    "colab_type": "code",
    "id": "ysaMRN2IW0sg"
   },
   "outputs": [],
   "source": [
    "#in the second part only the training records which has more than 0 clap is considered\n",
    "i = np.where(y_train>0)\n",
    "train_int_body_reg=train_int_body[i]#body of the text\n",
    "train_int_title_reg=train_int_title[i]#body of the text\n",
    "X_train_reg=X_train.loc[i]#tabular data\n",
    "y_train_reg=y_train[y_train>0]#target"
   ]
  },
  {
   "cell_type": "code",
   "execution_count": 235,
   "metadata": {
    "colab": {},
    "colab_type": "code",
    "id": "BvfnFFIklyfh"
   },
   "outputs": [],
   "source": [
    "input_1 = Input(shape=(max_body_length,))\n",
    "\n",
    "input_2 = Input(shape=(max_title_length,))\n",
    "\n",
    "input_3 = Input(shape=(9,))"
   ]
  },
  {
   "cell_type": "code",
   "execution_count": 236,
   "metadata": {
    "colab": {},
    "colab_type": "code",
    "id": "WY2b3SZunc3f"
   },
   "outputs": [],
   "source": [
    "embedding_layer_1 = Embedding(NUM_WORDS, EMBEDDING_DIM, weights=[embedding_matrix_body], trainable=False)(input_1)\n",
    "LSTM_Layer_1 = LSTM(128)(embedding_layer_1)"
   ]
  },
  {
   "cell_type": "code",
   "execution_count": 237,
   "metadata": {
    "colab": {},
    "colab_type": "code",
    "id": "IfoGb5njCD-I"
   },
   "outputs": [],
   "source": [
    "embedding_layer_2 = Embedding(size_of_vocabulary_title, EMBEDDING_DIM, weights=[embedding_matrix_title], trainable=False)(input_2)\n",
    "LSTM_Layer_2 = LSTM(128)(embedding_layer_2)"
   ]
  },
  {
   "cell_type": "code",
   "execution_count": 238,
   "metadata": {
    "colab": {},
    "colab_type": "code",
    "id": "l98NeGqNnkEo"
   },
   "outputs": [],
   "source": [
    "dense_layer_1 = Dense(16, activation='relu')(input_3)\n",
    "dense_layer_2 = Dense(16, activation='relu')(dense_layer_1)"
   ]
  },
  {
   "cell_type": "code",
   "execution_count": 239,
   "metadata": {
    "colab": {},
    "colab_type": "code",
    "id": "OHpBFN6BnuEW"
   },
   "outputs": [],
   "source": [
    "concat_layer = Concatenate()([LSTM_Layer_1,LSTM_Layer_2, dense_layer_2])\n",
    "dense_layer_3 = Dense(10, activation='relu')(concat_layer)\n",
    "output = Dense(1, activation='relu')(dense_layer_3)\n",
    "mixed_input_final = Model(inputs=[input_1, input_2,input_3], outputs=output)"
   ]
  },
  {
   "cell_type": "code",
   "execution_count": 240,
   "metadata": {
    "colab": {
     "base_uri": "https://localhost:8080/",
     "height": 639
    },
    "colab_type": "code",
    "id": "kiYKnXubnzgg",
    "outputId": "96711ecb-1c9e-4c06-8468-df11164d44fa"
   },
   "outputs": [
    {
     "name": "stdout",
     "output_type": "stream",
     "text": [
      "Model: \"functional_20\"\n",
      "__________________________________________________________________________________________________\n",
      "Layer (type)                    Output Shape         Param #     Connected to                     \n",
      "==================================================================================================\n",
      "input_31 (InputLayer)           [(None, 1000)]       0                                            \n",
      "__________________________________________________________________________________________________\n",
      "input_32 (InputLayer)           [(None, 14)]         0                                            \n",
      "__________________________________________________________________________________________________\n",
      "input_33 (InputLayer)           [(None, 9)]          0                                            \n",
      "__________________________________________________________________________________________________\n",
      "embedding_22 (Embedding)        (None, 1000, 50)     500000      input_31[0][0]                   \n",
      "__________________________________________________________________________________________________\n",
      "embedding_23 (Embedding)        (None, 14, 50)       1099700     input_32[0][0]                   \n",
      "__________________________________________________________________________________________________\n",
      "dense_60 (Dense)                (None, 16)           160         input_33[0][0]                   \n",
      "__________________________________________________________________________________________________\n",
      "lstm_22 (LSTM)                  (None, 128)          91648       embedding_22[0][0]               \n",
      "__________________________________________________________________________________________________\n",
      "lstm_23 (LSTM)                  (None, 128)          91648       embedding_23[0][0]               \n",
      "__________________________________________________________________________________________________\n",
      "dense_61 (Dense)                (None, 16)           272         dense_60[0][0]                   \n",
      "__________________________________________________________________________________________________\n",
      "concatenate_13 (Concatenate)    (None, 272)          0           lstm_22[0][0]                    \n",
      "                                                                 lstm_23[0][0]                    \n",
      "                                                                 dense_61[0][0]                   \n",
      "__________________________________________________________________________________________________\n",
      "dense_62 (Dense)                (None, 10)           2730        concatenate_13[0][0]             \n",
      "__________________________________________________________________________________________________\n",
      "dense_63 (Dense)                (None, 1)            11          dense_62[0][0]                   \n",
      "==================================================================================================\n",
      "Total params: 1,786,169\n",
      "Trainable params: 186,469\n",
      "Non-trainable params: 1,599,700\n",
      "__________________________________________________________________________________________________\n",
      "None\n"
     ]
    }
   ],
   "source": [
    "mixed_input_final.compile(loss='mse', optimizer='adam', metrics=['mse'])\n",
    "print(mixed_input_final.summary())"
   ]
  },
  {
   "cell_type": "code",
   "execution_count": 241,
   "metadata": {
    "colab": {
     "base_uri": "https://localhost:8080/",
     "height": 644
    },
    "colab_type": "code",
    "id": "msQeqVzKCi1H",
    "outputId": "2fed4b21-ab0d-48ca-a547-2ec170928823"
   },
   "outputs": [
    {
     "data": {
      "image/png": "[encoded data removed]",
      "text/plain": [
       "<IPython.core.display.Image object>"
      ]
     },
     "execution_count": 241,
     "metadata": {
      "tags": []
     },
     "output_type": "execute_result"
    }
   ],
   "source": [
    "plot_model(mixed_input_final, to_file='model_plot2.png', show_shapes=True, show_layer_names=True)"
   ]
  },
  {
   "cell_type": "code",
   "execution_count": 243,
   "metadata": {
    "colab": {
     "base_uri": "https://localhost:8080/",
     "height": 124
    },
    "colab_type": "code",
    "id": "0tMwvQHNoWd2",
    "outputId": "35c977d1-0dae-46dc-a110-e104ba16e113"
   },
   "outputs": [
    {
     "name": "stdout",
     "output_type": "stream",
     "text": [
      "Epoch 1/3\n",
      "216/216 [==============================] - 691s 3s/step - loss: 1570795.7500 - mse: 1570795.7500 - val_loss: 2058244.5000 - val_mse: 2058244.5000\n",
      "Epoch 2/3\n",
      "216/216 [==============================] - 695s 3s/step - loss: 1544750.2500 - mse: 1544750.2500 - val_loss: 2047932.8750 - val_mse: 2047932.8750\n",
      "Epoch 3/3\n",
      "216/216 [==============================] - 701s 3s/step - loss: 1537771.6250 - mse: 1537771.6250 - val_loss: 2040766.7500 - val_mse: 2040766.7500\n"
     ]
    }
   ],
   "source": [
    "history = mixed_input_final.fit(x=[train_int_body_reg,train_int_title_reg, X_train_reg[columnsToKeep]], y=y_train_reg, batch_size=128, epochs=3, verbose=1, \n",
    "                    validation_split=0.3)"
   ]
  },
  {
   "cell_type": "code",
   "execution_count": 244,
   "metadata": {
    "colab": {},
    "colab_type": "code",
    "id": "Xi2Bns7AR7X8"
   },
   "outputs": [],
   "source": [
    "y_test_pred_mixed_2=mixed_input.predict([test_int_body,test_int_title,X_test[columnsToKeep]])"
   ]
  },
  {
   "cell_type": "code",
   "execution_count": 245,
   "metadata": {
    "colab": {},
    "colab_type": "code",
    "id": "pYNgqEvmR_94"
   },
   "outputs": [],
   "source": [
    "y_test_pred_mixed_final=y_test_pred_mixed_2*y_test_pred_mixed_1"
   ]
  },
  {
   "cell_type": "code",
   "execution_count": 248,
   "metadata": {
    "colab": {
     "base_uri": "https://localhost:8080/",
     "height": 35
    },
    "colab_type": "code",
    "id": "JubNbpqOSRVt",
    "outputId": "f2520074-61e2-45f9-a8c7-625d24f89d69"
   },
   "outputs": [
    {
     "data": {
      "text/plain": [
       "994720.9445708467"
      ]
     },
     "execution_count": 248,
     "metadata": {
      "tags": []
     },
     "output_type": "execute_result"
    }
   ],
   "source": [
    "mse_mixed_final=metrics.mean_squared_error((y_test), (y_test_pred_mixed_final)) \n",
    "mse_mixed_final"
   ]
  },
  {
   "cell_type": "code",
   "execution_count": 266,
   "metadata": {
    "colab": {},
    "colab_type": "code",
    "id": "tM4vLu71SYLD"
   },
   "outputs": [],
   "source": [
    "MSE['mixed_final']=mse_mixed_final"
   ]
  },
  {
   "cell_type": "markdown",
   "metadata": {
    "colab_type": "text",
    "id": "s92yVZymUsnR"
   },
   "source": [
    "The best performing model is the second one, i.e. neural network with only tabular data. Glove performs slightly better than training the embeddings in an LSTM network. Unfortunately, the mixed input model gives the worst results. I will use second model to predict the test set target variable. Although the purpose of the assignment is to create a good prediction model with text data, tabular data alone performs much better than text data alone or text data combines tabular data. Therefore, I will calculate claps based on the neural network model with only tabular data "
   ]
  },
  {
   "cell_type": "code",
   "execution_count": 267,
   "metadata": {
    "colab": {
     "base_uri": "https://localhost:8080/",
     "height": 76
    },
    "colab_type": "code",
    "id": "OTXD5DAWUqt3",
    "outputId": "c97cef99-66a7-46d3-eb63-c02eaa55e1dd"
   },
   "outputs": [
    {
     "data": {
      "text/html": [
       "<div>\n",
       "<style scoped>\n",
       "    .dataframe tbody tr th:only-of-type {\n",
       "        vertical-align: middle;\n",
       "    }\n",
       "\n",
       "    .dataframe tbody tr th {\n",
       "        vertical-align: top;\n",
       "    }\n",
       "\n",
       "    .dataframe thead th {\n",
       "        text-align: right;\n",
       "    }\n",
       "</style>\n",
       "<table border=\"1\" class=\"dataframe\">\n",
       "  <thead>\n",
       "    <tr style=\"text-align: right;\">\n",
       "      <th></th>\n",
       "      <th>LogLin</th>\n",
       "      <th>nn_Only_Tabular</th>\n",
       "      <th>onlyText</th>\n",
       "      <th>onlyText_Glove</th>\n",
       "      <th>mixed_final</th>\n",
       "    </tr>\n",
       "  </thead>\n",
       "  <tbody>\n",
       "    <tr>\n",
       "      <th>0</th>\n",
       "      <td>573939.833636</td>\n",
       "      <td>544286.875</td>\n",
       "      <td>987221.3125</td>\n",
       "      <td>970920.4375</td>\n",
       "      <td>994720.944571</td>\n",
       "    </tr>\n",
       "  </tbody>\n",
       "</table>\n",
       "</div>"
      ],
      "text/plain": [
       "          LogLin  nn_Only_Tabular     onlyText  onlyText_Glove    mixed_final\n",
       "0  573939.833636       544286.875  987221.3125     970920.4375  994720.944571"
      ]
     },
     "execution_count": 267,
     "metadata": {
      "tags": []
     },
     "output_type": "execute_result"
    }
   ],
   "source": [
    "MSE"
   ]
  },
  {
   "cell_type": "code",
   "execution_count": 285,
   "metadata": {
    "colab": {},
    "colab_type": "code",
    "id": "_4KSmvzNXKz_"
   },
   "outputs": [],
   "source": [
    "final_predictions['index']=range(0,514)"
   ]
  },
  {
   "cell_type": "code",
   "execution_count": 286,
   "metadata": {
    "colab": {},
    "colab_type": "code",
    "id": "CWSuTSqOV2ZJ"
   },
   "outputs": [],
   "source": [
    "test_2_predictions = NN_model.predict(test_2[columnsToKeep])"
   ]
  },
  {
   "cell_type": "code",
   "execution_count": 287,
   "metadata": {
    "colab": {},
    "colab_type": "code",
    "id": "jZXpsER-WD9w"
   },
   "outputs": [],
   "source": [
    "final_predictions['Claps']=test_2_predictions"
   ]
  },
  {
   "cell_type": "code",
   "execution_count": 288,
   "metadata": {
    "colab": {
     "base_uri": "https://localhost:8080/",
     "height": 399
    },
    "colab_type": "code",
    "id": "Rh5IUVOyXEYh",
    "outputId": "ae2112ce-888f-4f2d-f7ea-b39a9ade3d5a"
   },
   "outputs": [
    {
     "data": {
      "text/html": [
       "<div>\n",
       "<style scoped>\n",
       "    .dataframe tbody tr th:only-of-type {\n",
       "        vertical-align: middle;\n",
       "    }\n",
       "\n",
       "    .dataframe tbody tr th {\n",
       "        vertical-align: top;\n",
       "    }\n",
       "\n",
       "    .dataframe thead th {\n",
       "        text-align: right;\n",
       "    }\n",
       "</style>\n",
       "<table border=\"1\" class=\"dataframe\">\n",
       "  <thead>\n",
       "    <tr style=\"text-align: right;\">\n",
       "      <th></th>\n",
       "      <th>index</th>\n",
       "      <th>Claps</th>\n",
       "    </tr>\n",
       "  </thead>\n",
       "  <tbody>\n",
       "    <tr>\n",
       "      <th>0</th>\n",
       "      <td>0</td>\n",
       "      <td>57180.285156</td>\n",
       "    </tr>\n",
       "    <tr>\n",
       "      <th>1</th>\n",
       "      <td>1</td>\n",
       "      <td>15519.015625</td>\n",
       "    </tr>\n",
       "    <tr>\n",
       "      <th>2</th>\n",
       "      <td>2</td>\n",
       "      <td>11525.935547</td>\n",
       "    </tr>\n",
       "    <tr>\n",
       "      <th>3</th>\n",
       "      <td>3</td>\n",
       "      <td>6628.435547</td>\n",
       "    </tr>\n",
       "    <tr>\n",
       "      <th>4</th>\n",
       "      <td>4</td>\n",
       "      <td>1026.258057</td>\n",
       "    </tr>\n",
       "    <tr>\n",
       "      <th>...</th>\n",
       "      <td>...</td>\n",
       "      <td>...</td>\n",
       "    </tr>\n",
       "    <tr>\n",
       "      <th>509</th>\n",
       "      <td>509</td>\n",
       "      <td>21707.470703</td>\n",
       "    </tr>\n",
       "    <tr>\n",
       "      <th>510</th>\n",
       "      <td>510</td>\n",
       "      <td>1248.196411</td>\n",
       "    </tr>\n",
       "    <tr>\n",
       "      <th>511</th>\n",
       "      <td>511</td>\n",
       "      <td>663.407349</td>\n",
       "    </tr>\n",
       "    <tr>\n",
       "      <th>512</th>\n",
       "      <td>512</td>\n",
       "      <td>9954.337891</td>\n",
       "    </tr>\n",
       "    <tr>\n",
       "      <th>513</th>\n",
       "      <td>513</td>\n",
       "      <td>2139.089844</td>\n",
       "    </tr>\n",
       "  </tbody>\n",
       "</table>\n",
       "<p>514 rows × 2 columns</p>\n",
       "</div>"
      ],
      "text/plain": [
       "     index         Claps\n",
       "0        0  57180.285156\n",
       "1        1  15519.015625\n",
       "2        2  11525.935547\n",
       "3        3   6628.435547\n",
       "4        4   1026.258057\n",
       "..     ...           ...\n",
       "509    509  21707.470703\n",
       "510    510   1248.196411\n",
       "511    511    663.407349\n",
       "512    512   9954.337891\n",
       "513    513   2139.089844\n",
       "\n",
       "[514 rows x 2 columns]"
      ]
     },
     "execution_count": 288,
     "metadata": {
      "tags": []
     },
     "output_type": "execute_result"
    }
   ],
   "source": [
    "final_predictions"
   ]
  },
  {
   "cell_type": "code",
   "execution_count": 291,
   "metadata": {
    "colab": {},
    "colab_type": "code",
    "id": "hPJjO-MgXn5l"
   },
   "outputs": [],
   "source": [
    "final_predictions.to_csv(DATA_DIR+\"finalPredictions.csv\")"
   ]
  }
 ],
 "metadata": {
  "colab": {
   "collapsed_sections": [],
   "name": "NLP_model.ipynb",
   "provenance": []
  },
  "kernelspec": {
   "display_name": "Python 3 (ipykernel)",
   "language": "python",
   "name": "python3"
  },
  "language_info": {
   "codemirror_mode": {
    "name": "ipython",
    "version": 3
   },
   "file_extension": ".py",
   "mimetype": "text/x-python",
   "name": "python",
   "nbconvert_exporter": "python",
   "pygments_lexer": "ipython3",
   "version": "3.9.6"
  }
 },
 "nbformat": 4,
 "nbformat_minor": 1
}
